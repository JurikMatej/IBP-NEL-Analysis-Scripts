{
 "cells": [
  {
   "cell_type": "code",
   "execution_count": 1,
   "metadata": {
    "collapsed": true
   },
   "outputs": [],
   "source": [
    "import pandas as pd\n",
    "import numpy as np\n",
    "import matplotlib.pyplot as plt\n",
    "import os"
   ]
  },
  {
   "cell_type": "code",
   "execution_count": 2,
   "outputs": [],
   "source": [
    "results_df_dict = {}\n",
    "\n",
    "for root, dirs, files in os.walk(\"results/\"):\n",
    "    for file in sorted(files):\n",
    "        file_path = f\"{root}{file}\"\n",
    "        record_name = file.split('.')[2]\n",
    "        tmp_df = pd.read_parquet(file_path)\n",
    "        results_df_dict[record_name] = tmp_df"
   ],
   "metadata": {
    "collapsed": false
   }
  },
  {
   "cell_type": "code",
   "execution_count": 3,
   "outputs": [
    {
     "data": {
      "text/plain": "['2018_01_01_desktop',\n '2019_02_01_desktop',\n '2020_01_01_desktop',\n '2021_01_01_desktop',\n '2022_01_01_desktop',\n '2023_01_01_desktop']"
     },
     "execution_count": 3,
     "metadata": {},
     "output_type": "execute_result"
    }
   ],
   "source": [
    "keys = list(results_df_dict.keys())\n",
    "keys"
   ],
   "metadata": {
    "collapsed": false
   }
  },
  {
   "cell_type": "code",
   "execution_count": 22,
   "outputs": [],
   "source": [
    "providers_df = pd.DataFrame()\n",
    "\n",
    "for key in keys[1:]:\n",
    "    tmp_df = results_df_dict[key][['rt_url_sld', 'requestid']].groupby(by=['rt_url_sld']).count().sort_values(by='requestid', ascending=False).reset_index()\n",
    "    year = key.split('_')[0]\n",
    "    tmp_df.columns = [f'{year}_sld', f'{year}_cnt']\n",
    "    tmp_df[f'{year}_prcnt'] = 100/len(results_df_dict[key])*tmp_df[f'{year}_cnt']\n",
    "    providers_df = pd.merge(providers_df, tmp_df, how='outer', left_index=True, right_index=True)"
   ],
   "metadata": {
    "collapsed": false
   }
  },
  {
   "cell_type": "code",
   "execution_count": 23,
   "outputs": [
    {
     "data": {
      "text/plain": "            2019_sld  2019_cnt  2019_prcnt            2020_sld  2020_cnt  \\\n0     report-uri.com     310.0   87.323944    shopifycloud.com   79447.0   \n1            3gl.net      20.0    5.633803      report-uri.com     564.0   \n2       uriports.com       9.0    2.535211    highwebmedia.com      66.0   \n3         seloc.club       5.0    1.408451        uriports.com      33.0   \n4       3genlabs.net       2.0    0.563380        linkedin.com      31.0   \n5  bingparachute.com       2.0    0.563380      nelreports.net      26.0   \n6             gie.im       2.0    0.563380             3gl.net      23.0   \n7           gvt2.com       2.0    0.563380  cloudfunctions.net      18.0   \n8          krvtz.net       1.0    0.281690          newegg.com       8.0   \n9       namepros.com       1.0    0.281690            gvt2.com       7.0   \n\n   2020_prcnt             2021_sld  2021_cnt  2021_prcnt             2022_sld  \\\n0   98.988275       cloudflare.com  600209.0   76.274161       cloudflare.com   \n1    0.702725     shopifycloud.com  184595.0   23.458210           cafe24.com   \n2    0.082234       report-uri.com     788.0    0.100139       report-uri.com   \n3    0.041117        wikimedia.org     615.0    0.078154        wikimedia.org   \n4    0.038625           yandex.net     123.0    0.015631             hhdev.ru   \n5    0.032395         uriports.com     109.0    0.013852        gumlytics.com   \n6    0.028657  fastly-insights.com      77.0    0.009785         uriports.com   \n7    0.022427     highwebmedia.com      64.0    0.008133           yandex.net   \n8    0.009968        autistici.org      55.0    0.006989  fastly-insights.com   \n9    0.008722       nelreports.net      48.0    0.006100          booking.com   \n\n   2022_cnt  2022_prcnt        2023_sld  2023_cnt  2023_prcnt  \n0  691649.0   98.072994  cloudflare.com   1720056   97.733897  \n1   10315.0    1.462625      cafe24.com     14985    0.851450  \n2     889.0    0.126057      office.net      8129    0.461891  \n3     602.0    0.085361   freshedge.net      7266    0.412855  \n4     392.0    0.055584  cloudfront.net      3319    0.188586  \n5     256.0    0.036300  report-uri.com      1418    0.080571  \n6     182.0    0.025807  nelreports.net      1202    0.068298  \n7     170.0    0.024105   wikimedia.org       759    0.043127  \n8      99.0    0.014038   gumlytics.com       578    0.032842  \n9      88.0    0.012478       mmcdn.com       531    0.030172  ",
      "text/html": "<div>\n<style scoped>\n    .dataframe tbody tr th:only-of-type {\n        vertical-align: middle;\n    }\n\n    .dataframe tbody tr th {\n        vertical-align: top;\n    }\n\n    .dataframe thead th {\n        text-align: right;\n    }\n</style>\n<table border=\"1\" class=\"dataframe\">\n  <thead>\n    <tr style=\"text-align: right;\">\n      <th></th>\n      <th>2019_sld</th>\n      <th>2019_cnt</th>\n      <th>2019_prcnt</th>\n      <th>2020_sld</th>\n      <th>2020_cnt</th>\n      <th>2020_prcnt</th>\n      <th>2021_sld</th>\n      <th>2021_cnt</th>\n      <th>2021_prcnt</th>\n      <th>2022_sld</th>\n      <th>2022_cnt</th>\n      <th>2022_prcnt</th>\n      <th>2023_sld</th>\n      <th>2023_cnt</th>\n      <th>2023_prcnt</th>\n    </tr>\n  </thead>\n  <tbody>\n    <tr>\n      <th>0</th>\n      <td>report-uri.com</td>\n      <td>310.0</td>\n      <td>87.323944</td>\n      <td>shopifycloud.com</td>\n      <td>79447.0</td>\n      <td>98.988275</td>\n      <td>cloudflare.com</td>\n      <td>600209.0</td>\n      <td>76.274161</td>\n      <td>cloudflare.com</td>\n      <td>691649.0</td>\n      <td>98.072994</td>\n      <td>cloudflare.com</td>\n      <td>1720056</td>\n      <td>97.733897</td>\n    </tr>\n    <tr>\n      <th>1</th>\n      <td>3gl.net</td>\n      <td>20.0</td>\n      <td>5.633803</td>\n      <td>report-uri.com</td>\n      <td>564.0</td>\n      <td>0.702725</td>\n      <td>shopifycloud.com</td>\n      <td>184595.0</td>\n      <td>23.458210</td>\n      <td>cafe24.com</td>\n      <td>10315.0</td>\n      <td>1.462625</td>\n      <td>cafe24.com</td>\n      <td>14985</td>\n      <td>0.851450</td>\n    </tr>\n    <tr>\n      <th>2</th>\n      <td>uriports.com</td>\n      <td>9.0</td>\n      <td>2.535211</td>\n      <td>highwebmedia.com</td>\n      <td>66.0</td>\n      <td>0.082234</td>\n      <td>report-uri.com</td>\n      <td>788.0</td>\n      <td>0.100139</td>\n      <td>report-uri.com</td>\n      <td>889.0</td>\n      <td>0.126057</td>\n      <td>office.net</td>\n      <td>8129</td>\n      <td>0.461891</td>\n    </tr>\n    <tr>\n      <th>3</th>\n      <td>seloc.club</td>\n      <td>5.0</td>\n      <td>1.408451</td>\n      <td>uriports.com</td>\n      <td>33.0</td>\n      <td>0.041117</td>\n      <td>wikimedia.org</td>\n      <td>615.0</td>\n      <td>0.078154</td>\n      <td>wikimedia.org</td>\n      <td>602.0</td>\n      <td>0.085361</td>\n      <td>freshedge.net</td>\n      <td>7266</td>\n      <td>0.412855</td>\n    </tr>\n    <tr>\n      <th>4</th>\n      <td>3genlabs.net</td>\n      <td>2.0</td>\n      <td>0.563380</td>\n      <td>linkedin.com</td>\n      <td>31.0</td>\n      <td>0.038625</td>\n      <td>yandex.net</td>\n      <td>123.0</td>\n      <td>0.015631</td>\n      <td>hhdev.ru</td>\n      <td>392.0</td>\n      <td>0.055584</td>\n      <td>cloudfront.net</td>\n      <td>3319</td>\n      <td>0.188586</td>\n    </tr>\n    <tr>\n      <th>5</th>\n      <td>bingparachute.com</td>\n      <td>2.0</td>\n      <td>0.563380</td>\n      <td>nelreports.net</td>\n      <td>26.0</td>\n      <td>0.032395</td>\n      <td>uriports.com</td>\n      <td>109.0</td>\n      <td>0.013852</td>\n      <td>gumlytics.com</td>\n      <td>256.0</td>\n      <td>0.036300</td>\n      <td>report-uri.com</td>\n      <td>1418</td>\n      <td>0.080571</td>\n    </tr>\n    <tr>\n      <th>6</th>\n      <td>gie.im</td>\n      <td>2.0</td>\n      <td>0.563380</td>\n      <td>3gl.net</td>\n      <td>23.0</td>\n      <td>0.028657</td>\n      <td>fastly-insights.com</td>\n      <td>77.0</td>\n      <td>0.009785</td>\n      <td>uriports.com</td>\n      <td>182.0</td>\n      <td>0.025807</td>\n      <td>nelreports.net</td>\n      <td>1202</td>\n      <td>0.068298</td>\n    </tr>\n    <tr>\n      <th>7</th>\n      <td>gvt2.com</td>\n      <td>2.0</td>\n      <td>0.563380</td>\n      <td>cloudfunctions.net</td>\n      <td>18.0</td>\n      <td>0.022427</td>\n      <td>highwebmedia.com</td>\n      <td>64.0</td>\n      <td>0.008133</td>\n      <td>yandex.net</td>\n      <td>170.0</td>\n      <td>0.024105</td>\n      <td>wikimedia.org</td>\n      <td>759</td>\n      <td>0.043127</td>\n    </tr>\n    <tr>\n      <th>8</th>\n      <td>krvtz.net</td>\n      <td>1.0</td>\n      <td>0.281690</td>\n      <td>newegg.com</td>\n      <td>8.0</td>\n      <td>0.009968</td>\n      <td>autistici.org</td>\n      <td>55.0</td>\n      <td>0.006989</td>\n      <td>fastly-insights.com</td>\n      <td>99.0</td>\n      <td>0.014038</td>\n      <td>gumlytics.com</td>\n      <td>578</td>\n      <td>0.032842</td>\n    </tr>\n    <tr>\n      <th>9</th>\n      <td>namepros.com</td>\n      <td>1.0</td>\n      <td>0.281690</td>\n      <td>gvt2.com</td>\n      <td>7.0</td>\n      <td>0.008722</td>\n      <td>nelreports.net</td>\n      <td>48.0</td>\n      <td>0.006100</td>\n      <td>booking.com</td>\n      <td>88.0</td>\n      <td>0.012478</td>\n      <td>mmcdn.com</td>\n      <td>531</td>\n      <td>0.030172</td>\n    </tr>\n  </tbody>\n</table>\n</div>"
     },
     "execution_count": 23,
     "metadata": {},
     "output_type": "execute_result"
    }
   ],
   "source": [
    "providers_df.head(10)"
   ],
   "metadata": {
    "collapsed": false
   }
  }
 ],
 "metadata": {
  "kernelspec": {
   "display_name": "Python 3",
   "language": "python",
   "name": "python3"
  },
  "language_info": {
   "codemirror_mode": {
    "name": "ipython",
    "version": 2
   },
   "file_extension": ".py",
   "mimetype": "text/x-python",
   "name": "python",
   "nbconvert_exporter": "python",
   "pygments_lexer": "ipython2",
   "version": "2.7.6"
  }
 },
 "nbformat": 4,
 "nbformat_minor": 0
}

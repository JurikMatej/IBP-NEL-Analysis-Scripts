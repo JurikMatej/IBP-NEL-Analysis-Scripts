{
 "cells": [
  {
   "cell_type": "code",
   "execution_count": 1,
   "metadata": {
    "collapsed": true
   },
   "outputs": [],
   "source": [
    "import pandas as pd\n",
    "import numpy as np\n",
    "import matplotlib.pyplot as plt\n",
    "import os"
   ]
  },
  {
   "cell_type": "code",
   "execution_count": 2,
   "outputs": [],
   "source": [
    "results_df_dict = {}\n",
    "\n",
    "for root, dirs, files in os.walk(\"results/\"):\n",
    "    for file in sorted(files):\n",
    "        file_path = f\"{root}{file}\"\n",
    "        record_name = file.split('.')[2]\n",
    "        tmp_df = pd.read_parquet(file_path)\n",
    "        results_df_dict[record_name] = tmp_df"
   ],
   "metadata": {
    "collapsed": false
   }
  },
  {
   "cell_type": "code",
   "execution_count": 3,
   "outputs": [
    {
     "data": {
      "text/plain": "['2018_01_01_desktop',\n '2019_02_01_desktop',\n '2020_01_01_desktop',\n '2021_01_01_desktop',\n '2022_01_01_desktop',\n '2023_01_01_desktop']"
     },
     "execution_count": 3,
     "metadata": {},
     "output_type": "execute_result"
    }
   ],
   "source": [
    "keys = list(results_df_dict.keys())\n",
    "keys"
   ],
   "metadata": {
    "collapsed": false
   }
  },
  {
   "cell_type": "code",
   "execution_count": 4,
   "outputs": [],
   "source": [
    "# nel_include_subdomains default false\n",
    "# nel_success_fraction default 0.0\n",
    "# nel_failure_fraction default 1.0\n",
    "\n",
    "from operator import is_\n",
    "\n",
    "for key in keys[1:]:\n",
    "    tmp_df = results_df_dict[key]\n",
    "\n",
    "    tmp_df['nel_include_subdomains'] = tmp_df['nel_include_subdomains'].astype('bool')\n",
    "    tmp_df['nel_success_fraction'] = tmp_df['nel_success_fraction'].astype('float')\n",
    "    tmp_df['nel_failure_fraction'] = tmp_df['nel_failure_fraction'].astype('float')\n",
    "\n",
    "    tmp_df['nel_include_subdomains'] = np.where(np.vectorize(is_)(tmp_df['nel_include_subdomains'], None), False, tmp_df['nel_include_subdomains'])\n",
    "    tmp_df['nel_success_fraction'] = np.where(np.vectorize(is_)(tmp_df['nel_success_fraction'], None), 0.0, tmp_df['nel_success_fraction'])\n",
    "    tmp_df['nel_failure_fraction'] = np.where(np.vectorize(is_)(tmp_df['nel_failure_fraction'], None), 1.0, tmp_df['nel_failure_fraction'])"
   ],
   "metadata": {
    "collapsed": false
   }
  },
  {
   "cell_type": "code",
   "execution_count": 5,
   "outputs": [],
   "source": [
    "def get_virtue(results_df_dict, what, col_name):\n",
    "    virtue_df = pd.DataFrame()\n",
    "\n",
    "    for key in keys[1:]:\n",
    "        tmp_df = results_df_dict[key][[what, 'requestid']].groupby(by=[what]).count().sort_values(by='requestid', ascending=False).reset_index()\n",
    "        year = key.split('_')[0]\n",
    "        tmp_df.columns = [f'{year}_{col_name}', f'{year}_cnt']\n",
    "        tmp_df[f'{year}_prcnt'] = 100/len(results_df_dict[key])*tmp_df[f'{year}_cnt']\n",
    "        virtue_df = pd.merge(virtue_df, tmp_df, how='outer', left_index=True, right_index=True)\n",
    "\n",
    "    return virtue_df"
   ],
   "metadata": {
    "collapsed": false
   }
  },
  {
   "cell_type": "code",
   "execution_count": 6,
   "outputs": [
    {
     "data": {
      "text/plain": "    2019_success  2019_cnt  2019_prcnt  2020_success  2020_cnt  2020_prcnt  \\\n0         0.0000      23.0    6.478873       0.00010   79448.0   98.989521   \n1         0.0100       2.0    0.563380       0.00066      31.0    0.038625   \n2         0.2500       2.0    0.563380       0.00000      27.0    0.033641   \n3         0.0001       1.0    0.281690       0.00100      25.0    0.031149   \n4            NaN       NaN         NaN       0.05000       5.0    0.006230   \n5            NaN       NaN         NaN       0.25000       2.0    0.002492   \n6            NaN       NaN         NaN       0.01000       1.0    0.001246   \n7            NaN       NaN         NaN       0.10000       1.0    0.001246   \n8            NaN       NaN         NaN       1.00000       1.0    0.001246   \n9            NaN       NaN         NaN           NaN       NaN         NaN   \n10           NaN       NaN         NaN           NaN       NaN         NaN   \n11           NaN       NaN         NaN           NaN       NaN         NaN   \n12           NaN       NaN         NaN           NaN       NaN         NaN   \n\n    2021_success  2021_cnt  2021_prcnt  2022_success  2022_cnt  2022_prcnt  \\\n0        0.00010  184574.0   23.455541       0.00000    642181   91.058634   \n1        0.00000     728.0    0.092514       0.01000     50457    7.154596   \n2        0.00100     176.0    0.022366       0.00100       198    0.028076   \n3        0.00066      39.0    0.004956       0.00500        70    0.009926   \n4        0.01000      19.0    0.002415       0.00066        48    0.006806   \n5        1.00000       4.0    0.000508       0.00010        24    0.003403   \n6        0.05000       3.0    0.000381       0.05000        12    0.001702   \n7        0.10000       2.0    0.000254       0.20000         9    0.001276   \n8            NaN       NaN         NaN       0.10000         2    0.000284   \n9            NaN       NaN         NaN       0.50000         2    0.000284   \n10           NaN       NaN         NaN       1.00000         2    0.000284   \n11           NaN       NaN         NaN       0.00990         1    0.000142   \n12           NaN       NaN         NaN       0.25000         1    0.000142   \n\n    2023_success  2023_cnt  2023_prcnt  \n0        0.00000   1181443   67.129808  \n1        0.01000    539896   30.676990  \n2        0.00100      9031    0.513143  \n3        0.00500       573    0.032558  \n4        0.20000       510    0.028978  \n5        0.00066        18    0.001023  \n6        1.00000        17    0.000966  \n7        0.05000        16    0.000909  \n8        0.00010        11    0.000625  \n9        0.10000        10    0.000568  \n10       0.50000         5    0.000284  \n11       0.02000         3    0.000170  \n12       0.00990         1    0.000057  ",
      "text/html": "<div>\n<style scoped>\n    .dataframe tbody tr th:only-of-type {\n        vertical-align: middle;\n    }\n\n    .dataframe tbody tr th {\n        vertical-align: top;\n    }\n\n    .dataframe thead th {\n        text-align: right;\n    }\n</style>\n<table border=\"1\" class=\"dataframe\">\n  <thead>\n    <tr style=\"text-align: right;\">\n      <th></th>\n      <th>2019_success</th>\n      <th>2019_cnt</th>\n      <th>2019_prcnt</th>\n      <th>2020_success</th>\n      <th>2020_cnt</th>\n      <th>2020_prcnt</th>\n      <th>2021_success</th>\n      <th>2021_cnt</th>\n      <th>2021_prcnt</th>\n      <th>2022_success</th>\n      <th>2022_cnt</th>\n      <th>2022_prcnt</th>\n      <th>2023_success</th>\n      <th>2023_cnt</th>\n      <th>2023_prcnt</th>\n    </tr>\n  </thead>\n  <tbody>\n    <tr>\n      <th>0</th>\n      <td>0.0000</td>\n      <td>23.0</td>\n      <td>6.478873</td>\n      <td>0.00010</td>\n      <td>79448.0</td>\n      <td>98.989521</td>\n      <td>0.00010</td>\n      <td>184574.0</td>\n      <td>23.455541</td>\n      <td>0.00000</td>\n      <td>642181</td>\n      <td>91.058634</td>\n      <td>0.00000</td>\n      <td>1181443</td>\n      <td>67.129808</td>\n    </tr>\n    <tr>\n      <th>1</th>\n      <td>0.0100</td>\n      <td>2.0</td>\n      <td>0.563380</td>\n      <td>0.00066</td>\n      <td>31.0</td>\n      <td>0.038625</td>\n      <td>0.00000</td>\n      <td>728.0</td>\n      <td>0.092514</td>\n      <td>0.01000</td>\n      <td>50457</td>\n      <td>7.154596</td>\n      <td>0.01000</td>\n      <td>539896</td>\n      <td>30.676990</td>\n    </tr>\n    <tr>\n      <th>2</th>\n      <td>0.2500</td>\n      <td>2.0</td>\n      <td>0.563380</td>\n      <td>0.00000</td>\n      <td>27.0</td>\n      <td>0.033641</td>\n      <td>0.00100</td>\n      <td>176.0</td>\n      <td>0.022366</td>\n      <td>0.00100</td>\n      <td>198</td>\n      <td>0.028076</td>\n      <td>0.00100</td>\n      <td>9031</td>\n      <td>0.513143</td>\n    </tr>\n    <tr>\n      <th>3</th>\n      <td>0.0001</td>\n      <td>1.0</td>\n      <td>0.281690</td>\n      <td>0.00100</td>\n      <td>25.0</td>\n      <td>0.031149</td>\n      <td>0.00066</td>\n      <td>39.0</td>\n      <td>0.004956</td>\n      <td>0.00500</td>\n      <td>70</td>\n      <td>0.009926</td>\n      <td>0.00500</td>\n      <td>573</td>\n      <td>0.032558</td>\n    </tr>\n    <tr>\n      <th>4</th>\n      <td>NaN</td>\n      <td>NaN</td>\n      <td>NaN</td>\n      <td>0.05000</td>\n      <td>5.0</td>\n      <td>0.006230</td>\n      <td>0.01000</td>\n      <td>19.0</td>\n      <td>0.002415</td>\n      <td>0.00066</td>\n      <td>48</td>\n      <td>0.006806</td>\n      <td>0.20000</td>\n      <td>510</td>\n      <td>0.028978</td>\n    </tr>\n    <tr>\n      <th>5</th>\n      <td>NaN</td>\n      <td>NaN</td>\n      <td>NaN</td>\n      <td>0.25000</td>\n      <td>2.0</td>\n      <td>0.002492</td>\n      <td>1.00000</td>\n      <td>4.0</td>\n      <td>0.000508</td>\n      <td>0.00010</td>\n      <td>24</td>\n      <td>0.003403</td>\n      <td>0.00066</td>\n      <td>18</td>\n      <td>0.001023</td>\n    </tr>\n    <tr>\n      <th>6</th>\n      <td>NaN</td>\n      <td>NaN</td>\n      <td>NaN</td>\n      <td>0.01000</td>\n      <td>1.0</td>\n      <td>0.001246</td>\n      <td>0.05000</td>\n      <td>3.0</td>\n      <td>0.000381</td>\n      <td>0.05000</td>\n      <td>12</td>\n      <td>0.001702</td>\n      <td>1.00000</td>\n      <td>17</td>\n      <td>0.000966</td>\n    </tr>\n    <tr>\n      <th>7</th>\n      <td>NaN</td>\n      <td>NaN</td>\n      <td>NaN</td>\n      <td>0.10000</td>\n      <td>1.0</td>\n      <td>0.001246</td>\n      <td>0.10000</td>\n      <td>2.0</td>\n      <td>0.000254</td>\n      <td>0.20000</td>\n      <td>9</td>\n      <td>0.001276</td>\n      <td>0.05000</td>\n      <td>16</td>\n      <td>0.000909</td>\n    </tr>\n    <tr>\n      <th>8</th>\n      <td>NaN</td>\n      <td>NaN</td>\n      <td>NaN</td>\n      <td>1.00000</td>\n      <td>1.0</td>\n      <td>0.001246</td>\n      <td>NaN</td>\n      <td>NaN</td>\n      <td>NaN</td>\n      <td>0.10000</td>\n      <td>2</td>\n      <td>0.000284</td>\n      <td>0.00010</td>\n      <td>11</td>\n      <td>0.000625</td>\n    </tr>\n    <tr>\n      <th>9</th>\n      <td>NaN</td>\n      <td>NaN</td>\n      <td>NaN</td>\n      <td>NaN</td>\n      <td>NaN</td>\n      <td>NaN</td>\n      <td>NaN</td>\n      <td>NaN</td>\n      <td>NaN</td>\n      <td>0.50000</td>\n      <td>2</td>\n      <td>0.000284</td>\n      <td>0.10000</td>\n      <td>10</td>\n      <td>0.000568</td>\n    </tr>\n    <tr>\n      <th>10</th>\n      <td>NaN</td>\n      <td>NaN</td>\n      <td>NaN</td>\n      <td>NaN</td>\n      <td>NaN</td>\n      <td>NaN</td>\n      <td>NaN</td>\n      <td>NaN</td>\n      <td>NaN</td>\n      <td>1.00000</td>\n      <td>2</td>\n      <td>0.000284</td>\n      <td>0.50000</td>\n      <td>5</td>\n      <td>0.000284</td>\n    </tr>\n    <tr>\n      <th>11</th>\n      <td>NaN</td>\n      <td>NaN</td>\n      <td>NaN</td>\n      <td>NaN</td>\n      <td>NaN</td>\n      <td>NaN</td>\n      <td>NaN</td>\n      <td>NaN</td>\n      <td>NaN</td>\n      <td>0.00990</td>\n      <td>1</td>\n      <td>0.000142</td>\n      <td>0.02000</td>\n      <td>3</td>\n      <td>0.000170</td>\n    </tr>\n    <tr>\n      <th>12</th>\n      <td>NaN</td>\n      <td>NaN</td>\n      <td>NaN</td>\n      <td>NaN</td>\n      <td>NaN</td>\n      <td>NaN</td>\n      <td>NaN</td>\n      <td>NaN</td>\n      <td>NaN</td>\n      <td>0.25000</td>\n      <td>1</td>\n      <td>0.000142</td>\n      <td>0.00990</td>\n      <td>1</td>\n      <td>0.000057</td>\n    </tr>\n  </tbody>\n</table>\n</div>"
     },
     "execution_count": 6,
     "metadata": {},
     "output_type": "execute_result"
    }
   ],
   "source": [
    "success_df = get_virtue(results_df_dict, 'nel_success_fraction', 'success')\n",
    "success_df"
   ],
   "metadata": {
    "collapsed": false
   }
  },
  {
   "cell_type": "code",
   "execution_count": 7,
   "outputs": [
    {
     "data": {
      "text/plain": "    2019_failure  2019_cnt  2019_prcnt  2020_failure  2020_cnt  2020_prcnt  \\\n0        0.00001     223.0   62.816901       0.01000   79464.0   99.009457   \n1        1.00000      33.0    9.295775       0.00001     268.0    0.333919   \n2        0.10000       3.0    0.845070       1.00000     118.0    0.147024   \n3        0.50000       2.0    0.563380       0.10000      14.0    0.017444   \n4        0.00100       1.0    0.281690       0.50000       4.0    0.004984   \n5        0.01000       1.0    0.281690       0.00010       2.0    0.002492   \n6        0.80000       1.0    0.281690       0.00100       2.0    0.002492   \n7            NaN       NaN         NaN       0.20000       2.0    0.002492   \n8            NaN       NaN         NaN       0.00000       1.0    0.001246   \n9            NaN       NaN         NaN       0.05000       1.0    0.001246   \n10           NaN       NaN         NaN       0.15000       1.0    0.001246   \n11           NaN       NaN         NaN           NaN       NaN         NaN   \n12           NaN       NaN         NaN           NaN       NaN         NaN   \n13           NaN       NaN         NaN           NaN       NaN         NaN   \n14           NaN       NaN         NaN           NaN       NaN         NaN   \n15           NaN       NaN         NaN           NaN       NaN         NaN   \n16           NaN       NaN         NaN           NaN       NaN         NaN   \n17           NaN       NaN         NaN           NaN       NaN         NaN   \n\n    2021_failure  2021_cnt  2021_prcnt  2022_failure  2022_cnt  2022_prcnt  \\\n0        0.05000     634.0    0.080568       0.10000   10415.0    1.476804   \n1        0.00001     325.0    0.041301       0.05000     695.0    0.098548   \n2        1.00000     265.0    0.033676       1.00000     414.0    0.058704   \n3        0.10000     117.0    0.014868       0.00001     393.0    0.055726   \n4        0.01000     100.0    0.012708       0.01000      76.0    0.010776   \n5        0.25000       5.0    0.000635       0.00100      39.0    0.005530   \n6        0.00010       4.0    0.000508       0.15000      13.0    0.001843   \n7        0.20000       4.0    0.000508       0.50000       7.0    0.000993   \n8        0.50000       3.0    0.000381       0.25000       4.0    0.000567   \n9        0.00100       1.0    0.000127       0.90000       4.0    0.000567   \n10           NaN       NaN         NaN       0.20000       2.0    0.000284   \n11           NaN       NaN         NaN       0.00010       1.0    0.000142   \n12           NaN       NaN         NaN       0.04000       1.0    0.000142   \n13           NaN       NaN         NaN       0.99999       1.0    0.000142   \n14           NaN       NaN         NaN           NaN       NaN         NaN   \n15           NaN       NaN         NaN           NaN       NaN         NaN   \n16           NaN       NaN         NaN           NaN       NaN         NaN   \n17           NaN       NaN         NaN           NaN       NaN         NaN   \n\n    2023_failure  2023_cnt  2023_prcnt  \n0       0.100000     15254    0.866735  \n1       1.000000      9741    0.553485  \n2       0.001000      3319    0.188586  \n3       0.050000       880    0.050002  \n4       0.000010       584    0.033183  \n5       0.010000       119    0.006762  \n6       0.200000        79    0.004489  \n7       0.500000        63    0.003580  \n8       0.000001        10    0.000568  \n9       0.250000         7    0.000398  \n10      0.020000         4    0.000227  \n11      0.900000         4    0.000227  \n12      0.150000         3    0.000170  \n13      0.040000         1    0.000057  \n14      0.300000         1    0.000057  \n15      0.000100         1    0.000057  \n16      0.800000         1    0.000057  \n17      0.999990         1    0.000057  ",
      "text/html": "<div>\n<style scoped>\n    .dataframe tbody tr th:only-of-type {\n        vertical-align: middle;\n    }\n\n    .dataframe tbody tr th {\n        vertical-align: top;\n    }\n\n    .dataframe thead th {\n        text-align: right;\n    }\n</style>\n<table border=\"1\" class=\"dataframe\">\n  <thead>\n    <tr style=\"text-align: right;\">\n      <th></th>\n      <th>2019_failure</th>\n      <th>2019_cnt</th>\n      <th>2019_prcnt</th>\n      <th>2020_failure</th>\n      <th>2020_cnt</th>\n      <th>2020_prcnt</th>\n      <th>2021_failure</th>\n      <th>2021_cnt</th>\n      <th>2021_prcnt</th>\n      <th>2022_failure</th>\n      <th>2022_cnt</th>\n      <th>2022_prcnt</th>\n      <th>2023_failure</th>\n      <th>2023_cnt</th>\n      <th>2023_prcnt</th>\n    </tr>\n  </thead>\n  <tbody>\n    <tr>\n      <th>0</th>\n      <td>0.00001</td>\n      <td>223.0</td>\n      <td>62.816901</td>\n      <td>0.01000</td>\n      <td>79464.0</td>\n      <td>99.009457</td>\n      <td>0.05000</td>\n      <td>634.0</td>\n      <td>0.080568</td>\n      <td>0.10000</td>\n      <td>10415.0</td>\n      <td>1.476804</td>\n      <td>0.100000</td>\n      <td>15254</td>\n      <td>0.866735</td>\n    </tr>\n    <tr>\n      <th>1</th>\n      <td>1.00000</td>\n      <td>33.0</td>\n      <td>9.295775</td>\n      <td>0.00001</td>\n      <td>268.0</td>\n      <td>0.333919</td>\n      <td>0.00001</td>\n      <td>325.0</td>\n      <td>0.041301</td>\n      <td>0.05000</td>\n      <td>695.0</td>\n      <td>0.098548</td>\n      <td>1.000000</td>\n      <td>9741</td>\n      <td>0.553485</td>\n    </tr>\n    <tr>\n      <th>2</th>\n      <td>0.10000</td>\n      <td>3.0</td>\n      <td>0.845070</td>\n      <td>1.00000</td>\n      <td>118.0</td>\n      <td>0.147024</td>\n      <td>1.00000</td>\n      <td>265.0</td>\n      <td>0.033676</td>\n      <td>1.00000</td>\n      <td>414.0</td>\n      <td>0.058704</td>\n      <td>0.001000</td>\n      <td>3319</td>\n      <td>0.188586</td>\n    </tr>\n    <tr>\n      <th>3</th>\n      <td>0.50000</td>\n      <td>2.0</td>\n      <td>0.563380</td>\n      <td>0.10000</td>\n      <td>14.0</td>\n      <td>0.017444</td>\n      <td>0.10000</td>\n      <td>117.0</td>\n      <td>0.014868</td>\n      <td>0.00001</td>\n      <td>393.0</td>\n      <td>0.055726</td>\n      <td>0.050000</td>\n      <td>880</td>\n      <td>0.050002</td>\n    </tr>\n    <tr>\n      <th>4</th>\n      <td>0.00100</td>\n      <td>1.0</td>\n      <td>0.281690</td>\n      <td>0.50000</td>\n      <td>4.0</td>\n      <td>0.004984</td>\n      <td>0.01000</td>\n      <td>100.0</td>\n      <td>0.012708</td>\n      <td>0.01000</td>\n      <td>76.0</td>\n      <td>0.010776</td>\n      <td>0.000010</td>\n      <td>584</td>\n      <td>0.033183</td>\n    </tr>\n    <tr>\n      <th>5</th>\n      <td>0.01000</td>\n      <td>1.0</td>\n      <td>0.281690</td>\n      <td>0.00010</td>\n      <td>2.0</td>\n      <td>0.002492</td>\n      <td>0.25000</td>\n      <td>5.0</td>\n      <td>0.000635</td>\n      <td>0.00100</td>\n      <td>39.0</td>\n      <td>0.005530</td>\n      <td>0.010000</td>\n      <td>119</td>\n      <td>0.006762</td>\n    </tr>\n    <tr>\n      <th>6</th>\n      <td>0.80000</td>\n      <td>1.0</td>\n      <td>0.281690</td>\n      <td>0.00100</td>\n      <td>2.0</td>\n      <td>0.002492</td>\n      <td>0.00010</td>\n      <td>4.0</td>\n      <td>0.000508</td>\n      <td>0.15000</td>\n      <td>13.0</td>\n      <td>0.001843</td>\n      <td>0.200000</td>\n      <td>79</td>\n      <td>0.004489</td>\n    </tr>\n    <tr>\n      <th>7</th>\n      <td>NaN</td>\n      <td>NaN</td>\n      <td>NaN</td>\n      <td>0.20000</td>\n      <td>2.0</td>\n      <td>0.002492</td>\n      <td>0.20000</td>\n      <td>4.0</td>\n      <td>0.000508</td>\n      <td>0.50000</td>\n      <td>7.0</td>\n      <td>0.000993</td>\n      <td>0.500000</td>\n      <td>63</td>\n      <td>0.003580</td>\n    </tr>\n    <tr>\n      <th>8</th>\n      <td>NaN</td>\n      <td>NaN</td>\n      <td>NaN</td>\n      <td>0.00000</td>\n      <td>1.0</td>\n      <td>0.001246</td>\n      <td>0.50000</td>\n      <td>3.0</td>\n      <td>0.000381</td>\n      <td>0.25000</td>\n      <td>4.0</td>\n      <td>0.000567</td>\n      <td>0.000001</td>\n      <td>10</td>\n      <td>0.000568</td>\n    </tr>\n    <tr>\n      <th>9</th>\n      <td>NaN</td>\n      <td>NaN</td>\n      <td>NaN</td>\n      <td>0.05000</td>\n      <td>1.0</td>\n      <td>0.001246</td>\n      <td>0.00100</td>\n      <td>1.0</td>\n      <td>0.000127</td>\n      <td>0.90000</td>\n      <td>4.0</td>\n      <td>0.000567</td>\n      <td>0.250000</td>\n      <td>7</td>\n      <td>0.000398</td>\n    </tr>\n    <tr>\n      <th>10</th>\n      <td>NaN</td>\n      <td>NaN</td>\n      <td>NaN</td>\n      <td>0.15000</td>\n      <td>1.0</td>\n      <td>0.001246</td>\n      <td>NaN</td>\n      <td>NaN</td>\n      <td>NaN</td>\n      <td>0.20000</td>\n      <td>2.0</td>\n      <td>0.000284</td>\n      <td>0.020000</td>\n      <td>4</td>\n      <td>0.000227</td>\n    </tr>\n    <tr>\n      <th>11</th>\n      <td>NaN</td>\n      <td>NaN</td>\n      <td>NaN</td>\n      <td>NaN</td>\n      <td>NaN</td>\n      <td>NaN</td>\n      <td>NaN</td>\n      <td>NaN</td>\n      <td>NaN</td>\n      <td>0.00010</td>\n      <td>1.0</td>\n      <td>0.000142</td>\n      <td>0.900000</td>\n      <td>4</td>\n      <td>0.000227</td>\n    </tr>\n    <tr>\n      <th>12</th>\n      <td>NaN</td>\n      <td>NaN</td>\n      <td>NaN</td>\n      <td>NaN</td>\n      <td>NaN</td>\n      <td>NaN</td>\n      <td>NaN</td>\n      <td>NaN</td>\n      <td>NaN</td>\n      <td>0.04000</td>\n      <td>1.0</td>\n      <td>0.000142</td>\n      <td>0.150000</td>\n      <td>3</td>\n      <td>0.000170</td>\n    </tr>\n    <tr>\n      <th>13</th>\n      <td>NaN</td>\n      <td>NaN</td>\n      <td>NaN</td>\n      <td>NaN</td>\n      <td>NaN</td>\n      <td>NaN</td>\n      <td>NaN</td>\n      <td>NaN</td>\n      <td>NaN</td>\n      <td>0.99999</td>\n      <td>1.0</td>\n      <td>0.000142</td>\n      <td>0.040000</td>\n      <td>1</td>\n      <td>0.000057</td>\n    </tr>\n    <tr>\n      <th>14</th>\n      <td>NaN</td>\n      <td>NaN</td>\n      <td>NaN</td>\n      <td>NaN</td>\n      <td>NaN</td>\n      <td>NaN</td>\n      <td>NaN</td>\n      <td>NaN</td>\n      <td>NaN</td>\n      <td>NaN</td>\n      <td>NaN</td>\n      <td>NaN</td>\n      <td>0.300000</td>\n      <td>1</td>\n      <td>0.000057</td>\n    </tr>\n    <tr>\n      <th>15</th>\n      <td>NaN</td>\n      <td>NaN</td>\n      <td>NaN</td>\n      <td>NaN</td>\n      <td>NaN</td>\n      <td>NaN</td>\n      <td>NaN</td>\n      <td>NaN</td>\n      <td>NaN</td>\n      <td>NaN</td>\n      <td>NaN</td>\n      <td>NaN</td>\n      <td>0.000100</td>\n      <td>1</td>\n      <td>0.000057</td>\n    </tr>\n    <tr>\n      <th>16</th>\n      <td>NaN</td>\n      <td>NaN</td>\n      <td>NaN</td>\n      <td>NaN</td>\n      <td>NaN</td>\n      <td>NaN</td>\n      <td>NaN</td>\n      <td>NaN</td>\n      <td>NaN</td>\n      <td>NaN</td>\n      <td>NaN</td>\n      <td>NaN</td>\n      <td>0.800000</td>\n      <td>1</td>\n      <td>0.000057</td>\n    </tr>\n    <tr>\n      <th>17</th>\n      <td>NaN</td>\n      <td>NaN</td>\n      <td>NaN</td>\n      <td>NaN</td>\n      <td>NaN</td>\n      <td>NaN</td>\n      <td>NaN</td>\n      <td>NaN</td>\n      <td>NaN</td>\n      <td>NaN</td>\n      <td>NaN</td>\n      <td>NaN</td>\n      <td>0.999990</td>\n      <td>1</td>\n      <td>0.000057</td>\n    </tr>\n  </tbody>\n</table>\n</div>"
     },
     "execution_count": 7,
     "metadata": {},
     "output_type": "execute_result"
    }
   ],
   "source": [
    "failure_df = get_virtue(results_df_dict, 'nel_failure_fraction', 'failure')\n",
    "failure_df"
   ],
   "metadata": {
    "collapsed": false
   }
  },
  {
   "cell_type": "code",
   "execution_count": 9,
   "outputs": [
    {
     "data": {
      "text/plain": "   2019_subdomains  2019_cnt  2019_prcnt  2020_subdomains  2020_cnt  \\\n0             True       348   98.028169            False     79502   \n1            False         7    1.971831             True       757   \n\n   2020_prcnt  2021_subdomains  2021_cnt  2021_prcnt  2022_subdomains  \\\n0   99.056804            False    785793   99.858052            False   \n1    0.943196             True      1117    0.141948             True   \n\n   2022_cnt  2022_prcnt  2023_subdomains  2023_cnt  2023_prcnt  \n0    703790   99.794538            False   1746510   99.237019  \n1      1449    0.205462             True     13428    0.762981  ",
      "text/html": "<div>\n<style scoped>\n    .dataframe tbody tr th:only-of-type {\n        vertical-align: middle;\n    }\n\n    .dataframe tbody tr th {\n        vertical-align: top;\n    }\n\n    .dataframe thead th {\n        text-align: right;\n    }\n</style>\n<table border=\"1\" class=\"dataframe\">\n  <thead>\n    <tr style=\"text-align: right;\">\n      <th></th>\n      <th>2019_subdomains</th>\n      <th>2019_cnt</th>\n      <th>2019_prcnt</th>\n      <th>2020_subdomains</th>\n      <th>2020_cnt</th>\n      <th>2020_prcnt</th>\n      <th>2021_subdomains</th>\n      <th>2021_cnt</th>\n      <th>2021_prcnt</th>\n      <th>2022_subdomains</th>\n      <th>2022_cnt</th>\n      <th>2022_prcnt</th>\n      <th>2023_subdomains</th>\n      <th>2023_cnt</th>\n      <th>2023_prcnt</th>\n    </tr>\n  </thead>\n  <tbody>\n    <tr>\n      <th>0</th>\n      <td>True</td>\n      <td>348</td>\n      <td>98.028169</td>\n      <td>False</td>\n      <td>79502</td>\n      <td>99.056804</td>\n      <td>False</td>\n      <td>785793</td>\n      <td>99.858052</td>\n      <td>False</td>\n      <td>703790</td>\n      <td>99.794538</td>\n      <td>False</td>\n      <td>1746510</td>\n      <td>99.237019</td>\n    </tr>\n    <tr>\n      <th>1</th>\n      <td>False</td>\n      <td>7</td>\n      <td>1.971831</td>\n      <td>True</td>\n      <td>757</td>\n      <td>0.943196</td>\n      <td>True</td>\n      <td>1117</td>\n      <td>0.141948</td>\n      <td>True</td>\n      <td>1449</td>\n      <td>0.205462</td>\n      <td>True</td>\n      <td>13428</td>\n      <td>0.762981</td>\n    </tr>\n  </tbody>\n</table>\n</div>"
     },
     "execution_count": 9,
     "metadata": {},
     "output_type": "execute_result"
    }
   ],
   "source": [
    "subdomains_df = get_virtue(results_df_dict, 'nel_include_subdomains', 'subdomains')\n",
    "subdomains_df"
   ],
   "metadata": {
    "collapsed": false
   }
  },
  {
   "cell_type": "code",
   "execution_count": 10,
   "outputs": [
    {
     "data": {
      "text/plain": "Index(['requestid', 'type', 'ext', 'firstReq', 'status', 'url',\n       'unique_domain_count_before_filtration',\n       'unique_domain_firstreq_count_before_filtration', 'contains_nel',\n       'nel_max_age', 'nel_failure_fraction', 'nel_success_fraction',\n       'nel_include_subdomains', 'nel_report_to_group',\n       'nel_count_before_filtration', 'rt_group', 'rt_endpoints', 'rt_url',\n       'rt_url_sld'],\n      dtype='object')"
     },
     "execution_count": 10,
     "metadata": {},
     "output_type": "execute_result"
    }
   ],
   "source": [
    "results_df_dict[keys[5]].columns"
   ],
   "metadata": {
    "collapsed": false
   }
  },
  {
   "cell_type": "code",
   "execution_count": 12,
   "outputs": [],
   "source": [
    "tmp_df = results_df_dict[keys[5]][['nel_failure_fraction', 'rt_url_sld', 'requestid']].groupby(by=['rt_url_sld', 'nel_failure_fraction']).count().sort_values(by='requestid', ascending=False).reset_index()\n"
   ],
   "metadata": {
    "collapsed": false
   }
  },
  {
   "cell_type": "code",
   "execution_count": 13,
   "outputs": [
    {
     "data": {
      "text/plain": "         rt_url_sld  nel_failure_fraction  requestid\n0        cafe24.com                0.1000      14985\n1        office.net                1.0000       8127\n2    cloudfront.net                0.0010       3318\n3    nelreports.net                1.0000       1200\n4     wikimedia.org                0.0500        759\n..              ...                   ...        ...\n74  movizor-info.ru                1.0000          1\n75   report-uri.com                0.0001          1\n76        planer.io                1.0000          1\n77    raiffeisen.ch                0.2500          1\n78     3genlabs.net                1.0000          1\n\n[79 rows x 3 columns]",
      "text/html": "<div>\n<style scoped>\n    .dataframe tbody tr th:only-of-type {\n        vertical-align: middle;\n    }\n\n    .dataframe tbody tr th {\n        vertical-align: top;\n    }\n\n    .dataframe thead th {\n        text-align: right;\n    }\n</style>\n<table border=\"1\" class=\"dataframe\">\n  <thead>\n    <tr style=\"text-align: right;\">\n      <th></th>\n      <th>rt_url_sld</th>\n      <th>nel_failure_fraction</th>\n      <th>requestid</th>\n    </tr>\n  </thead>\n  <tbody>\n    <tr>\n      <th>0</th>\n      <td>cafe24.com</td>\n      <td>0.1000</td>\n      <td>14985</td>\n    </tr>\n    <tr>\n      <th>1</th>\n      <td>office.net</td>\n      <td>1.0000</td>\n      <td>8127</td>\n    </tr>\n    <tr>\n      <th>2</th>\n      <td>cloudfront.net</td>\n      <td>0.0010</td>\n      <td>3318</td>\n    </tr>\n    <tr>\n      <th>3</th>\n      <td>nelreports.net</td>\n      <td>1.0000</td>\n      <td>1200</td>\n    </tr>\n    <tr>\n      <th>4</th>\n      <td>wikimedia.org</td>\n      <td>0.0500</td>\n      <td>759</td>\n    </tr>\n    <tr>\n      <th>...</th>\n      <td>...</td>\n      <td>...</td>\n      <td>...</td>\n    </tr>\n    <tr>\n      <th>74</th>\n      <td>movizor-info.ru</td>\n      <td>1.0000</td>\n      <td>1</td>\n    </tr>\n    <tr>\n      <th>75</th>\n      <td>report-uri.com</td>\n      <td>0.0001</td>\n      <td>1</td>\n    </tr>\n    <tr>\n      <th>76</th>\n      <td>planer.io</td>\n      <td>1.0000</td>\n      <td>1</td>\n    </tr>\n    <tr>\n      <th>77</th>\n      <td>raiffeisen.ch</td>\n      <td>0.2500</td>\n      <td>1</td>\n    </tr>\n    <tr>\n      <th>78</th>\n      <td>3genlabs.net</td>\n      <td>1.0000</td>\n      <td>1</td>\n    </tr>\n  </tbody>\n</table>\n<p>79 rows × 3 columns</p>\n</div>"
     },
     "execution_count": 13,
     "metadata": {},
     "output_type": "execute_result"
    }
   ],
   "source": [
    "tmp_df"
   ],
   "metadata": {
    "collapsed": false
   }
  },
  {
   "cell_type": "code",
   "execution_count": null,
   "outputs": [],
   "source": [],
   "metadata": {
    "collapsed": false
   }
  }
 ],
 "metadata": {
  "kernelspec": {
   "display_name": "Python 3",
   "language": "python",
   "name": "python3"
  },
  "language_info": {
   "codemirror_mode": {
    "name": "ipython",
    "version": 2
   },
   "file_extension": ".py",
   "mimetype": "text/x-python",
   "name": "python",
   "nbconvert_exporter": "python",
   "pygments_lexer": "ipython2",
   "version": "2.7.6"
  }
 },
 "nbformat": 4,
 "nbformat_minor": 0
}

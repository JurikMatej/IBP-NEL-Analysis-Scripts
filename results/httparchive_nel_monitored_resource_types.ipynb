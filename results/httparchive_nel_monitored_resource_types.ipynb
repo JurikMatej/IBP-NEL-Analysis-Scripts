{
 "cells": [
  {
   "cell_type": "code",
   "id": "initial_id",
   "metadata": {
    "collapsed": true,
    "ExecuteTime": {
     "end_time": "2024-04-28T10:47:15.032739Z",
     "start_time": "2024-04-28T10:47:15.027866Z"
    }
   },
   "source": [
    "from pathlib import Path\n",
    "\n",
    "import pandas as pd\n",
    "import matplotlib.pyplot as plt\n",
    "import matplotlib.dates as mdates\n",
    "import matplotlib.ticker as ticker\n",
    "import seaborn as sns"
   ],
   "execution_count": 47,
   "outputs": []
  },
  {
   "metadata": {
    "ExecuteTime": {
     "end_time": "2024-04-28T08:50:08.967779Z",
     "start_time": "2024-04-28T08:50:08.962865Z"
    }
   },
   "cell_type": "code",
   "source": [
    "dates_to_visualize = [\n",
    "                                                                                            \"2018-09\", \"2018-10\", \"2018-11\", \"2018-12\",\n",
    "    \"2019-01\", \"2019-02\", \"2019-03\", \"2019-04\", \"2019-05\", \"2019-06\", \"2019-07\", \"2019-08\", \"2019-09\", \"2019-10\", \"2019-11\", \"2019-12\",\n",
    "    \"2020-01\", \"2020-02\", \"2020-03\", \"2020-04\", \"2020-05\", \"2020-06\", \"2020-07\", \"2020-08\", \"2020-09\", \"2020-10\", \"2020-11\", \"2020-12\",\n",
    "    \"2021-01\", \"2021-02\", \"2021-03\", \"2021-04\", \"2021-05\", \"2021-06\", \"2021-07\", \"2021-08\", \"2021-09\", \"2021-10\", \"2021-11\", \"2021-12\",\n",
    "    \"2022-01\", \"2022-02\", \"2022-03\", \"2022-04\", \"2022-05\", \"2022-06\", \"2022-07\", \"2022-08\", \"2022-09\", \"2022-10\", \"2022-11\", \"2022-12\",\n",
    "    \"2023-01\", \"2023-02\", \"2023-03\", \"2023-04\", \"2023-05\", \"2023-06\", \"2023-07\", \"2023-08\", \"2023-09\", \"2023-10\", \"2023-11\", \"2023-12\",\n",
    "    \"2024-01\", \"2024-02\", \"2024-03\", \"2024-04\", \n",
    "]"
   ],
   "id": "3f650dbc0b8f8d50",
   "execution_count": 2,
   "outputs": []
  },
  {
   "metadata": {
    "ExecuteTime": {
     "end_time": "2024-04-28T08:50:09.009781Z",
     "start_time": "2024-04-28T08:50:08.968785Z"
    }
   },
   "cell_type": "code",
   "source": [
    "available_data_files = list(Path(\"../data/httparchive_metrics/nel_monitored_resource_types\").glob(\"*.parquet\"))\n",
    "\n",
    "used_data_files = list(filter(lambda file: file.stem in dates_to_visualize, available_data_files))\n",
    "used_data_files"
   ],
   "id": "1adada26e86f6441",
   "execution_count": 3,
   "outputs": []
  },
  {
   "metadata": {
    "ExecuteTime": {
     "end_time": "2024-04-28T09:05:59.910043Z",
     "start_time": "2024-04-28T08:50:09.010790Z"
    }
   },
   "cell_type": "code",
   "source": [
    "from results.result_utils import date_to_text_format, concat_data_from_files\n",
    "\n",
    "result = concat_data_from_files(used_data_files)\n",
    "\n",
    "result['date_formatted'] = result['date'].map(date_to_text_format)\n",
    "\n",
    "result"
   ],
   "id": "9aa608afcff18dad",
   "execution_count": 4,
   "outputs": []
  },
  {
   "metadata": {},
   "cell_type": "markdown",
   "source": "### Monitored resources by type",
   "id": "148f4f93e3926b86"
  },
  {
   "metadata": {
    "ExecuteTime": {
     "end_time": "2024-04-28T09:21:04.936980Z",
     "start_time": "2024-04-28T09:05:59.935206Z"
    }
   },
   "cell_type": "code",
   "source": [
    "monthly_data = pd.DataFrame()\n",
    "for month in dates_to_visualize:\n",
    "    current_month_data = result[result['date'] == month].copy()\n",
    "    \n",
    "    current_month_data = current_month_data.groupby(['date', 'type'], as_index=False).agg({'count': 'sum'})\n",
    "    current_month_data.sort_values(by='count', ascending=False, inplace=True)\n",
    "    current_month_data.reset_index(inplace=True, drop=True)\n",
    "    \n",
    "    current_month_data['date'] = current_month_data['date'].map(date_to_text_format)\n",
    "    \n",
    "    monthly_data = pd.concat([monthly_data, current_month_data])\n",
    "    \n",
    "# TODO analyze on domains that have a % of NEL monitored resources < 100% (lower ranges 10%-20%)\n",
    "    \n",
    "monthly_data"
   ],
   "id": "1e47d43faeb713d6",
   "execution_count": 5,
   "outputs": []
  },
  {
   "metadata": {},
   "cell_type": "markdown",
   "source": "#### GRAPH - Monthly monitored resources distribution by type",
   "id": "7e0ad5acb778a0d3"
  },
  {
   "metadata": {
    "ExecuteTime": {
     "end_time": "2024-04-28T10:41:16.536603Z",
     "start_time": "2024-04-28T10:41:10.969980Z"
    }
   },
   "cell_type": "code",
   "source": [
    "data = monthly_data.copy()\n",
    "data['count'] = data['count'].astype('int64')\n",
    "\n",
    "data['date_fmt'] = data['date'].map(lambda date: pd.to_datetime(date))\n",
    "\n",
    "data.rename(columns={'type': 'Typ zdroja', 'date_fmt': 'Dátum', 'count': 'Počet'}, inplace=True)\n",
    "\n",
    "pivoted_data = data.pivot_table(index='Typ zdroja', columns='Dátum', values='Počet').fillna(0)\n",
    "\n",
    "to_plot = pivoted_data\n",
    "\n",
    "to_plot = to_plot.stack()\n",
    "to_plot = to_plot.reset_index()\n",
    "to_plot.rename(columns={0: 'Počet'}, inplace=True)\n",
    "\n",
    "sns.set_style('whitegrid')\n",
    "\n",
    "g = sns.relplot(to_plot, kind='line', x='Dátum', y='Počet',\n",
    "                col='Typ zdroja', col_wrap=5,\n",
    "                height=2.25, aspect=1.2, \n",
    "                facet_kws={'sharey': False, 'sharex': False}\n",
    "                )\n",
    "\n",
    "for idx, ax in enumerate(g.axes):\n",
    "    ax.xaxis.remove_overlapping_locs = False\n",
    "    years = mdates.YearLocator()\n",
    "    ax.xaxis.set_major_locator(years)\n",
    "    ax.xaxis.set_major_formatter(mdates.DateFormatter(\"%Y\"))\n",
    "\n",
    "    ax.xaxis.set_minor_locator(ticker.NullLocator())\n",
    "\n",
    "    ax.yaxis.set_major_locator(ticker.MaxNLocator(integer=True))\n",
    "    ax.yaxis.set_major_formatter(ticker.EngFormatter())\n",
    "\n",
    "    ax.tick_params(axis='x', which=\"major\", rotation=45)\n",
    "\n",
    "\n",
    "g.set_xlabels(\"Rok\")\n",
    "g.set_ylabels(\"Počet zdrojov\")\n",
    "\n",
    "g.tight_layout()\n",
    "\n",
    "g.savefig(\"graphs/httparchive_nel_resource_types_dist.pdf\")"
   ],
   "id": "30c6d9838d97be1b",
   "execution_count": 39,
   "outputs": []
  },
  {
   "metadata": {},
   "cell_type": "markdown",
   "source": "#### GRAPH - Monthly monitored resources distribution by type (FIRST 2 YEARS OF NEL) ",
   "id": "da36cb3248b0cdb8"
  },
  {
   "metadata": {
    "ExecuteTime": {
     "end_time": "2024-04-28T10:47:54.820686Z",
     "start_time": "2024-04-28T10:47:47.613657Z"
    }
   },
   "cell_type": "code",
   "source": [
    "to_plot2 = to_plot.copy()\n",
    "to_plot2 = to_plot2[to_plot2['Dátum'] < pd.to_datetime('2020-08-01')]\n",
    "to_plot2 = to_plot2[to_plot2['Typ zdroja'] != 'wasm']\n",
    "# to_plot2\n",
    "\n",
    "sns.set_style('whitegrid')\n",
    "\n",
    "g = sns.relplot(to_plot2, kind='line', x='Dátum', y='Počet', \n",
    "                col='Typ zdroja', col_wrap=5,\n",
    "                height=2.25, aspect=1.2, \n",
    "                facet_kws={'sharey': False, 'sharex': False}\n",
    "                )\n",
    "\n",
    "for idx, ax in enumerate(g.axes):\n",
    "    ax.xaxis.remove_overlapping_locs = False\n",
    "    years = mdates.YearLocator()\n",
    "    ax.xaxis.set_major_locator(years)\n",
    "    ax.xaxis.set_major_formatter(mdates.DateFormatter(\"\\n\\n%Y\"))\n",
    "    ax.grid(True, axis='x', which='minor', linestyle='--',)\n",
    "\n",
    "    months = mdates.MonthLocator(interval=2)\n",
    "    months_fmt = mdates.DateFormatter('%b')\n",
    "    ax.xaxis.set_minor_locator(months)\n",
    "    ax.xaxis.set_minor_formatter(months_fmt)\n",
    "    ax.tick_params(axis='x', which=\"minor\", rotation=90, labelsize=9)\n",
    "\n",
    "    ax.yaxis.set_major_locator(ticker.MaxNLocator(integer=True))   \n",
    "    ax.yaxis.set_major_formatter(ticker.EngFormatter())    \n",
    "\n",
    "    ax.tick_params(axis='x', which=\"major\", rotation=0)\n",
    "\n",
    "\n",
    "g.set_xlabels(\"Rok\")\n",
    "g.set_ylabels(\"Počet domén\")\n",
    "\n",
    "g.tight_layout()\n",
    "\n",
    "g.savefig(\"graphs/httparchive_nel_resource_types_dist_until_2022.pdf\")"
   ],
   "id": "b014f3684734a043",
   "execution_count": 50,
   "outputs": []
  },
  {
   "metadata": {},
   "cell_type": "markdown",
   "source": "### Most monitored resource type for the whole time period (HTTPArchive data) ",
   "id": "e8d66a9b4299cfa3"
  },
  {
   "metadata": {
    "ExecuteTime": {
     "end_time": "2024-04-28T09:21:22.213351Z",
     "start_time": "2024-04-28T09:21:04.956114Z"
    }
   },
   "cell_type": "code",
   "source": "result.groupby('type')['count'].sum().sort_values(ascending=False)",
   "id": "30ffe83cbc3e69b2",
   "execution_count": 6,
   "outputs": []
  }
 ],
 "metadata": {
  "kernelspec": {
   "display_name": "Python 3",
   "language": "python",
   "name": "python3"
  },
  "language_info": {
   "codemirror_mode": {
    "name": "ipython",
    "version": 2
   },
   "file_extension": ".py",
   "mimetype": "text/x-python",
   "name": "python",
   "nbconvert_exporter": "python",
   "pygments_lexer": "ipython2",
   "version": "2.7.6"
  }
 },
 "nbformat": 4,
 "nbformat_minor": 5
}

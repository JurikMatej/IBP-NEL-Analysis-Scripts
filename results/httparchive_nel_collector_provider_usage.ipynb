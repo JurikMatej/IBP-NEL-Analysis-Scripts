{
 "cells": [
  {
   "cell_type": "code",
   "id": "initial_id",
   "metadata": {
    "collapsed": true,
    "ExecuteTime": {
     "end_time": "2024-04-28T14:12:02.373499Z",
     "start_time": "2024-04-28T14:12:02.369031Z"
    }
   },
   "source": [
    "from pathlib import Path\n",
    "\n",
    "import numpy as np\n",
    "import pandas as pd\n",
    "import matplotlib.pyplot as plt\n",
    "import matplotlib.dates as mdates\n",
    "import matplotlib.ticker as ticker\n",
    "import seaborn as sns"
   ],
   "execution_count": 1,
   "outputs": []
  },
  {
   "metadata": {
    "ExecuteTime": {
     "end_time": "2024-04-28T14:12:02.378214Z",
     "start_time": "2024-04-28T14:12:02.373499Z"
    }
   },
   "cell_type": "code",
   "source": "pd.options.display.float_format = '{:.2f}'.format",
   "id": "8a1baf58b3c557b1",
   "execution_count": 2,
   "outputs": []
  },
  {
   "cell_type": "code",
   "source": [
    "dates_to_visualize = [\n",
    "                                                                                            \"2018-09\", \"2018-10\", \"2018-11\", \"2018-12\",\n",
    "    \"2019-01\", \"2019-02\", \"2019-03\", \"2019-04\", \"2019-05\", \"2019-06\", \"2019-07\", \"2019-08\", \"2019-09\", \"2019-10\", \"2019-11\", \"2019-12\",\n",
    "    \"2020-01\", \"2020-02\", \"2020-03\", \"2020-04\", \"2020-05\", \"2020-06\", \"2020-07\", \"2020-08\", \"2020-09\", \"2020-10\", \"2020-11\", \"2020-12\",\n",
    "    \"2021-01\", \"2021-02\", \"2021-03\", \"2021-04\", \"2021-05\", \"2021-06\", \"2021-07\", \"2021-08\", \"2021-09\", \"2021-10\", \"2021-11\", \"2021-12\",\n",
    "    \"2022-01\", \"2022-02\", \"2022-03\", \"2022-04\", \"2022-05\", \"2022-06\", \"2022-07\", \"2022-08\", \"2022-09\", \"2022-10\", \"2022-11\", \"2022-12\",\n",
    "    \"2023-01\", \"2023-02\", \"2023-03\", \"2023-04\", \"2023-05\", \"2023-06\", \"2023-07\", \"2023-08\", \"2023-09\", \"2023-10\", \"2023-11\", \"2023-12\",\n",
    "    \"2024-01\", \"2024-02\", \"2024-03\", \"2024-04\", \n",
    "]"
   ],
   "metadata": {
    "collapsed": false,
    "ExecuteTime": {
     "end_time": "2024-04-28T14:12:02.383607Z",
     "start_time": "2024-04-28T14:12:02.378214Z"
    }
   },
   "id": "7094ea0e767c0068",
   "execution_count": 3,
   "outputs": []
  },
  {
   "cell_type": "code",
   "source": [
    "available_data_files = list(Path(\"../data/httparchive_metrics/nel_collector_provider_usage\").glob(\"*.parquet\"))\n",
    "\n",
    "used_data_files = list(filter(lambda file: file.stem in dates_to_visualize, available_data_files))\n",
    "used_data_files"
   ],
   "metadata": {
    "collapsed": false,
    "ExecuteTime": {
     "end_time": "2024-04-28T14:12:02.454854Z",
     "start_time": "2024-04-28T14:12:02.383607Z"
    }
   },
   "id": "44529dd0d2660561",
   "execution_count": 4,
   "outputs": []
  },
  {
   "metadata": {},
   "cell_type": "markdown",
   "source": "### Aggregate result to visualize\n",
   "id": "eb8ae38ac61fafb1"
  },
  {
   "cell_type": "code",
   "source": [
    "from results.result_utils import date_to_text_format, concat_data_from_files, MONTHS_MAP\n",
    "\n",
    "result = concat_data_from_files(used_data_files)\n",
    "\n",
    "result['date_formatted'] = result['date'].map(date_to_text_format)\n",
    "\n",
    "result['as_primary'] = result['as_primary'].astype('UInt32')\n",
    "result['as_secondary'] = result['as_secondary'].astype('UInt32')\n",
    "result['among_fallback'] = result['among_fallback'].astype('UInt32')\n",
    "\n",
    "result"
   ],
   "metadata": {
    "collapsed": false,
    "ExecuteTime": {
     "end_time": "2024-04-28T14:12:06.217942Z",
     "start_time": "2024-04-28T14:12:02.454854Z"
    }
   },
   "id": "28a5d18bfd1a4aa2",
   "execution_count": 5,
   "outputs": []
  },
  {
   "metadata": {},
   "cell_type": "markdown",
   "source": "### Top 5 Primary Collector Providers per month\n",
   "id": "65e36f792ad5c36b"
  },
  {
   "metadata": {
    "ExecuteTime": {
     "end_time": "2024-04-28T14:12:06.250950Z",
     "start_time": "2024-04-28T14:12:06.217942Z"
    }
   },
   "cell_type": "code",
   "source": [
    "top_5_data = result[result.index < 5][['date', 'providers', 'as_primary', 'share_as_primary']]\n",
    "\n",
    "count_by_date = result.groupby(['date'])['as_primary'].agg(lambda group: len([x for x in group if x > 0]))\n",
    "top_5_data['count'] = top_5_data['date'].map(count_by_date)\n",
    "\n",
    "top_5_data = top_5_data.reindex(columns=['date', 'count', 'providers', 'as_primary', 'share_as_primary'])\n",
    "top_5_data['date'] = top_5_data['date'].map(date_to_text_format)\n",
    "# top_5_data.groupby(['date', 'count', 'providers']).first()\n",
    "top_5_data.sort_values(['date', 'share_as_primary'], ascending=[True, False])"
   ],
   "id": "a1a0f75647f166e",
   "execution_count": 6,
   "outputs": []
  },
  {
   "metadata": {},
   "cell_type": "markdown",
   "source": "### Top 5 Secondary Collector Providers per month\n",
   "id": "db4185d3c9b44ffd"
  },
  {
   "metadata": {
    "ExecuteTime": {
     "end_time": "2024-04-28T14:12:06.321Z",
     "start_time": "2024-04-28T14:12:06.250950Z"
    }
   },
   "cell_type": "code",
   "source": [
    "secondaries = result[['date', 'providers', 'as_secondary', 'share_as_secondary']]\n",
    "secondaries = secondaries[secondaries['as_secondary'] > 0]\n",
    "\n",
    "top_5_data = pd.DataFrame()\n",
    "for month in dates_to_visualize:\n",
    "    monthly_data = secondaries[secondaries['date'] == month]\n",
    "    \n",
    "    monthly_data.reset_index(drop=True, inplace=True)\n",
    "    top_5_data = pd.concat([top_5_data, monthly_data])\n",
    "\n",
    "top_5_data = top_5_data[top_5_data.index < 5]\n",
    "\n",
    "count_by_date = result.groupby(['date'])['as_secondary'].agg(lambda group: len([x for x in group if x > 0]))\n",
    "top_5_data['count'] = top_5_data['date'].map(count_by_date)\n",
    "\n",
    "top_5_data = top_5_data.reindex(columns=['date', 'count', 'providers', 'as_secondary', 'share_as_secondary'])\n",
    "top_5_data['date'] = top_5_data['date'].map(date_to_text_format)\n",
    "# # top_5_data.groupby(['date', 'count', 'providers']).first()\n",
    "top_5_data.sort_values(['date', 'share_as_secondary'], ascending=[True, False]).reset_index(drop=True)"
   ],
   "id": "c81bf81a2f1e3759",
   "execution_count": 7,
   "outputs": []
  },
  {
   "metadata": {},
   "cell_type": "markdown",
   "source": "### Top 5 Collector Providers by occurrence",
   "id": "2b4fd22f199a73b0"
  },
  {
   "metadata": {
    "ExecuteTime": {
     "end_time": "2024-04-28T14:12:06.469498Z",
     "start_time": "2024-04-28T14:12:06.321Z"
    }
   },
   "cell_type": "code",
   "source": [
    "occurrence_data = result[['date', 'providers', 'as_primary', 'as_secondary', 'among_fallback']]\n",
    "\n",
    "all_occurrences = pd.DataFrame()\n",
    "for month in dates_to_visualize:\n",
    "    monthly_data = occurrence_data[occurrence_data['date'] == month].copy()\n",
    "    \n",
    "    monthly_data['total_occurrences'] = monthly_data['as_primary'] + monthly_data['as_secondary'] + monthly_data['among_fallback']\n",
    "    monthly_data.drop(columns=['as_primary', 'as_secondary', 'among_fallback'], inplace=True)\n",
    "    \n",
    "    monthly_data['date'] = monthly_data['date'].map(date_to_text_format)\n",
    "    \n",
    "    monthly_data.reset_index(drop=True, inplace=True)\n",
    "    \n",
    "    all_occurrences = pd.concat([all_occurrences, monthly_data])\n",
    "    \n",
    "top_5_data = all_occurrences[all_occurrences.index < 5]\n",
    "# top_5_data = all_occurrences\n",
    "top_5_data"
   ],
   "id": "259a6fa989f14c38",
   "execution_count": 8,
   "outputs": []
  },
  {
   "metadata": {},
   "cell_type": "markdown",
   "source": "#### The TOP provider over the analyzed time",
   "id": "4cc0402edd77a21b"
  },
  {
   "metadata": {
    "ExecuteTime": {
     "end_time": "2024-04-29T06:12:31.561951Z",
     "start_time": "2024-04-29T06:12:29.219457Z"
    }
   },
   "cell_type": "code",
   "source": [
    "to_plot = all_occurrences.copy()\n",
    "to_plot = to_plot[to_plot.index == 0]\n",
    "\n",
    "to_plot['date_fmt'] = to_plot['date'].map(lambda date: pd.to_datetime(date))\n",
    "to_plot['providers'] = to_plot['providers'].astype('category')\n",
    "\n",
    "sns.set_style('whitegrid')\n",
    "g = sns.catplot(to_plot, x='date_fmt', y='providers', hue='providers', kind=\"swarm\", height=4, aspect=2.5)\n",
    "# g.fig.suptitle('Najvyužívanješí poskytovatelia NEL kolektorov za skúmané obdobie', fontweight='bold')\n",
    "ax = g.axes[0][0]\n",
    "\n",
    "# sns.barplot(to_plot, x='date_fmt', y='total_occurrences', ax=ax, hue='providers')\n",
    "\n",
    "ax.xaxis.remove_overlapping_locs = False\n",
    "\n",
    "years = mdates.YearLocator()\n",
    "ax.xaxis.set_major_locator(years)\n",
    "ax.xaxis.set_major_formatter(mdates.DateFormatter(\"\\n\\n%Y\"))\n",
    "\n",
    "months = mdates.MonthLocator(interval=1)\n",
    "months_fmt = mdates.DateFormatter('%b')\n",
    "ax.xaxis.set_minor_locator(months)\n",
    "ax.xaxis.set_minor_formatter(months_fmt)\n",
    "\n",
    "ax.tick_params(axis='x', which=\"minor\", rotation=90, labelsize=9)\n",
    "\n",
    "plt.grid(True, which='minor', linestyle='--',)\n",
    "\n",
    "max_employment = to_plot.groupby(['providers'], observed=True).agg(max=('total_occurrences', 'max')).values\n",
    "ax.legend(list(map(lambda val: '{:,.0f}'.format(val[0]), max_employment)), title='Maximum obsluhovaných domén', loc=\"lower right\")\n",
    "\n",
    "ax.set(xlabel='Dátum', ylabel='Poskytovateľ NEL kolektorov')\n",
    "\n",
    "plt.tight_layout()\n",
    "plt.savefig('graphs/httparchive_nel_collector_provider_top_1_over_time.pdf')"
   ],
   "id": "8d7d8317b041ed9e",
   "execution_count": 54,
   "outputs": []
  },
  {
   "metadata": {},
   "cell_type": "markdown",
   "source": "#### GRAPH - Number of collector providers over the time",
   "id": "6947fc9ff9b2fdf9"
  },
  {
   "metadata": {
    "ExecuteTime": {
     "end_time": "2024-04-28T14:52:52.734194Z",
     "start_time": "2024-04-28T14:52:50.717382Z"
    }
   },
   "cell_type": "code",
   "source": [
    "to_plot = all_occurrences.copy()\n",
    "to_plot = to_plot.groupby(['date'], as_index=False).agg(pcount=('providers', 'count'))\n",
    "\n",
    "\n",
    "to_plot['date_fmt'] = to_plot['date'].map(lambda date: pd.to_datetime(date))\n",
    "to_plot.drop(columns=['date'], inplace=True)\n",
    "to_plot = to_plot.sort_values(by=['date_fmt'])\n",
    "to_plot.reset_index(inplace=True)\n",
    "to_plot = to_plot.reindex(columns=['date_fmt', 'pcount']) \n",
    "\n",
    "g = sns.relplot(to_plot, x='date_fmt', y='pcount', kind='line', color='orange', height=5, aspect=2.1)\n",
    "ax = g.axes[0][0]\n",
    "\n",
    "ax.yaxis.get_major_formatter().set_scientific(False)\n",
    "ax.yaxis.get_major_formatter().set_useOffset(False)\n",
    "\n",
    "ax.xaxis.remove_overlapping_locs = False\n",
    "years = mdates.YearLocator()\n",
    "ax.xaxis.set_major_locator(years)\n",
    "ax.xaxis.set_major_formatter(mdates.DateFormatter(\"\\n\\n%Y\"))\n",
    "\n",
    "months = mdates.MonthLocator(interval=1)\n",
    "months_fmt = mdates.DateFormatter('%b')\n",
    "ax.xaxis.set_minor_locator(months)\n",
    "ax.xaxis.set_minor_formatter(months_fmt)\n",
    "\n",
    "ax.tick_params(axis='x', which=\"minor\", rotation=90, labelsize=10)\n",
    "\n",
    "\n",
    "ax.set(xlabel='Dátum', ylabel='Počet poskytovateľov NEL kolektorov')\n",
    "\n",
    "plt.grid(True, which='minor', linestyle='--',)\n",
    "\n",
    "ax.yaxis.set_major_locator(ticker.FixedLocator(np.arange(0, 340, 20)))\n",
    "ax.tick_params(labelleft=False, labelright=True)\n",
    "\n",
    "ax.lines[0].set_marker('.')\n",
    "ax.lines[0].set_markersize(10)\n",
    "ax.lines[0].set_markeredgecolor('gray')\n",
    "ax.lines[0].set_markeredgewidth(1.5)\n",
    "\n",
    "plt.tight_layout()\n",
    "plt.savefig('graphs/httparchive_nel_collector_provider_count.pdf')\n"
   ],
   "id": "286d45ccb284cdb4",
   "execution_count": 20,
   "outputs": []
  },
  {
   "metadata": {},
   "cell_type": "markdown",
   "source": "#### TABLE - Stats for the latest collector providers",
   "id": "93a4e656378bae02"
  },
  {
   "metadata": {
    "ExecuteTime": {
     "end_time": "2024-04-28T14:12:13.855963Z",
     "start_time": "2024-04-28T14:12:11.192070Z"
    }
   },
   "cell_type": "code",
   "source": [
    "all_data = all_occurrences.copy()\n",
    "all_data['date_fmt'] = all_data['date'].map(lambda date: pd.to_datetime(date))\n",
    "all_data.drop(columns=['date'], inplace=True)\n",
    "all_data = all_data.sort_values(by=['date_fmt'])\n",
    "all_data.reset_index(inplace=True)\n",
    "all_data = all_data.reindex(columns=['date_fmt', 'providers', 'total_occurrences'])\n",
    "\n",
    "\n",
    "latest_data = all_data[all_data['date_fmt'] == all_data['date_fmt'].max()].copy()\n",
    "latest_data['total_employment'] = latest_data['total_occurrences'].sum()\n",
    "latest_data['provider_share'] = latest_data['total_occurrences'] / latest_data['total_employment'] * 100\n",
    "\n",
    "latest_data.sort_values(by=['total_occurrences'], ascending=False, inplace=True)\n",
    "latest_c_p_stats = latest_data.head(10).copy()\n",
    "latest_c_p_stats.reset_index(inplace=True, drop=True)\n",
    "\n",
    "\n",
    "first_occurrences_by_provider = result[result['providers'].isin(latest_c_p_stats['providers'])].groupby('providers')['date'].min()\n",
    "latest_c_p_stats['first_occurrence'] = latest_c_p_stats['providers'].map(first_occurrences_by_provider).map(date_to_text_format)\n",
    "\n",
    "\n",
    "first_occurrence_employment_by_provider = all_occurrences[all_occurrences['providers'].isin(latest_c_p_stats['providers'])].groupby('providers').agg({'date': 'min', 'total_occurrences': 'first'})['total_occurrences']\n",
    "latest_c_p_stats['first_occurrence_employment'] = latest_c_p_stats['providers'].map(first_occurrence_employment_by_provider)\n",
    "\n",
    "latest_c_p_stats.rename(columns={'total_occurrences': 'current_employment', 'total_employment': 'current_total_employment', 'provider_share': 'current_share'}, inplace=True)\n",
    "latest_c_p_stats = latest_c_p_stats[['date_fmt', 'providers', 'first_occurrence', 'first_occurrence_employment', 'current_employment', 'current_total_employment', 'current_share']]\n",
    "\n",
    "\n",
    "# IMPORTANT: Next cells will use the current 'latest_c_p_stats' as input table!!!\n",
    "\n",
    "\n",
    "latest_c_p_stats_tex = latest_c_p_stats.copy()\n",
    "latest_c_p_stats_tex.drop(columns='current_total_employment', inplace=True)\n",
    "latest_c_p_stats_tex['date_fmt'] = latest_c_p_stats_tex['date_fmt'].map(lambda date_: date_.strftime('%b %Y'))\n",
    "\n",
    "latest_c_p_stats_tex['first_occurrence_employment'] = latest_c_p_stats_tex['first_occurrence_employment'].map(lambda x: \"{:,.0f}\".format(x))\n",
    "latest_c_p_stats_tex['current_employment'] = latest_c_p_stats_tex['current_employment'].map(lambda x: \"{:,.0f}\".format(x))\n",
    "\n",
    "latest_c_p_stats_tex.rename(columns={\n",
    "    'date_fmt': 'Dátum',\n",
    "    'providers': 'Poskytovateľ',\n",
    "    'first_occurrence': 'D. nasadenia',\n",
    "    'first_occurrence_employment': 'Obsluha (nasadenie)',\n",
    "    'current_employment': 'Obsluha (aktuálne)',\n",
    "    'current_share': r'\\% z celku za mesiac',\n",
    "}, inplace=True)\n",
    "\n",
    "latest_c_p_stats_tex.to_latex(\"tables/httparchive_nel_latest_collector_provider_stats_table.tex\", float_format=lambda x: '{:,.3f}'.format(x), index=False)\n",
    "latest_c_p_stats_tex"
   ],
   "id": "aed83717397f9e33",
   "execution_count": 11,
   "outputs": []
  },
  {
   "metadata": {},
   "cell_type": "markdown",
   "source": "#### GRAPH - Stats for the latest collector providers",
   "id": "1f6d7efe05747ab1"
  },
  {
   "metadata": {
    "ExecuteTime": {
     "end_time": "2024-04-28T14:12:19.109412Z",
     "start_time": "2024-04-28T14:12:13.855963Z"
    }
   },
   "cell_type": "code",
   "source": [
    "from result_utils import MONTHS_MAP\n",
    "\n",
    "to_plot = all_occurrences[all_occurrences['providers'].isin(latest_c_p_stats['providers'])].copy()\n",
    "\n",
    "to_plot['date_fmt'] = to_plot['date'].map(lambda date: pd.to_datetime(date))\n",
    "to_plot = to_plot.sort_values(by=['date_fmt'])\n",
    "to_plot.reset_index(inplace=True)\n",
    "to_plot = to_plot.reindex(columns=['date_fmt', 'date', 'providers', 'total_occurrences']) \n",
    "\n",
    "to_plot['Rok'] = to_plot['date_fmt'].dt.year\n",
    "to_plot['Mesiac'] = to_plot['date_fmt'].dt.strftime('%m')\n",
    "\n",
    "to_plot.sort_values(by=['date_fmt'], inplace=True)\n",
    "# to_plot\n",
    "\n",
    "to_plot.drop(columns=['date_fmt', 'date'], inplace=True)\n",
    "# to_plot\n",
    "\n",
    "fig, axes = plt.subplots(nrows=2, ncols=5, figsize=(11, 5))\n",
    "\n",
    "num_providers = to_plot['providers'].unique().size\n",
    "subplot_cols = 5\n",
    "subplot_rows = 2\n",
    "\n",
    "sns.set_style('whitegrid')\n",
    "\n",
    "for idx, provider in enumerate(latest_c_p_stats['providers']):\n",
    "    current_plot_data = to_plot[to_plot['providers'] == provider].copy()\n",
    "    current_plot_data.drop(columns=['providers'], inplace=True)\n",
    "\n",
    "    current_plot_data['total_occurrences'] = current_plot_data['total_occurrences'].astype('int64')    \n",
    "    current_plot_data = current_plot_data.pivot(index='Mesiac', columns='Rok', values='total_occurrences')\n",
    "    current_plot_data.index = current_plot_data.index.map(MONTHS_MAP).astype('category')\n",
    "    current_plot_data.fillna(0, inplace=True)\n",
    "\n",
    "    current_ax = axes[idx // subplot_cols, idx % subplot_cols]\n",
    "    sns.heatmap(current_plot_data, ax=current_ax, cbar_kws={'format': ticker.EngFormatter()})\n",
    "    \n",
    "    current_ax.set_xlabel(\"\")\n",
    "    current_ax.set_ylabel(\"\")\n",
    "\n",
    "    current_ax.set_title(provider)\n",
    "    \n",
    "    current_ax.tick_params(axis='y', which=\"major\", rotation=0)\n",
    "    current_ax.tick_params(axis='x', which=\"major\", rotation=90)\n",
    "\n",
    "fig.tight_layout()\n",
    "fig.savefig('graphs/httparchive_nel_latest_collector_provider_stats.pdf')"
   ],
   "id": "5da743f7bbd75f54",
   "execution_count": 12,
   "outputs": []
  },
  {
   "metadata": {},
   "cell_type": "markdown",
   "source": "### NEL Collector Providers employed by N domains\n",
   "id": "f2c954cf738a3384"
  },
  {
   "metadata": {
    "ExecuteTime": {
     "end_time": "2024-04-28T14:12:19.563814Z",
     "start_time": "2024-04-28T14:12:19.128934Z"
    }
   },
   "cell_type": "code",
   "source": [
    "from results.result_utils import get_first_or_0\n",
    "\n",
    "employment_result = pd.DataFrame({}, index=[\n",
    "    '1',\n",
    "    '2',\n",
    "    '3-10',\n",
    "    '11-100',\n",
    "    '101-1K',\n",
    "    'More',\n",
    "])\n",
    "\n",
    "for date in dates_to_visualize:\n",
    "    month_collector_data = result[result['date'] == date].copy()\n",
    "    \n",
    "    month_data_col = []\n",
    "    \n",
    "    # month_result['1']\n",
    "    next_val = month_collector_data[month_collector_data['as_primary'] == 1].count()\n",
    "    month_data_col.append(get_first_or_0(next_val))\n",
    "    \n",
    "    # month_result['2'] \n",
    "    next_val = month_collector_data[month_collector_data['as_primary'] == 2].count()\n",
    "    month_data_col.append(get_first_or_0(next_val))\n",
    "\n",
    "    # month_result['3-10']\n",
    "    next_val = month_collector_data[(month_collector_data['as_primary'] >= 3) & (month_collector_data['as_primary'] <= 10)].count()\n",
    "    month_data_col.append(get_first_or_0(next_val))\n",
    "    \n",
    "    # month_result['3-10']\n",
    "    next_val = month_collector_data[(month_collector_data['as_primary'] >= 11) & (month_collector_data['as_primary'] <= 100)].count()\n",
    "    month_data_col.append(get_first_or_0(next_val))\n",
    "    \n",
    "    # month_result['3-10']\n",
    "    next_val = month_collector_data[(month_collector_data['as_primary'] >= 101) & (month_collector_data['as_primary'] <= 1000)].count()\n",
    "    month_data_col.append(get_first_or_0(next_val))\n",
    "    \n",
    "    # month_result['3-10']\n",
    "    next_val = month_collector_data[month_collector_data['as_primary'] >= 1001].count()\n",
    "    month_data_col.append(get_first_or_0(next_val))\n",
    "    \n",
    "    \n",
    "    employment_result[date_to_text_format(date)] = month_data_col\n",
    "    \n",
    "employment_result"
   ],
   "id": "e5dc879ecb3e978",
   "execution_count": 13,
   "outputs": []
  },
  {
   "metadata": {},
   "cell_type": "markdown",
   "source": "### Total number of collectors found during the analysed time period\n",
   "id": "21d3e2421b671cf8"
  },
  {
   "metadata": {
    "ExecuteTime": {
     "end_time": "2024-04-28T14:12:19.570710Z",
     "start_time": "2024-04-28T14:12:19.563814Z"
    }
   },
   "cell_type": "code",
   "source": "len(result['providers'].unique())",
   "id": "a1b489585a82877",
   "execution_count": 14,
   "outputs": []
  }
 ],
 "metadata": {
  "kernelspec": {
   "display_name": "Python 3",
   "language": "python",
   "name": "python3"
  },
  "language_info": {
   "codemirror_mode": {
    "name": "ipython",
    "version": 2
   },
   "file_extension": ".py",
   "mimetype": "text/x-python",
   "name": "python",
   "nbconvert_exporter": "python",
   "pygments_lexer": "ipython2",
   "version": "2.7.6"
  }
 },
 "nbformat": 4,
 "nbformat_minor": 5
}

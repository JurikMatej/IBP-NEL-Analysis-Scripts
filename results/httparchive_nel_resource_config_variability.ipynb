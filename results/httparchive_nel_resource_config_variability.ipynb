{
 "cells": [
  {
   "cell_type": "code",
   "id": "initial_id",
   "metadata": {
    "collapsed": true,
    "ExecuteTime": {
     "end_time": "2024-04-27T19:39:07.230985Z",
     "start_time": "2024-04-27T19:39:07.226613Z"
    }
   },
   "source": [
    "from pathlib import Path\n",
    "\n",
    "import pandas as pd"
   ],
   "execution_count": 1,
   "outputs": []
  },
  {
   "metadata": {
    "ExecuteTime": {
     "end_time": "2024-04-27T19:39:07.237482Z",
     "start_time": "2024-04-27T19:39:07.230985Z"
    }
   },
   "cell_type": "code",
   "source": [
    "dates_to_visualize = [\n",
    "                                                                                            \"2018-09\", \"2018-10\", \"2018-11\", \"2018-12\",\n",
    "    \"2019-01\", \"2019-02\", \"2019-03\", \"2019-04\", \"2019-05\", \"2019-06\", \"2019-07\", \"2019-08\", \"2019-09\", \"2019-10\", \"2019-11\", \"2019-12\",\n",
    "    \"2020-01\", \"2020-02\", \"2020-03\", \"2020-04\", \"2020-05\", \"2020-06\", \"2020-07\", \"2020-08\", \"2020-09\", \"2020-10\", \"2020-11\", \"2020-12\",\n",
    "    \"2021-01\", \"2021-02\", \"2021-03\", \"2021-04\", \"2021-05\", \"2021-06\", \"2021-07\", \"2021-08\", \"2021-09\", \"2021-10\", \"2021-11\", \"2021-12\",\n",
    "    \"2022-01\", \"2022-02\", \"2022-03\", \"2022-04\", \"2022-05\", \"2022-06\", \"2022-07\", \"2022-08\", \"2022-09\", \"2022-10\", \"2022-11\", \"2022-12\",\n",
    "    \"2023-01\", \"2023-02\", \"2023-03\", \"2023-04\", \"2023-05\", \"2023-06\", \"2023-07\", \"2023-08\", \"2023-09\", \"2023-10\", \"2023-11\", \"2023-12\",\n",
    "    \"2024-01\", \"2024-02\", \"2024-03\", \"2024-04\", \n",
    "]"
   ],
   "id": "d02bbf7560aaf07",
   "execution_count": 2,
   "outputs": []
  },
  {
   "metadata": {
    "ExecuteTime": {
     "end_time": "2024-04-27T19:39:07.248502Z",
     "start_time": "2024-04-27T19:39:07.237482Z"
    }
   },
   "cell_type": "code",
   "source": [
    "available_data_files = list(Path(\"../data/httparchive_metrics/nel_resource_config_variability\").glob(\"*.parquet\"))\n",
    "\n",
    "used_data_files = list(filter(lambda file: file.stem in dates_to_visualize, available_data_files))\n",
    "used_data_files"
   ],
   "id": "a128afdfe1fd2fdc",
   "execution_count": 3,
   "outputs": []
  },
  {
   "metadata": {},
   "cell_type": "markdown",
   "source": "### Aggregate result to visualize",
   "id": "4594bceea2dbc973"
  },
  {
   "metadata": {
    "ExecuteTime": {
     "end_time": "2024-04-27T19:41:27.413741Z",
     "start_time": "2024-04-27T19:39:07.248502Z"
    }
   },
   "cell_type": "code",
   "source": [
    "from results.result_utils import date_to_text_format, concat_data_from_files\n",
    "\n",
    "result = concat_data_from_files(used_data_files)\n",
    "\n",
    "result['date_formatted'] = result['date'].map(date_to_text_format)\n",
    "\n",
    "result"
   ],
   "id": "b5d659407479e9c9",
   "execution_count": 4,
   "outputs": []
  },
  {
   "metadata": {},
   "cell_type": "markdown",
   "source": "### TOP 3 most popular config variations per month",
   "id": "66aef1f0e1ff0d4b"
  },
  {
   "metadata": {
    "ExecuteTime": {
     "end_time": "2024-04-27T19:45:41.009248Z",
     "start_time": "2024-04-27T19:41:27.433875Z"
    }
   },
   "cell_type": "code",
   "source": [
    "monthly_variations = pd.DataFrame()\n",
    "for month in dates_to_visualize:\n",
    "    current_month_data = result[result['date'] == month].copy()\n",
    "    \n",
    "    current_month_data = current_month_data.groupby(['nel_include_subdomains', 'nel_failure_fraction', 'nel_success_fraction', 'nel_max_age'], observed=True, as_index=False).agg(domains=('url_domain', 'count'))\n",
    "    \n",
    "    current_month_data.sort_values(by='domains', ascending=False, inplace=True)\n",
    "    \n",
    "    current_month_data['date'] = date_to_text_format(month)\n",
    "    current_month_data = current_month_data.reindex(columns=['date', 'nel_include_subdomains', 'nel_failure_fraction', 'nel_success_fraction', 'nel_max_age', 'domains'])\n",
    "    \n",
    "    current_month_data.reset_index(drop=True, inplace=True)\n",
    "    \n",
    "    monthly_variations = pd.concat([monthly_variations, current_month_data])\n",
    "    \n",
    "monthly_variations = monthly_variations[monthly_variations.index < 3] \n",
    "monthly_variations"
   ],
   "id": "6771d057f06769b4",
   "execution_count": 5,
   "outputs": []
  },
  {
   "metadata": {},
   "cell_type": "markdown",
   "source": "#### TABLE - Anually most popular collector provider config",
   "id": "af31cf449f30abf4"
  },
  {
   "metadata": {
    "ExecuteTime": {
     "end_time": "2024-04-27T20:23:19.077559Z",
     "start_time": "2024-04-27T20:23:18.613972Z"
    }
   },
   "cell_type": "code",
   "source": [
    "data = monthly_variations.copy()\n",
    "data = data[data.index == 0]\n",
    "data.reset_index(drop=True, inplace=True)\n",
    "\n",
    "target_dates = ['Dec ' + str(x) for x in range(2018, 2024)]\n",
    "target_dates.append('Apr 2024')\n",
    "\n",
    "popular_config_table = data[data['date'].isin(target_dates)].copy()\n",
    "popular_config_table['domains'] = popular_config_table['domains'].astype('float32')\n",
    "\n",
    "popular_config_table.rename(columns={\n",
    "    'date': 'Dátum',\n",
    "    'nel_include_subdomains': 'IS',\n",
    "    'nel_failure_fraction': 'FF',\n",
    "    'nel_success_fraction': 'SF',\n",
    "    'nel_max_age': 'MA',\n",
    "    'domains': 'Počet domén',\n",
    "}, inplace=True)\n",
    "\n",
    "# popular_config_table['Konfigurácia'] = popular_config_table.agg(\n",
    "#     lambda x: f\"IS: {x['include_subdomains']},\\tFF: {x['failure_fraction']},\\tSF {x['success_fraction']},\\tMA: {x['max_age']}\", axis=1)\n",
    "\n",
    "popular_config_table = popular_config_table[['Dátum', 'IS', 'FF', 'SF', 'MA', 'Počet domén']]\n",
    "popular_config_table.to_latex(\"tables/httparchive_nel_domain_config_popular.tex\", float_format=lambda x: '{:,.0f}'.format(x), index=False)\n",
    "popular_config_table.reset_index(drop=True)"
   ],
   "id": "f1d94b455960f69a",
   "execution_count": 47,
   "outputs": []
  },
  {
   "metadata": {},
   "cell_type": "markdown",
   "source": "### Number of NEL Config variations found on the analyzed domains ",
   "id": "13e3a044331c11c8"
  },
  {
   "metadata": {
    "ExecuteTime": {
     "end_time": "2024-04-27T19:50:46.830172Z",
     "start_time": "2024-04-27T19:45:41.020762Z"
    }
   },
   "cell_type": "code",
   "source": [
    "monthly_variation_count_data = pd.DataFrame()\n",
    "for month in dates_to_visualize:\n",
    "    current_month_data = result[result['date'] == month][['date', 'url_domain', 'nel_include_subdomains']].copy()\n",
    "    \n",
    "    config_variations_by_url_domain = current_month_data.groupby(['url_domain'])['nel_include_subdomains'].count()\n",
    "    current_month_data['variation_count'] = current_month_data['url_domain'].map(config_variations_by_url_domain)\n",
    "    current_month_data.drop(columns=['nel_include_subdomains'], inplace=True)\n",
    "        \n",
    "    current_month_data = current_month_data.groupby(['variation_count']).agg(domains=('url_domain', 'count'))\n",
    "    current_month_data.reset_index(inplace=True)    \n",
    "    \n",
    "    current_month_data['date'] = date_to_text_format(month)\n",
    "    current_month_data = current_month_data[['date', 'variation_count', 'domains']]\n",
    "    \n",
    "    monthly_variation_count_data = pd.concat([monthly_variation_count_data, current_month_data])\n",
    "    \n",
    "monthly_variation_count_data"
   ],
   "id": "ccee045a16d08c3e",
   "execution_count": 6,
   "outputs": []
  },
  {
   "metadata": {},
   "cell_type": "markdown",
   "source": "#### TABLE - Variations pivot table",
   "id": "7239d5239c3b1c3c"
  },
  {
   "metadata": {
    "ExecuteTime": {
     "end_time": "2024-04-27T20:19:53.029831Z",
     "start_time": "2024-04-27T20:19:52.638662Z"
    }
   },
   "cell_type": "code",
   "source": [
    "pd.options.display.float_format = '{:,.0f}'.format\n",
    "\n",
    "data = monthly_variation_count_data.copy()\n",
    "data['Dátum'] = data['date'].map(lambda date: pd.to_datetime(date, format=\"%b %Y\"))\n",
    "data['Dátum'] = data['Dátum'].map(lambda date: date.strftime('%Y-%m'))\n",
    "\n",
    "data.rename(columns={'variation_count': 'Počet variácií'}, inplace=True)\n",
    "\n",
    "data['domains'] = data['domains'].astype('int64')\n",
    "\n",
    "variations_table = data.pivot(index='Počet variácií', columns='Dátum', values='domains')\n",
    "variations_table = variations_table.fillna(0)\n",
    "\n",
    "last_month_col_name = pd.to_datetime(\"Apr 2024\", format=\"%b %Y\").strftime(\"%Y-%m\")  # TODO change to Apr 2024!!!!!!!\n",
    "\n",
    "target_col_names = list(filter(lambda col_name: col_name.endswith('12'), variations_table.columns))\n",
    "target_col_names.append(last_month_col_name)\n",
    "\n",
    "variations_table = variations_table[target_col_names]\n",
    "\n",
    "\n",
    "variations_table.to_latex(\"tables/httparchive_nel_domain_config_variations.tex\", float_format=lambda x: '{:,.0f}'.format(x))\n",
    "variations_table"
   ],
   "id": "44260c64ccd9fa6f",
   "execution_count": 44,
   "outputs": []
  }
 ],
 "metadata": {
  "kernelspec": {
   "display_name": "Python 3",
   "language": "python",
   "name": "python3"
  },
  "language_info": {
   "codemirror_mode": {
    "name": "ipython",
    "version": 2
   },
   "file_extension": ".py",
   "mimetype": "text/x-python",
   "name": "python",
   "nbconvert_exporter": "python",
   "pygments_lexer": "ipython2",
   "version": "2.7.6"
  }
 },
 "nbformat": 4,
 "nbformat_minor": 5
}

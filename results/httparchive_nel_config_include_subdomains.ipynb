{
 "cells": [
  {
   "cell_type": "code",
   "id": "initial_id",
   "metadata": {
    "collapsed": true,
    "ExecuteTime": {
     "end_time": "2024-04-14T19:25:56.705554Z",
     "start_time": "2024-04-14T19:25:56.702008Z"
    }
   },
   "source": [
    "from pathlib import Path\n",
    "\n",
    "import pandas as pd"
   ],
   "outputs": [],
   "execution_count": 1
  },
  {
   "metadata": {
    "ExecuteTime": {
     "end_time": "2024-04-14T19:25:56.710872Z",
     "start_time": "2024-04-14T19:25:56.705554Z"
    }
   },
   "cell_type": "code",
   "source": [
    "dates_to_visualize = [\n",
    "    \"2019-02\",\n",
    "    \"2020-02\",\n",
    "    \"2021-02\",\n",
    "    \"2022-02\",\n",
    "    \"2023-02\",\n",
    "    # \"2024-02\",\n",
    "]"
   ],
   "id": "c07259930290c1c9",
   "outputs": [],
   "execution_count": 2
  },
  {
   "metadata": {
    "ExecuteTime": {
     "end_time": "2024-04-14T19:25:57.617790Z",
     "start_time": "2024-04-14T19:25:57.596394Z"
    }
   },
   "cell_type": "code",
   "source": [
    "available_data_files = list(Path(\"../data/httparchive_metrics/nel_config\").glob(\"*.parquet\"))\n",
    "\n",
    "used_data_files = list(filter(lambda file: file.stem.split(\"_\")[-1] in dates_to_visualize, available_data_files))\n",
    "used_data_files"
   ],
   "id": "52165933a47769e6",
   "outputs": [
    {
     "data": {
      "text/plain": [
       "[WindowsPath('../data/httparchive_metrics/nel_config/failure_fraction_2019-02.parquet'),\n",
       " WindowsPath('../data/httparchive_metrics/nel_config/failure_fraction_2020-02.parquet'),\n",
       " WindowsPath('../data/httparchive_metrics/nel_config/failure_fraction_2021-02.parquet'),\n",
       " WindowsPath('../data/httparchive_metrics/nel_config/failure_fraction_2022-02.parquet'),\n",
       " WindowsPath('../data/httparchive_metrics/nel_config/failure_fraction_2023-02.parquet'),\n",
       " WindowsPath('../data/httparchive_metrics/nel_config/include_subdomains_2019-02.parquet'),\n",
       " WindowsPath('../data/httparchive_metrics/nel_config/include_subdomains_2020-02.parquet'),\n",
       " WindowsPath('../data/httparchive_metrics/nel_config/include_subdomains_2021-02.parquet'),\n",
       " WindowsPath('../data/httparchive_metrics/nel_config/include_subdomains_2022-02.parquet'),\n",
       " WindowsPath('../data/httparchive_metrics/nel_config/include_subdomains_2023-02.parquet'),\n",
       " WindowsPath('../data/httparchive_metrics/nel_config/max_age_2019-02.parquet'),\n",
       " WindowsPath('../data/httparchive_metrics/nel_config/max_age_2020-02.parquet'),\n",
       " WindowsPath('../data/httparchive_metrics/nel_config/max_age_2021-02.parquet'),\n",
       " WindowsPath('../data/httparchive_metrics/nel_config/max_age_2022-02.parquet'),\n",
       " WindowsPath('../data/httparchive_metrics/nel_config/max_age_2023-02.parquet'),\n",
       " WindowsPath('../data/httparchive_metrics/nel_config/success_fraction_2019-02.parquet'),\n",
       " WindowsPath('../data/httparchive_metrics/nel_config/success_fraction_2020-02.parquet'),\n",
       " WindowsPath('../data/httparchive_metrics/nel_config/success_fraction_2021-02.parquet'),\n",
       " WindowsPath('../data/httparchive_metrics/nel_config/success_fraction_2022-02.parquet'),\n",
       " WindowsPath('../data/httparchive_metrics/nel_config/success_fraction_2023-02.parquet')]"
      ]
     },
     "execution_count": 3,
     "metadata": {},
     "output_type": "execute_result"
    }
   ],
   "execution_count": 3
  },
  {
   "metadata": {},
   "cell_type": "markdown",
   "source": "### Success fraction configuration over months\n",
   "id": "25f7d89fbec0f42d"
  },
  {
   "metadata": {
    "ExecuteTime": {
     "end_time": "2024-04-14T19:25:59.702156Z",
     "start_time": "2024-04-14T19:25:59.694805Z"
    }
   },
   "cell_type": "code",
   "source": [
    "# Pick out the Failure Fraction files\n",
    "ff_files = list(filter(lambda file: file.stem[:file.stem.rfind(\"_\")] == 'include_subdomains', used_data_files))\n",
    "ff_files"
   ],
   "id": "1c79d9f828f4e04b",
   "outputs": [
    {
     "data": {
      "text/plain": [
       "[WindowsPath('../data/httparchive_metrics/nel_config/include_subdomains_2019-02.parquet'),\n",
       " WindowsPath('../data/httparchive_metrics/nel_config/include_subdomains_2020-02.parquet'),\n",
       " WindowsPath('../data/httparchive_metrics/nel_config/include_subdomains_2021-02.parquet'),\n",
       " WindowsPath('../data/httparchive_metrics/nel_config/include_subdomains_2022-02.parquet'),\n",
       " WindowsPath('../data/httparchive_metrics/nel_config/include_subdomains_2023-02.parquet')]"
      ]
     },
     "execution_count": 4,
     "metadata": {},
     "output_type": "execute_result"
    }
   ],
   "execution_count": 4
  },
  {
   "metadata": {},
   "cell_type": "markdown",
   "source": "### Aggregate results to visualize",
   "id": "fd9627e8dec29cbc"
  },
  {
   "metadata": {
    "ExecuteTime": {
     "end_time": "2024-04-14T19:47:51.217832Z",
     "start_time": "2024-04-14T19:47:51.187371Z"
    }
   },
   "cell_type": "code",
   "source": [
    "from results.result_utils import concat_data_from_files, date_to_text_format\n",
    "\n",
    "is_data = concat_data_from_files(ff_files)\n",
    "is_data['nel_include_subdomains'] = is_data['nel_include_subdomains'].astype('category')\n",
    "\n",
    "is_data['date'] = is_data['date'].map(date_to_text_format)\n",
    "\n",
    "is_data"
   ],
   "id": "107d892d6fea39bd",
   "outputs": [
    {
     "data": {
      "text/plain": [
       "       date nel_include_subdomains  domain_count  domain_percent\n",
       "0  Feb 2019                  false            18        4.864865\n",
       "1  Feb 2019                   true           352       95.135135\n",
       "0  Feb 2020                  false        108494       98.987263\n",
       "1  Feb 2020                   true          1110        1.012737\n",
       "0  Feb 2021                  false       1006788       99.869359\n",
       "1  Feb 2021                   true          1317        0.130641\n",
       "0  Feb 2022                  false        970592       99.837888\n",
       "1  Feb 2022                   true          1576        0.162112\n",
       "0  Feb 2023                  false       1965629       99.405427\n",
       "1  Feb 2023                   true         11757        0.594573"
      ],
      "text/html": [
       "<div>\n",
       "<style scoped>\n",
       "    .dataframe tbody tr th:only-of-type {\n",
       "        vertical-align: middle;\n",
       "    }\n",
       "\n",
       "    .dataframe tbody tr th {\n",
       "        vertical-align: top;\n",
       "    }\n",
       "\n",
       "    .dataframe thead th {\n",
       "        text-align: right;\n",
       "    }\n",
       "</style>\n",
       "<table border=\"1\" class=\"dataframe\">\n",
       "  <thead>\n",
       "    <tr style=\"text-align: right;\">\n",
       "      <th></th>\n",
       "      <th>date</th>\n",
       "      <th>nel_include_subdomains</th>\n",
       "      <th>domain_count</th>\n",
       "      <th>domain_percent</th>\n",
       "    </tr>\n",
       "  </thead>\n",
       "  <tbody>\n",
       "    <tr>\n",
       "      <th>0</th>\n",
       "      <td>Feb 2019</td>\n",
       "      <td>false</td>\n",
       "      <td>18</td>\n",
       "      <td>4.864865</td>\n",
       "    </tr>\n",
       "    <tr>\n",
       "      <th>1</th>\n",
       "      <td>Feb 2019</td>\n",
       "      <td>true</td>\n",
       "      <td>352</td>\n",
       "      <td>95.135135</td>\n",
       "    </tr>\n",
       "    <tr>\n",
       "      <th>0</th>\n",
       "      <td>Feb 2020</td>\n",
       "      <td>false</td>\n",
       "      <td>108494</td>\n",
       "      <td>98.987263</td>\n",
       "    </tr>\n",
       "    <tr>\n",
       "      <th>1</th>\n",
       "      <td>Feb 2020</td>\n",
       "      <td>true</td>\n",
       "      <td>1110</td>\n",
       "      <td>1.012737</td>\n",
       "    </tr>\n",
       "    <tr>\n",
       "      <th>0</th>\n",
       "      <td>Feb 2021</td>\n",
       "      <td>false</td>\n",
       "      <td>1006788</td>\n",
       "      <td>99.869359</td>\n",
       "    </tr>\n",
       "    <tr>\n",
       "      <th>1</th>\n",
       "      <td>Feb 2021</td>\n",
       "      <td>true</td>\n",
       "      <td>1317</td>\n",
       "      <td>0.130641</td>\n",
       "    </tr>\n",
       "    <tr>\n",
       "      <th>0</th>\n",
       "      <td>Feb 2022</td>\n",
       "      <td>false</td>\n",
       "      <td>970592</td>\n",
       "      <td>99.837888</td>\n",
       "    </tr>\n",
       "    <tr>\n",
       "      <th>1</th>\n",
       "      <td>Feb 2022</td>\n",
       "      <td>true</td>\n",
       "      <td>1576</td>\n",
       "      <td>0.162112</td>\n",
       "    </tr>\n",
       "    <tr>\n",
       "      <th>0</th>\n",
       "      <td>Feb 2023</td>\n",
       "      <td>false</td>\n",
       "      <td>1965629</td>\n",
       "      <td>99.405427</td>\n",
       "    </tr>\n",
       "    <tr>\n",
       "      <th>1</th>\n",
       "      <td>Feb 2023</td>\n",
       "      <td>true</td>\n",
       "      <td>11757</td>\n",
       "      <td>0.594573</td>\n",
       "    </tr>\n",
       "  </tbody>\n",
       "</table>\n",
       "</div>"
      ]
     },
     "execution_count": 12,
     "metadata": {},
     "output_type": "execute_result"
    }
   ],
   "execution_count": 12
  },
  {
   "metadata": {
    "ExecuteTime": {
     "end_time": "2024-04-14T19:47:54.751627Z",
     "start_time": "2024-04-14T19:47:54.732926Z"
    }
   },
   "cell_type": "code",
   "source": [
    "result = is_data[is_data['nel_include_subdomains'] == 'true'].copy()\n",
    "result['true'] = result['domain_percent']\n",
    "result[['date', 'true']]"
   ],
   "id": "13939e7d571e8a52",
   "outputs": [
    {
     "data": {
      "text/plain": [
       "       date       true\n",
       "1  Feb 2019  95.135135\n",
       "1  Feb 2020   1.012737\n",
       "1  Feb 2021   0.130641\n",
       "1  Feb 2022   0.162112\n",
       "1  Feb 2023   0.594573"
      ],
      "text/html": [
       "<div>\n",
       "<style scoped>\n",
       "    .dataframe tbody tr th:only-of-type {\n",
       "        vertical-align: middle;\n",
       "    }\n",
       "\n",
       "    .dataframe tbody tr th {\n",
       "        vertical-align: top;\n",
       "    }\n",
       "\n",
       "    .dataframe thead th {\n",
       "        text-align: right;\n",
       "    }\n",
       "</style>\n",
       "<table border=\"1\" class=\"dataframe\">\n",
       "  <thead>\n",
       "    <tr style=\"text-align: right;\">\n",
       "      <th></th>\n",
       "      <th>date</th>\n",
       "      <th>true</th>\n",
       "    </tr>\n",
       "  </thead>\n",
       "  <tbody>\n",
       "    <tr>\n",
       "      <th>1</th>\n",
       "      <td>Feb 2019</td>\n",
       "      <td>95.135135</td>\n",
       "    </tr>\n",
       "    <tr>\n",
       "      <th>1</th>\n",
       "      <td>Feb 2020</td>\n",
       "      <td>1.012737</td>\n",
       "    </tr>\n",
       "    <tr>\n",
       "      <th>1</th>\n",
       "      <td>Feb 2021</td>\n",
       "      <td>0.130641</td>\n",
       "    </tr>\n",
       "    <tr>\n",
       "      <th>1</th>\n",
       "      <td>Feb 2022</td>\n",
       "      <td>0.162112</td>\n",
       "    </tr>\n",
       "    <tr>\n",
       "      <th>1</th>\n",
       "      <td>Feb 2023</td>\n",
       "      <td>0.594573</td>\n",
       "    </tr>\n",
       "  </tbody>\n",
       "</table>\n",
       "</div>"
      ]
     },
     "execution_count": 13,
     "metadata": {},
     "output_type": "execute_result"
    }
   ],
   "execution_count": 13
  }
 ],
 "metadata": {
  "kernelspec": {
   "display_name": "Python 3",
   "language": "python",
   "name": "python3"
  },
  "language_info": {
   "codemirror_mode": {
    "name": "ipython",
    "version": 2
   },
   "file_extension": ".py",
   "mimetype": "text/x-python",
   "name": "python",
   "nbconvert_exporter": "python",
   "pygments_lexer": "ipython2",
   "version": "2.7.6"
  }
 },
 "nbformat": 4,
 "nbformat_minor": 5
}

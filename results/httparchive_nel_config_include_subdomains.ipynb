{
 "cells": [
  {
   "cell_type": "code",
   "id": "initial_id",
   "metadata": {
    "collapsed": true,
    "ExecuteTime": {
     "end_time": "2024-04-27T21:02:02.463749Z",
     "start_time": "2024-04-27T21:02:02.460180Z"
    }
   },
   "source": [
    "from pathlib import Path\n",
    "\n",
    "import pandas as pd\n",
    "import matplotlib.ticker as ticker\n",
    "import seaborn as sns"
   ],
   "execution_count": 1,
   "outputs": []
  },
  {
   "metadata": {
    "ExecuteTime": {
     "end_time": "2024-04-27T21:02:02.469917Z",
     "start_time": "2024-04-27T21:02:02.463749Z"
    }
   },
   "cell_type": "code",
   "source": [
    "dates_to_visualize = [\n",
    "                                                                                            \"2018-09\", \"2018-10\", \"2018-11\", \"2018-12\",\n",
    "    \"2019-01\", \"2019-02\", \"2019-03\", \"2019-04\", \"2019-05\", \"2019-06\", \"2019-07\", \"2019-08\", \"2019-09\", \"2019-10\", \"2019-11\", \"2019-12\",\n",
    "    \"2020-01\", \"2020-02\", \"2020-03\", \"2020-04\", \"2020-05\", \"2020-06\", \"2020-07\", \"2020-08\", \"2020-09\", \"2020-10\", \"2020-11\", \"2020-12\",\n",
    "    \"2021-01\", \"2021-02\", \"2021-03\", \"2021-04\", \"2021-05\", \"2021-06\", \"2021-07\", \"2021-08\", \"2021-09\", \"2021-10\", \"2021-11\", \"2021-12\",\n",
    "    \"2022-01\", \"2022-02\", \"2022-03\", \"2022-04\", \"2022-05\", \"2022-06\", \"2022-07\", \"2022-08\", \"2022-09\", \"2022-10\", \"2022-11\", \"2022-12\",\n",
    "    \"2023-01\", \"2023-02\", \"2023-03\", \"2023-04\", \"2023-05\", \"2023-06\", \"2023-07\", \"2023-08\", \"2023-09\", \"2023-10\", \"2023-11\", \"2023-12\",\n",
    "    \"2024-01\", \"2024-02\", \"2024-03\", \"2024-04\", \n",
    "]"
   ],
   "id": "c07259930290c1c9",
   "execution_count": 2,
   "outputs": []
  },
  {
   "metadata": {
    "ExecuteTime": {
     "end_time": "2024-04-27T21:02:02.481985Z",
     "start_time": "2024-04-27T21:02:02.469917Z"
    }
   },
   "cell_type": "code",
   "source": [
    "available_data_files = list(Path(\"../data/httparchive_metrics/nel_config\").glob(\"*.parquet\"))\n",
    "\n",
    "used_data_files = list(filter(lambda file: file.stem.split(\"_\")[-1] in dates_to_visualize, available_data_files))\n",
    "used_data_files"
   ],
   "id": "52165933a47769e6",
   "execution_count": 3,
   "outputs": []
  },
  {
   "metadata": {},
   "cell_type": "markdown",
   "source": "### Success fraction configuration over months\n",
   "id": "25f7d89fbec0f42d"
  },
  {
   "metadata": {
    "ExecuteTime": {
     "end_time": "2024-04-27T21:02:02.487895Z",
     "start_time": "2024-04-27T21:02:02.481985Z"
    }
   },
   "cell_type": "code",
   "source": [
    "# Pick out the Failure Fraction files\n",
    "ff_files = list(filter(lambda file: file.stem[:file.stem.rfind(\"_\")] == 'include_subdomains', used_data_files))\n",
    "ff_files"
   ],
   "id": "1c79d9f828f4e04b",
   "execution_count": 4,
   "outputs": []
  },
  {
   "metadata": {},
   "cell_type": "markdown",
   "source": "### Aggregate results to visualize",
   "id": "fd9627e8dec29cbc"
  },
  {
   "metadata": {
    "ExecuteTime": {
     "end_time": "2024-04-27T21:02:03.775502Z",
     "start_time": "2024-04-27T21:02:02.487895Z"
    }
   },
   "cell_type": "code",
   "source": [
    "from results.result_utils import concat_data_from_files, date_to_text_format, MONTHS_MAP\n",
    "\n",
    "is_data = concat_data_from_files(ff_files)\n",
    "is_data['nel_include_subdomains'] = is_data['nel_include_subdomains'].astype('category')\n",
    "\n",
    "is_data['date'] = is_data['date'].map(date_to_text_format)\n",
    "\n",
    "is_data"
   ],
   "id": "107d892d6fea39bd",
   "execution_count": 5,
   "outputs": []
  },
  {
   "metadata": {
    "ExecuteTime": {
     "end_time": "2024-04-27T21:02:03.787496Z",
     "start_time": "2024-04-27T21:02:03.775502Z"
    }
   },
   "cell_type": "code",
   "source": [
    "result = is_data[is_data['nel_include_subdomains'] == 'true'].copy()\n",
    "result['true'] = result['domain_percent']\n",
    "result[['date', 'true']]"
   ],
   "id": "13939e7d571e8a52",
   "execution_count": 6,
   "outputs": []
  },
  {
   "metadata": {
    "ExecuteTime": {
     "end_time": "2024-04-27T21:09:12.206475Z",
     "start_time": "2024-04-27T21:09:08.569138Z"
    }
   },
   "cell_type": "code",
   "source": [
    "import numpy as np\n",
    "from results.result_utils import MONTHS_MAP\n",
    "\n",
    "data = is_data.copy()\n",
    "\n",
    "data.loc[data['nel_include_subdomains'] == \"true\", 'include_subdomains'] = \"true\"\n",
    "data.loc[data['nel_include_subdomains'] == \"false\", 'include_subdomains'] = \"false\"\n",
    "\n",
    "\n",
    "data['date'] = data['date'].map(pd.to_datetime)\n",
    "\n",
    "data = data[['date', 'include_subdomains', 'domain_count']]\n",
    "\n",
    "to_plot = pd.DataFrame(index=pd.date_range('01-01-2018', '31-12-2024', freq='MS'))\n",
    "\n",
    "include_subdomains = data.groupby(['date'])['include_subdomains'].apply(np.hstack)\n",
    "to_plot['include_subdomains'] = to_plot.index.map(include_subdomains)\n",
    "\n",
    "domain_count = data.groupby(['date'])['domain_count'].apply(np.hstack)\n",
    "to_plot['domain_count'] = to_plot.index.map(domain_count)\n",
    "\n",
    "to_plot = to_plot.explode(column=['include_subdomains', 'domain_count'])\n",
    "# to_plot.fillna(0, inplace=True)\n",
    "to_plot.reset_index(inplace=True)\n",
    "to_plot.rename(columns={'index': 'date'}, inplace=True)\n",
    "\n",
    "sns.set_style('whitegrid')\n",
    "\n",
    "to_plot['Rok'] = to_plot['date'].dt.year\n",
    "to_plot['Mesiac'] = to_plot['date'].dt.month\n",
    "\n",
    "g = sns.catplot(to_plot, kind='bar', \n",
    "                x='Mesiac', y='domain_count', hue='include_subdomains',\n",
    "                col='Rok', col_wrap=4,\n",
    "                height=2.5, aspect=1,\n",
    "                )\n",
    "\n",
    "\n",
    "for ax in g.axes:\n",
    "    ax.xaxis.remove_overlapping_locs = False\n",
    "    \n",
    "    ax.xaxis.set_major_formatter(ticker.FuncFormatter(lambda x, _: MONTHS_MAP[str(x + 1).zfill(2)]))\n",
    "    ax.tick_params(axis='x', which=\"major\", rotation=90)\n",
    "    \n",
    "    ax.xaxis.set_minor_locator(ticker.NullLocator())\n",
    "\n",
    "    ax.set_yscale('log')\n",
    "    ax.yaxis.set_major_locator(ticker.LogLocator(base=10.0, numticks=7))\n",
    "    ax.yaxis.set_major_formatter(ticker.EngFormatter())\n",
    "    \n",
    "    ax.grid(True, which='major', linestyle='-',)\n",
    "\n",
    "g.set_xlabels(\"Mesiac\")\n",
    "g.set_ylabels(\"Počet domén\")\n",
    "\n",
    "# g.figure.suptitle(\"Nastavenie hodnôt include_subdomains počas skúmaného obdobia\")\n",
    "g.tight_layout()\n",
    "\n",
    "g.savefig(\"graphs/httparchive_nel_config_is_dist.pdf\")"
   ],
   "id": "aefe60b7323f374e",
   "execution_count": 10,
   "outputs": []
  }
 ],
 "metadata": {
  "kernelspec": {
   "display_name": "Python 3",
   "language": "python",
   "name": "python3"
  },
  "language_info": {
   "codemirror_mode": {
    "name": "ipython",
    "version": 2
   },
   "file_extension": ".py",
   "mimetype": "text/x-python",
   "name": "python",
   "nbconvert_exporter": "python",
   "pygments_lexer": "ipython2",
   "version": "2.7.6"
  }
 },
 "nbformat": 4,
 "nbformat_minor": 5
}

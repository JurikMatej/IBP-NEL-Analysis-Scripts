{
 "cells": [
  {
   "cell_type": "code",
   "execution_count": 9,
   "id": "initial_id",
   "metadata": {
    "collapsed": true,
    "ExecuteTime": {
     "end_time": "2024-04-01T20:41:59.553795Z",
     "start_time": "2024-04-01T20:41:59.550137Z"
    }
   },
   "outputs": [],
   "source": [
    "from pathlib import Path\n",
    "\n",
    "import pandas as pd"
   ]
  },
  {
   "cell_type": "code",
   "outputs": [],
   "source": [
    "dates_to_visualize = [\n",
    "    \"2019-02\",\n",
    "    \"2020-02\",\n",
    "    \"2021-02\",\n",
    "    \"2022-02\",\n",
    "    # \"2023_02\",\n",
    "    # \"2024_02\",\n",
    "]"
   ],
   "metadata": {
    "collapsed": false,
    "ExecuteTime": {
     "end_time": "2024-04-01T20:41:59.559459Z",
     "start_time": "2024-04-01T20:41:59.554959Z"
    }
   },
   "id": "7094ea0e767c0068",
   "execution_count": 10
  },
  {
   "cell_type": "code",
   "outputs": [],
   "source": [
    "available_data_files = list(Path(\"data/metrics/nel_collector_provider_usage\").glob(\"*.parquet\"))\n",
    "\n",
    "used_data_files = filter(lambda file: file.stem in dates_to_visualize, available_data_files)"
   ],
   "metadata": {
    "collapsed": false,
    "ExecuteTime": {
     "end_time": "2024-04-01T20:41:59.564753Z",
     "start_time": "2024-04-01T20:41:59.560690Z"
    }
   },
   "id": "44529dd0d2660561",
   "execution_count": 11
  },
  {
   "cell_type": "code",
   "outputs": [
    {
     "data": {
      "text/plain": "       date          providers  as_primary  share_as_primary  as_secondary  \\\n0   2019-02     report-uri.com       318.0         85.945946           0.0   \n1   2019-02            3gl.net        21.0          5.675676           0.0   \n2   2019-02       uriports.com         9.0          2.432432           0.0   \n3   2019-02           gvt2.com         5.0          1.351351           5.0   \n4   2019-02         seloc.club         5.0          1.351351           0.0   \n5   2019-02  bingparachute.com         5.0          1.351351           0.0   \n6   2019-02             gie.im         2.0          0.540541           0.0   \n7   2019-02       3genlabs.net         2.0          0.540541           0.0   \n8   2019-02          reenio.cz         1.0          0.270270           0.0   \n9   2019-02          krvtz.net         1.0          0.270270           0.0   \n10  2019-02       namepros.com         1.0          0.270270           0.0   \n11  2019-02         google.com         0.0          0.000000           0.0   \n12  2019-02           gvt3.com         0.0          0.000000           0.0   \n\n    share_as_secondary  among_fallback  \n0                  0.0             0.0  \n1                  0.0             0.0  \n2                  0.0             0.0  \n3                100.0             8.0  \n4                  0.0             0.0  \n5                  0.0             0.0  \n6                  0.0             0.0  \n7                  0.0             0.0  \n8                  0.0             0.0  \n9                  0.0             0.0  \n10                 0.0             0.0  \n11                 0.0             2.0  \n12                 0.0             2.0  ",
      "text/html": "<div>\n<style scoped>\n    .dataframe tbody tr th:only-of-type {\n        vertical-align: middle;\n    }\n\n    .dataframe tbody tr th {\n        vertical-align: top;\n    }\n\n    .dataframe thead th {\n        text-align: right;\n    }\n</style>\n<table border=\"1\" class=\"dataframe\">\n  <thead>\n    <tr style=\"text-align: right;\">\n      <th></th>\n      <th>date</th>\n      <th>providers</th>\n      <th>as_primary</th>\n      <th>share_as_primary</th>\n      <th>as_secondary</th>\n      <th>share_as_secondary</th>\n      <th>among_fallback</th>\n    </tr>\n  </thead>\n  <tbody>\n    <tr>\n      <th>0</th>\n      <td>2019-02</td>\n      <td>report-uri.com</td>\n      <td>318.0</td>\n      <td>85.945946</td>\n      <td>0.0</td>\n      <td>0.0</td>\n      <td>0.0</td>\n    </tr>\n    <tr>\n      <th>1</th>\n      <td>2019-02</td>\n      <td>3gl.net</td>\n      <td>21.0</td>\n      <td>5.675676</td>\n      <td>0.0</td>\n      <td>0.0</td>\n      <td>0.0</td>\n    </tr>\n    <tr>\n      <th>2</th>\n      <td>2019-02</td>\n      <td>uriports.com</td>\n      <td>9.0</td>\n      <td>2.432432</td>\n      <td>0.0</td>\n      <td>0.0</td>\n      <td>0.0</td>\n    </tr>\n    <tr>\n      <th>3</th>\n      <td>2019-02</td>\n      <td>gvt2.com</td>\n      <td>5.0</td>\n      <td>1.351351</td>\n      <td>5.0</td>\n      <td>100.0</td>\n      <td>8.0</td>\n    </tr>\n    <tr>\n      <th>4</th>\n      <td>2019-02</td>\n      <td>seloc.club</td>\n      <td>5.0</td>\n      <td>1.351351</td>\n      <td>0.0</td>\n      <td>0.0</td>\n      <td>0.0</td>\n    </tr>\n    <tr>\n      <th>5</th>\n      <td>2019-02</td>\n      <td>bingparachute.com</td>\n      <td>5.0</td>\n      <td>1.351351</td>\n      <td>0.0</td>\n      <td>0.0</td>\n      <td>0.0</td>\n    </tr>\n    <tr>\n      <th>6</th>\n      <td>2019-02</td>\n      <td>gie.im</td>\n      <td>2.0</td>\n      <td>0.540541</td>\n      <td>0.0</td>\n      <td>0.0</td>\n      <td>0.0</td>\n    </tr>\n    <tr>\n      <th>7</th>\n      <td>2019-02</td>\n      <td>3genlabs.net</td>\n      <td>2.0</td>\n      <td>0.540541</td>\n      <td>0.0</td>\n      <td>0.0</td>\n      <td>0.0</td>\n    </tr>\n    <tr>\n      <th>8</th>\n      <td>2019-02</td>\n      <td>reenio.cz</td>\n      <td>1.0</td>\n      <td>0.270270</td>\n      <td>0.0</td>\n      <td>0.0</td>\n      <td>0.0</td>\n    </tr>\n    <tr>\n      <th>9</th>\n      <td>2019-02</td>\n      <td>krvtz.net</td>\n      <td>1.0</td>\n      <td>0.270270</td>\n      <td>0.0</td>\n      <td>0.0</td>\n      <td>0.0</td>\n    </tr>\n    <tr>\n      <th>10</th>\n      <td>2019-02</td>\n      <td>namepros.com</td>\n      <td>1.0</td>\n      <td>0.270270</td>\n      <td>0.0</td>\n      <td>0.0</td>\n      <td>0.0</td>\n    </tr>\n    <tr>\n      <th>11</th>\n      <td>2019-02</td>\n      <td>google.com</td>\n      <td>0.0</td>\n      <td>0.000000</td>\n      <td>0.0</td>\n      <td>0.0</td>\n      <td>2.0</td>\n    </tr>\n    <tr>\n      <th>12</th>\n      <td>2019-02</td>\n      <td>gvt3.com</td>\n      <td>0.0</td>\n      <td>0.000000</td>\n      <td>0.0</td>\n      <td>0.0</td>\n      <td>2.0</td>\n    </tr>\n  </tbody>\n</table>\n</div>"
     },
     "execution_count": 12,
     "metadata": {},
     "output_type": "execute_result"
    }
   ],
   "source": [
    "result = None\n",
    "for data_file in used_data_files:\n",
    "    data = pd.read_parquet(data_file)\n",
    "    \n",
    "    break\n",
    "    \n",
    "    # if result is None and len(data) != 0:\n",
    "    #     result = data\n",
    "    # else:\n",
    "    #     result = pd.concat([result, data])\n",
    "        \n",
    "data"
   ],
   "metadata": {
    "collapsed": false,
    "ExecuteTime": {
     "end_time": "2024-04-01T20:41:59.581621Z",
     "start_time": "2024-04-01T20:41:59.565896Z"
    }
   },
   "id": "28a5d18bfd1a4aa2",
   "execution_count": 12
  }
 ],
 "metadata": {
  "kernelspec": {
   "display_name": "Python 3",
   "language": "python",
   "name": "python3"
  },
  "language_info": {
   "codemirror_mode": {
    "name": "ipython",
    "version": 2
   },
   "file_extension": ".py",
   "mimetype": "text/x-python",
   "name": "python",
   "nbconvert_exporter": "python",
   "pygments_lexer": "ipython2",
   "version": "2.7.6"
  }
 },
 "nbformat": 4,
 "nbformat_minor": 5
}

{
 "cells": [
  {
   "cell_type": "code",
   "id": "initial_id",
   "metadata": {
    "collapsed": true,
    "ExecuteTime": {
     "end_time": "2024-04-29T11:16:31.864389Z",
     "start_time": "2024-04-29T11:16:31.855973Z"
    }
   },
   "source": [
    "import numpy as np\n",
    "import pandas as pd\n",
    "\n",
    "from pathlib import Path\n",
    "\n",
    "from src.metric_utils import load_tranco_list_from_custom_path\n"
   ],
   "outputs": [],
   "execution_count": 127
  },
  {
   "metadata": {},
   "cell_type": "markdown",
   "source": "### CONFIG",
   "id": "af72f909ac7d088"
  },
  {
   "metadata": {
    "ExecuteTime": {
     "end_time": "2024-04-29T12:15:27.173912Z",
     "start_time": "2024-04-29T12:15:27.169465Z"
    }
   },
   "cell_type": "code",
   "source": [
    "latest_month_metrics_fmt = \"2024-04\"\n",
    "latest_month_text_fmt = \"Apr 2024\""
   ],
   "id": "9c33c4e57066155a",
   "outputs": [],
   "execution_count": 182
  },
  {
   "metadata": {},
   "cell_type": "markdown",
   "source": "### Load necessary CRAWL data",
   "id": "13fbe073e6aa05be"
  },
  {
   "metadata": {
    "ExecuteTime": {
     "end_time": "2024-04-29T11:16:31.947796Z",
     "start_time": "2024-04-29T11:16:31.934517Z"
    }
   },
   "cell_type": "code",
   "source": [
    "crawled_deployment = pd.read_parquet(f\"../data/crawled_metrics/nel_deployment/{latest_month_metrics_fmt}.parquet\")\n",
    "crawled_deployment"
   ],
   "id": "25dc2cdf3e6d4091",
   "outputs": [
    {
     "data": {
      "text/plain": [
       "      date  total_crawled_resources  total_crawled_domains  \\\n",
       "0  2024-04                  3962754                  23183   \n",
       "\n",
       "   total_crawled_resources_with_nel  total_crawled_domains_with_nel  \\\n",
       "0                           3943304                           23084   \n",
       "\n",
       "   total_crawled_resources_with_correct_nel  \\\n",
       "0                                   3943299   \n",
       "\n",
       "   total_crawled_domains_with_correct_nel  \n",
       "0                                   23083  "
      ],
      "text/html": [
       "<div>\n",
       "<style scoped>\n",
       "    .dataframe tbody tr th:only-of-type {\n",
       "        vertical-align: middle;\n",
       "    }\n",
       "\n",
       "    .dataframe tbody tr th {\n",
       "        vertical-align: top;\n",
       "    }\n",
       "\n",
       "    .dataframe thead th {\n",
       "        text-align: right;\n",
       "    }\n",
       "</style>\n",
       "<table border=\"1\" class=\"dataframe\">\n",
       "  <thead>\n",
       "    <tr style=\"text-align: right;\">\n",
       "      <th></th>\n",
       "      <th>date</th>\n",
       "      <th>total_crawled_resources</th>\n",
       "      <th>total_crawled_domains</th>\n",
       "      <th>total_crawled_resources_with_nel</th>\n",
       "      <th>total_crawled_domains_with_nel</th>\n",
       "      <th>total_crawled_resources_with_correct_nel</th>\n",
       "      <th>total_crawled_domains_with_correct_nel</th>\n",
       "    </tr>\n",
       "  </thead>\n",
       "  <tbody>\n",
       "    <tr>\n",
       "      <th>0</th>\n",
       "      <td>2024-04</td>\n",
       "      <td>3962754</td>\n",
       "      <td>23183</td>\n",
       "      <td>3943304</td>\n",
       "      <td>23084</td>\n",
       "      <td>3943299</td>\n",
       "      <td>23083</td>\n",
       "    </tr>\n",
       "  </tbody>\n",
       "</table>\n",
       "</div>"
      ]
     },
     "execution_count": 129,
     "metadata": {},
     "output_type": "execute_result"
    }
   ],
   "execution_count": 129
  },
  {
   "metadata": {
    "ExecuteTime": {
     "end_time": "2024-04-29T11:16:31.968894Z",
     "start_time": "2024-04-29T11:16:31.950301Z"
    }
   },
   "cell_type": "code",
   "source": "crawled_collector_provider_usage = pd.read_parquet(f\"../data/crawled_metrics/nel_collector_provider_usage/{latest_month_metrics_fmt}.parquet\")",
   "id": "ad5fc330da49b2d6",
   "outputs": [],
   "execution_count": 130
  },
  {
   "metadata": {
    "ExecuteTime": {
     "end_time": "2024-04-29T11:16:32.014948Z",
     "start_time": "2024-04-29T11:16:31.997562Z"
    }
   },
   "cell_type": "code",
   "source": "crawled_config_is = pd.read_parquet(f\"../data/crawled_metrics/nel_config/include_subdomains_{latest_month_metrics_fmt}.parquet\")",
   "id": "86a3c7018f0dc4a0",
   "outputs": [],
   "execution_count": 131
  },
  {
   "metadata": {
    "ExecuteTime": {
     "end_time": "2024-04-29T11:16:32.033601Z",
     "start_time": "2024-04-29T11:16:32.014948Z"
    }
   },
   "cell_type": "code",
   "source": "crawled_config_ff = pd.read_parquet(f\"../data/crawled_metrics/nel_config/failure_fraction_{latest_month_metrics_fmt}.parquet\")",
   "id": "7d6affa072a41c9",
   "outputs": [],
   "execution_count": 132
  },
  {
   "metadata": {
    "ExecuteTime": {
     "end_time": "2024-04-29T11:16:32.080003Z",
     "start_time": "2024-04-29T11:16:32.060274Z"
    }
   },
   "cell_type": "code",
   "source": "crawled_config_sf = pd.read_parquet(f\"../data/crawled_metrics/nel_config/success_fraction_{latest_month_metrics_fmt}.parquet\")",
   "id": "1a77a0aa8e9bf410",
   "outputs": [],
   "execution_count": 133
  },
  {
   "metadata": {
    "ExecuteTime": {
     "end_time": "2024-04-29T11:16:32.097353Z",
     "start_time": "2024-04-29T11:16:32.080003Z"
    }
   },
   "cell_type": "code",
   "source": "crawled_config_ma = pd.read_parquet(f\"../data/crawled_metrics/nel_config/max_age_{latest_month_metrics_fmt}.parquet\")",
   "id": "bbadf5aca09b52a2",
   "outputs": [],
   "execution_count": 134
  },
  {
   "metadata": {
    "ExecuteTime": {
     "end_time": "2024-04-29T11:16:32.147918Z",
     "start_time": "2024-04-29T11:16:32.107359Z"
    }
   },
   "cell_type": "code",
   "source": "crawled_resource_monitoring_stats = pd.read_parquet(f\"../data/crawled_metrics/nel_domain_resource_monitoring_stats/{latest_month_metrics_fmt}.parquet\")",
   "id": "4b99597d092dff3f",
   "outputs": [],
   "execution_count": 135
  },
  {
   "metadata": {
    "ExecuteTime": {
     "end_time": "2024-04-29T11:16:32.192910Z",
     "start_time": "2024-04-29T11:16:32.147918Z"
    }
   },
   "cell_type": "code",
   "source": "crawled_monitored_resource_types = pd.read_parquet(f\"../data/crawled_metrics/nel_monitored_resource_types/{latest_month_metrics_fmt}.parquet\")",
   "id": "b8ee5b8982d7c96b",
   "outputs": [],
   "execution_count": 136
  },
  {
   "metadata": {
    "ExecuteTime": {
     "end_time": "2024-04-29T11:16:32.229768Z",
     "start_time": "2024-04-29T11:16:32.192910Z"
    }
   },
   "cell_type": "code",
   "source": "crawled_resources_config_variability = pd.read_parquet(f\"../data/crawled_metrics/nel_resource_config_variability/{latest_month_metrics_fmt}.parquet\")",
   "id": "b3629f4e54d559e5",
   "outputs": [],
   "execution_count": 137
  },
  {
   "metadata": {},
   "cell_type": "markdown",
   "source": "#### Load TRANCO ",
   "id": "2db2a910144a239a"
  },
  {
   "metadata": {
    "ExecuteTime": {
     "end_time": "2024-04-29T11:16:44.359077Z",
     "start_time": "2024-04-29T11:16:43.742647Z"
    }
   },
   "cell_type": "code",
   "source": [
    "year = latest_month_metrics_fmt.split(\"-\")[0]\n",
    "month = latest_month_metrics_fmt.split(\"-\")[1]\n",
    "tranco_list = load_tranco_list_from_custom_path(Path(f\"../resources/\"), year, month)\n",
    "tranco_list"
   ],
   "id": "d737fe709b1acb3f",
   "outputs": [
    {
     "data": {
      "text/plain": [
       "          order popular_domain_name\n",
       "0             1          google.com\n",
       "1             2        facebook.com\n",
       "2             3        a-msedge.net\n",
       "3             4       amazonaws.com\n",
       "4             5       microsoft.com\n",
       "...         ...                 ...\n",
       "999995   999996  dvd-collection.com\n",
       "999996   999997           dvdweb.in\n",
       "999997   999998          dvl666.net\n",
       "999998   999999          dwa136.com\n",
       "999999  1000000           dwdvb.com\n",
       "\n",
       "[1000000 rows x 2 columns]"
      ],
      "text/html": [
       "<div>\n",
       "<style scoped>\n",
       "    .dataframe tbody tr th:only-of-type {\n",
       "        vertical-align: middle;\n",
       "    }\n",
       "\n",
       "    .dataframe tbody tr th {\n",
       "        vertical-align: top;\n",
       "    }\n",
       "\n",
       "    .dataframe thead th {\n",
       "        text-align: right;\n",
       "    }\n",
       "</style>\n",
       "<table border=\"1\" class=\"dataframe\">\n",
       "  <thead>\n",
       "    <tr style=\"text-align: right;\">\n",
       "      <th></th>\n",
       "      <th>order</th>\n",
       "      <th>popular_domain_name</th>\n",
       "    </tr>\n",
       "  </thead>\n",
       "  <tbody>\n",
       "    <tr>\n",
       "      <th>0</th>\n",
       "      <td>1</td>\n",
       "      <td>google.com</td>\n",
       "    </tr>\n",
       "    <tr>\n",
       "      <th>1</th>\n",
       "      <td>2</td>\n",
       "      <td>facebook.com</td>\n",
       "    </tr>\n",
       "    <tr>\n",
       "      <th>2</th>\n",
       "      <td>3</td>\n",
       "      <td>a-msedge.net</td>\n",
       "    </tr>\n",
       "    <tr>\n",
       "      <th>3</th>\n",
       "      <td>4</td>\n",
       "      <td>amazonaws.com</td>\n",
       "    </tr>\n",
       "    <tr>\n",
       "      <th>4</th>\n",
       "      <td>5</td>\n",
       "      <td>microsoft.com</td>\n",
       "    </tr>\n",
       "    <tr>\n",
       "      <th>...</th>\n",
       "      <td>...</td>\n",
       "      <td>...</td>\n",
       "    </tr>\n",
       "    <tr>\n",
       "      <th>999995</th>\n",
       "      <td>999996</td>\n",
       "      <td>dvd-collection.com</td>\n",
       "    </tr>\n",
       "    <tr>\n",
       "      <th>999996</th>\n",
       "      <td>999997</td>\n",
       "      <td>dvdweb.in</td>\n",
       "    </tr>\n",
       "    <tr>\n",
       "      <th>999997</th>\n",
       "      <td>999998</td>\n",
       "      <td>dvl666.net</td>\n",
       "    </tr>\n",
       "    <tr>\n",
       "      <th>999998</th>\n",
       "      <td>999999</td>\n",
       "      <td>dwa136.com</td>\n",
       "    </tr>\n",
       "    <tr>\n",
       "      <th>999999</th>\n",
       "      <td>1000000</td>\n",
       "      <td>dwdvb.com</td>\n",
       "    </tr>\n",
       "  </tbody>\n",
       "</table>\n",
       "<p>1000000 rows × 2 columns</p>\n",
       "</div>"
      ]
     },
     "execution_count": 139,
     "metadata": {},
     "output_type": "execute_result"
    }
   ],
   "execution_count": 139
  },
  {
   "metadata": {},
   "cell_type": "markdown",
   "source": "## Prepare list of actually CRAWLED domains to be compared to HTTP ARCHIVE results ",
   "id": "752039affbead125"
  },
  {
   "metadata": {
    "ExecuteTime": {
     "end_time": "2024-04-29T11:28:21.060782Z",
     "start_time": "2024-04-29T11:28:20.918495Z"
    }
   },
   "cell_type": "code",
   "source": "crawled_domains = pd.read_parquet(\"../data/domains_to_crawl.parquet\")",
   "id": "95158ca7ee286394",
   "outputs": [],
   "execution_count": 165
  },
  {
   "metadata": {},
   "cell_type": "markdown",
   "source": "#### Domains that were intended to be crawled",
   "id": "1c1573778ec9b65f"
  },
  {
   "metadata": {
    "ExecuteTime": {
     "end_time": "2024-04-29T11:28:39.096326Z",
     "start_time": "2024-04-29T11:28:39.087223Z"
    }
   },
   "cell_type": "code",
   "source": [
    "intended_domains_to_compare = crawled_domains[['url_domain']]\n",
    "intended_domains_to_compare"
   ],
   "id": "c144fd8b0f1f3142",
   "outputs": [
    {
     "data": {
      "text/plain": [
       "                    url_domain\n",
       "10204                 bing.com\n",
       "87160                  zoom.us\n",
       "63076               reddit.com\n",
       "85063                yandex.ru\n",
       "20414              discord.com\n",
       "...                        ...\n",
       "21854  drrashelofficial.com.pk\n",
       "21919               dt5515.com\n",
       "21931             du4sas3t.xyz\n",
       "21962        ducadimorrone.com\n",
       "22037            dungcuyeu.com\n",
       "\n",
       "[58596 rows x 1 columns]"
      ],
      "text/html": [
       "<div>\n",
       "<style scoped>\n",
       "    .dataframe tbody tr th:only-of-type {\n",
       "        vertical-align: middle;\n",
       "    }\n",
       "\n",
       "    .dataframe tbody tr th {\n",
       "        vertical-align: top;\n",
       "    }\n",
       "\n",
       "    .dataframe thead th {\n",
       "        text-align: right;\n",
       "    }\n",
       "</style>\n",
       "<table border=\"1\" class=\"dataframe\">\n",
       "  <thead>\n",
       "    <tr style=\"text-align: right;\">\n",
       "      <th></th>\n",
       "      <th>url_domain</th>\n",
       "    </tr>\n",
       "  </thead>\n",
       "  <tbody>\n",
       "    <tr>\n",
       "      <th>10204</th>\n",
       "      <td>bing.com</td>\n",
       "    </tr>\n",
       "    <tr>\n",
       "      <th>87160</th>\n",
       "      <td>zoom.us</td>\n",
       "    </tr>\n",
       "    <tr>\n",
       "      <th>63076</th>\n",
       "      <td>reddit.com</td>\n",
       "    </tr>\n",
       "    <tr>\n",
       "      <th>85063</th>\n",
       "      <td>yandex.ru</td>\n",
       "    </tr>\n",
       "    <tr>\n",
       "      <th>20414</th>\n",
       "      <td>discord.com</td>\n",
       "    </tr>\n",
       "    <tr>\n",
       "      <th>...</th>\n",
       "      <td>...</td>\n",
       "    </tr>\n",
       "    <tr>\n",
       "      <th>21854</th>\n",
       "      <td>drrashelofficial.com.pk</td>\n",
       "    </tr>\n",
       "    <tr>\n",
       "      <th>21919</th>\n",
       "      <td>dt5515.com</td>\n",
       "    </tr>\n",
       "    <tr>\n",
       "      <th>21931</th>\n",
       "      <td>du4sas3t.xyz</td>\n",
       "    </tr>\n",
       "    <tr>\n",
       "      <th>21962</th>\n",
       "      <td>ducadimorrone.com</td>\n",
       "    </tr>\n",
       "    <tr>\n",
       "      <th>22037</th>\n",
       "      <td>dungcuyeu.com</td>\n",
       "    </tr>\n",
       "  </tbody>\n",
       "</table>\n",
       "<p>58596 rows × 1 columns</p>\n",
       "</div>"
      ]
     },
     "execution_count": 168,
     "metadata": {},
     "output_type": "execute_result"
    }
   ],
   "execution_count": 168
  },
  {
   "metadata": {},
   "cell_type": "markdown",
   "source": "#### Filter to domains that were actually attempted to be crawled ",
   "id": "e7f123a044e42b2f"
  },
  {
   "metadata": {
    "ExecuteTime": {
     "end_time": "2024-04-29T11:29:00.219805Z",
     "start_time": "2024-04-29T11:28:59.758486Z"
    }
   },
   "cell_type": "code",
   "source": [
    "crawl_data_raw_path = Path(\"../data/crawled_raw/blobs\")\n",
    "\n",
    "available_crawled_data_files = list(crawl_data_raw_path.glob('*.parquet'))\n",
    "available_crawled_domains = list(map(lambda file: file.stem, available_crawled_data_files))\n",
    "available_crawled_domains = pd.DataFrame({'url_domain': available_crawled_domains})\n",
    "\n",
    "domains_crawl_attempted = available_crawled_domains[available_crawled_domains['url_domain'].isin(intended_domains_to_compare['url_domain'])]\n",
    "domains_crawl_attempted"
   ],
   "id": "b251fa574b46e811",
   "outputs": [
    {
     "data": {
      "text/plain": [
       "               url_domain\n",
       "0             0115765.com\n",
       "1              013info.rs\n",
       "2                037hd.tv\n",
       "3             0x00sec.org\n",
       "4      1-800-phonesex.com\n",
       "...                   ...\n",
       "33065    zyciesokolowa.pl\n",
       "33066     zygorguides.com\n",
       "33067            zynca.se\n",
       "33068        zzapomni.com\n",
       "33069         zzxxtra.com\n",
       "\n",
       "[33070 rows x 1 columns]"
      ],
      "text/html": [
       "<div>\n",
       "<style scoped>\n",
       "    .dataframe tbody tr th:only-of-type {\n",
       "        vertical-align: middle;\n",
       "    }\n",
       "\n",
       "    .dataframe tbody tr th {\n",
       "        vertical-align: top;\n",
       "    }\n",
       "\n",
       "    .dataframe thead th {\n",
       "        text-align: right;\n",
       "    }\n",
       "</style>\n",
       "<table border=\"1\" class=\"dataframe\">\n",
       "  <thead>\n",
       "    <tr style=\"text-align: right;\">\n",
       "      <th></th>\n",
       "      <th>url_domain</th>\n",
       "    </tr>\n",
       "  </thead>\n",
       "  <tbody>\n",
       "    <tr>\n",
       "      <th>0</th>\n",
       "      <td>0115765.com</td>\n",
       "    </tr>\n",
       "    <tr>\n",
       "      <th>1</th>\n",
       "      <td>013info.rs</td>\n",
       "    </tr>\n",
       "    <tr>\n",
       "      <th>2</th>\n",
       "      <td>037hd.tv</td>\n",
       "    </tr>\n",
       "    <tr>\n",
       "      <th>3</th>\n",
       "      <td>0x00sec.org</td>\n",
       "    </tr>\n",
       "    <tr>\n",
       "      <th>4</th>\n",
       "      <td>1-800-phonesex.com</td>\n",
       "    </tr>\n",
       "    <tr>\n",
       "      <th>...</th>\n",
       "      <td>...</td>\n",
       "    </tr>\n",
       "    <tr>\n",
       "      <th>33065</th>\n",
       "      <td>zyciesokolowa.pl</td>\n",
       "    </tr>\n",
       "    <tr>\n",
       "      <th>33066</th>\n",
       "      <td>zygorguides.com</td>\n",
       "    </tr>\n",
       "    <tr>\n",
       "      <th>33067</th>\n",
       "      <td>zynca.se</td>\n",
       "    </tr>\n",
       "    <tr>\n",
       "      <th>33068</th>\n",
       "      <td>zzapomni.com</td>\n",
       "    </tr>\n",
       "    <tr>\n",
       "      <th>33069</th>\n",
       "      <td>zzxxtra.com</td>\n",
       "    </tr>\n",
       "  </tbody>\n",
       "</table>\n",
       "<p>33070 rows × 1 columns</p>\n",
       "</div>"
      ]
     },
     "execution_count": 169,
     "metadata": {},
     "output_type": "execute_result"
    }
   ],
   "execution_count": 169
  },
  {
   "metadata": {},
   "cell_type": "markdown",
   "source": "#### Filter to domains that were successfully crawled",
   "id": "1170d6898a04d53a"
  },
  {
   "metadata": {
    "ExecuteTime": {
     "end_time": "2024-04-29T11:29:13.712560Z",
     "start_time": "2024-04-29T11:29:09.538854Z"
    }
   },
   "cell_type": "code",
   "source": [
    "latest_crawl_raw_data_path = list(Path(\"../data/crawled_raw/\").glob(\"merged_*.parquet\"))[-1]\n",
    "latest_crawl_raw_data = pd.read_parquet(latest_crawl_raw_data_path)\n",
    "\n",
    "domains_crawled = pd.DataFrame({'url_domain': latest_crawl_raw_data['url_domain'].unique()})\n",
    "\n",
    "domains_crawled.size"
   ],
   "id": "80847ad46aea5b71",
   "outputs": [
    {
     "data": {
      "text/plain": [
       "23083"
      ]
     },
     "execution_count": 170,
     "metadata": {},
     "output_type": "execute_result"
    }
   ],
   "execution_count": 170
  },
  {
   "metadata": {},
   "cell_type": "markdown",
   "source": "## RESULTS:",
   "id": "4cafa5813612d208"
  },
  {
   "metadata": {},
   "cell_type": "markdown",
   "source": "### Deployment stats",
   "id": "3092d76b8bb9876e"
  },
  {
   "metadata": {
    "ExecuteTime": {
     "end_time": "2024-04-29T11:25:39.671286Z",
     "start_time": "2024-04-29T11:25:39.656325Z"
    }
   },
   "cell_type": "code",
   "source": [
    "total_domains_crawl_size = domains_crawl_attempted.size\n",
    "total_domains_crawl_size"
   ],
   "id": "57c3aa27f629753b",
   "outputs": [
    {
     "data": {
      "text/plain": [
       "33070"
      ]
     },
     "execution_count": 162,
     "metadata": {},
     "output_type": "execute_result"
    }
   ],
   "execution_count": 162
  },
  {
   "metadata": {
    "ExecuteTime": {
     "end_time": "2024-04-29T11:24:31.643913Z",
     "start_time": "2024-04-29T11:24:31.626937Z"
    }
   },
   "cell_type": "code",
   "source": [
    "total_domains_crawl_failed = domains_crawl_attempted.size - domains_crawled.size\n",
    "total_domains_crawl_failed"
   ],
   "id": "de42ccc689f2e019",
   "outputs": [
    {
     "data": {
      "text/plain": [
       "9987"
      ]
     },
     "execution_count": 160,
     "metadata": {},
     "output_type": "execute_result"
    }
   ],
   "execution_count": 160
  },
  {
   "metadata": {
    "ExecuteTime": {
     "end_time": "2024-04-29T11:32:59.596840Z",
     "start_time": "2024-04-29T11:32:59.581358Z"
    }
   },
   "cell_type": "code",
   "source": "crawled_deployment['total_crawled_domains'][0]",
   "id": "6d1d2edcd4441afa",
   "outputs": [
    {
     "data": {
      "text/plain": [
       "23183"
      ]
     },
     "execution_count": 171,
     "metadata": {},
     "output_type": "execute_result"
    }
   ],
   "execution_count": 171
  },
  {
   "metadata": {
    "ExecuteTime": {
     "end_time": "2024-04-29T11:34:31.814090Z",
     "start_time": "2024-04-29T11:34:31.797973Z"
    }
   },
   "cell_type": "code",
   "source": "crawled_deployment['total_crawled_domains_with_correct_nel'][0]",
   "id": "fc7435099b73e877",
   "outputs": [
    {
     "data": {
      "text/plain": [
       "23083"
      ]
     },
     "execution_count": 172,
     "metadata": {},
     "output_type": "execute_result"
    }
   ],
   "execution_count": 172
  },
  {
   "metadata": {
    "ExecuteTime": {
     "end_time": "2024-04-29T11:26:30.933780Z",
     "start_time": "2024-04-29T11:26:30.918755Z"
    }
   },
   "cell_type": "code",
   "source": "crawled_deployment['total_crawled_domains_with_correct_nel'] / crawled_deployment['total_crawled_domains'] * 100",
   "id": "fb454909f6ba9e00",
   "outputs": [
    {
     "data": {
      "text/plain": [
       "0    99.568649\n",
       "dtype: float64"
      ]
     },
     "execution_count": 164,
     "metadata": {},
     "output_type": "execute_result"
    }
   ],
   "execution_count": 164
  },
  {
   "metadata": {},
   "cell_type": "markdown",
   "source": "### Collector Provider Stats",
   "id": "5e3366f91ad33889"
  },
  {
   "metadata": {
    "ExecuteTime": {
     "end_time": "2024-04-29T11:16:45.000311Z",
     "start_time": "2024-04-29T11:16:44.987207Z"
    }
   },
   "cell_type": "code",
   "source": "crawled_collector_provider_usage",
   "id": "aa45f9763e7d80cc",
   "outputs": [
    {
     "data": {
      "text/plain": [
       "       date                     providers  as_primary  share_as_primary  \\\n",
       "0   2024-04                cloudflare.com     22910.0         99.250531   \n",
       "1   2024-04                    heroku.com       129.0          0.558853   \n",
       "2   2024-04                    yandex.net        11.0          0.047654   \n",
       "3   2024-04                report-uri.com        10.0          0.043322   \n",
       "4   2024-04                  uriports.com         5.0          0.021661   \n",
       "5   2024-04                      hhdev.ru         5.0          0.021661   \n",
       "6   2024-04                       3gl.net         3.0          0.012997   \n",
       "7   2024-04                     gkd-re.de         3.0          0.012997   \n",
       "8   2024-04                 wikimedia.org         2.0          0.008664   \n",
       "9   2024-04               csrtech.support         1.0          0.004332   \n",
       "10  2024-04                     mmcdn.com         1.0          0.004332   \n",
       "11  2024-04                   hexacab.org         1.0          0.004332   \n",
       "12  2024-04                 sparanoid.net         1.0          0.004332   \n",
       "13  2024-04  dz8aopenkvv6s.cloudfront.net         1.0          0.004332   \n",
       "14  2024-04                        ijs.si         0.0          0.000000   \n",
       "\n",
       "    as_secondary  share_as_secondary  among_fallback  \n",
       "0            0.0                 0.0             0.0  \n",
       "1            0.0                 0.0             0.0  \n",
       "2            8.0                80.0             0.0  \n",
       "3            0.0                 0.0             0.0  \n",
       "4            0.0                 0.0             0.0  \n",
       "5            1.0                10.0             0.0  \n",
       "6            0.0                 0.0             0.0  \n",
       "7            0.0                 0.0             0.0  \n",
       "8            0.0                 0.0             0.0  \n",
       "9            0.0                 0.0             0.0  \n",
       "10           0.0                 0.0             0.0  \n",
       "11           0.0                 0.0             0.0  \n",
       "12           0.0                 0.0             0.0  \n",
       "13           0.0                 0.0             0.0  \n",
       "14           1.0                10.0             0.0  "
      ],
      "text/html": [
       "<div>\n",
       "<style scoped>\n",
       "    .dataframe tbody tr th:only-of-type {\n",
       "        vertical-align: middle;\n",
       "    }\n",
       "\n",
       "    .dataframe tbody tr th {\n",
       "        vertical-align: top;\n",
       "    }\n",
       "\n",
       "    .dataframe thead th {\n",
       "        text-align: right;\n",
       "    }\n",
       "</style>\n",
       "<table border=\"1\" class=\"dataframe\">\n",
       "  <thead>\n",
       "    <tr style=\"text-align: right;\">\n",
       "      <th></th>\n",
       "      <th>date</th>\n",
       "      <th>providers</th>\n",
       "      <th>as_primary</th>\n",
       "      <th>share_as_primary</th>\n",
       "      <th>as_secondary</th>\n",
       "      <th>share_as_secondary</th>\n",
       "      <th>among_fallback</th>\n",
       "    </tr>\n",
       "  </thead>\n",
       "  <tbody>\n",
       "    <tr>\n",
       "      <th>0</th>\n",
       "      <td>2024-04</td>\n",
       "      <td>cloudflare.com</td>\n",
       "      <td>22910.0</td>\n",
       "      <td>99.250531</td>\n",
       "      <td>0.0</td>\n",
       "      <td>0.0</td>\n",
       "      <td>0.0</td>\n",
       "    </tr>\n",
       "    <tr>\n",
       "      <th>1</th>\n",
       "      <td>2024-04</td>\n",
       "      <td>heroku.com</td>\n",
       "      <td>129.0</td>\n",
       "      <td>0.558853</td>\n",
       "      <td>0.0</td>\n",
       "      <td>0.0</td>\n",
       "      <td>0.0</td>\n",
       "    </tr>\n",
       "    <tr>\n",
       "      <th>2</th>\n",
       "      <td>2024-04</td>\n",
       "      <td>yandex.net</td>\n",
       "      <td>11.0</td>\n",
       "      <td>0.047654</td>\n",
       "      <td>8.0</td>\n",
       "      <td>80.0</td>\n",
       "      <td>0.0</td>\n",
       "    </tr>\n",
       "    <tr>\n",
       "      <th>3</th>\n",
       "      <td>2024-04</td>\n",
       "      <td>report-uri.com</td>\n",
       "      <td>10.0</td>\n",
       "      <td>0.043322</td>\n",
       "      <td>0.0</td>\n",
       "      <td>0.0</td>\n",
       "      <td>0.0</td>\n",
       "    </tr>\n",
       "    <tr>\n",
       "      <th>4</th>\n",
       "      <td>2024-04</td>\n",
       "      <td>uriports.com</td>\n",
       "      <td>5.0</td>\n",
       "      <td>0.021661</td>\n",
       "      <td>0.0</td>\n",
       "      <td>0.0</td>\n",
       "      <td>0.0</td>\n",
       "    </tr>\n",
       "    <tr>\n",
       "      <th>5</th>\n",
       "      <td>2024-04</td>\n",
       "      <td>hhdev.ru</td>\n",
       "      <td>5.0</td>\n",
       "      <td>0.021661</td>\n",
       "      <td>1.0</td>\n",
       "      <td>10.0</td>\n",
       "      <td>0.0</td>\n",
       "    </tr>\n",
       "    <tr>\n",
       "      <th>6</th>\n",
       "      <td>2024-04</td>\n",
       "      <td>3gl.net</td>\n",
       "      <td>3.0</td>\n",
       "      <td>0.012997</td>\n",
       "      <td>0.0</td>\n",
       "      <td>0.0</td>\n",
       "      <td>0.0</td>\n",
       "    </tr>\n",
       "    <tr>\n",
       "      <th>7</th>\n",
       "      <td>2024-04</td>\n",
       "      <td>gkd-re.de</td>\n",
       "      <td>3.0</td>\n",
       "      <td>0.012997</td>\n",
       "      <td>0.0</td>\n",
       "      <td>0.0</td>\n",
       "      <td>0.0</td>\n",
       "    </tr>\n",
       "    <tr>\n",
       "      <th>8</th>\n",
       "      <td>2024-04</td>\n",
       "      <td>wikimedia.org</td>\n",
       "      <td>2.0</td>\n",
       "      <td>0.008664</td>\n",
       "      <td>0.0</td>\n",
       "      <td>0.0</td>\n",
       "      <td>0.0</td>\n",
       "    </tr>\n",
       "    <tr>\n",
       "      <th>9</th>\n",
       "      <td>2024-04</td>\n",
       "      <td>csrtech.support</td>\n",
       "      <td>1.0</td>\n",
       "      <td>0.004332</td>\n",
       "      <td>0.0</td>\n",
       "      <td>0.0</td>\n",
       "      <td>0.0</td>\n",
       "    </tr>\n",
       "    <tr>\n",
       "      <th>10</th>\n",
       "      <td>2024-04</td>\n",
       "      <td>mmcdn.com</td>\n",
       "      <td>1.0</td>\n",
       "      <td>0.004332</td>\n",
       "      <td>0.0</td>\n",
       "      <td>0.0</td>\n",
       "      <td>0.0</td>\n",
       "    </tr>\n",
       "    <tr>\n",
       "      <th>11</th>\n",
       "      <td>2024-04</td>\n",
       "      <td>hexacab.org</td>\n",
       "      <td>1.0</td>\n",
       "      <td>0.004332</td>\n",
       "      <td>0.0</td>\n",
       "      <td>0.0</td>\n",
       "      <td>0.0</td>\n",
       "    </tr>\n",
       "    <tr>\n",
       "      <th>12</th>\n",
       "      <td>2024-04</td>\n",
       "      <td>sparanoid.net</td>\n",
       "      <td>1.0</td>\n",
       "      <td>0.004332</td>\n",
       "      <td>0.0</td>\n",
       "      <td>0.0</td>\n",
       "      <td>0.0</td>\n",
       "    </tr>\n",
       "    <tr>\n",
       "      <th>13</th>\n",
       "      <td>2024-04</td>\n",
       "      <td>dz8aopenkvv6s.cloudfront.net</td>\n",
       "      <td>1.0</td>\n",
       "      <td>0.004332</td>\n",
       "      <td>0.0</td>\n",
       "      <td>0.0</td>\n",
       "      <td>0.0</td>\n",
       "    </tr>\n",
       "    <tr>\n",
       "      <th>14</th>\n",
       "      <td>2024-04</td>\n",
       "      <td>ijs.si</td>\n",
       "      <td>0.0</td>\n",
       "      <td>0.000000</td>\n",
       "      <td>1.0</td>\n",
       "      <td>10.0</td>\n",
       "      <td>0.0</td>\n",
       "    </tr>\n",
       "  </tbody>\n",
       "</table>\n",
       "</div>"
      ]
     },
     "execution_count": 145,
     "metadata": {},
     "output_type": "execute_result"
    }
   ],
   "execution_count": 145
  },
  {
   "metadata": {},
   "cell_type": "markdown",
   "source": "### Configuration stats",
   "id": "5f84dc4c81879e87"
  },
  {
   "metadata": {
    "ExecuteTime": {
     "end_time": "2024-04-29T11:54:16.650052Z",
     "start_time": "2024-04-29T11:54:16.633032Z"
    }
   },
   "cell_type": "code",
   "source": "crawled_config_is",
   "id": "e7d9bee30628f96d",
   "outputs": [
    {
     "data": {
      "text/plain": [
       "      date nel_include_subdomains  domain_count  domain_percent\n",
       "0  2024-04                  false         23061       99.904692\n",
       "1  2024-04                   true            22        0.095308"
      ],
      "text/html": [
       "<div>\n",
       "<style scoped>\n",
       "    .dataframe tbody tr th:only-of-type {\n",
       "        vertical-align: middle;\n",
       "    }\n",
       "\n",
       "    .dataframe tbody tr th {\n",
       "        vertical-align: top;\n",
       "    }\n",
       "\n",
       "    .dataframe thead th {\n",
       "        text-align: right;\n",
       "    }\n",
       "</style>\n",
       "<table border=\"1\" class=\"dataframe\">\n",
       "  <thead>\n",
       "    <tr style=\"text-align: right;\">\n",
       "      <th></th>\n",
       "      <th>date</th>\n",
       "      <th>nel_include_subdomains</th>\n",
       "      <th>domain_count</th>\n",
       "      <th>domain_percent</th>\n",
       "    </tr>\n",
       "  </thead>\n",
       "  <tbody>\n",
       "    <tr>\n",
       "      <th>0</th>\n",
       "      <td>2024-04</td>\n",
       "      <td>false</td>\n",
       "      <td>23061</td>\n",
       "      <td>99.904692</td>\n",
       "    </tr>\n",
       "    <tr>\n",
       "      <th>1</th>\n",
       "      <td>2024-04</td>\n",
       "      <td>true</td>\n",
       "      <td>22</td>\n",
       "      <td>0.095308</td>\n",
       "    </tr>\n",
       "  </tbody>\n",
       "</table>\n",
       "</div>"
      ]
     },
     "execution_count": 173,
     "metadata": {},
     "output_type": "execute_result"
    }
   ],
   "execution_count": 173
  },
  {
   "metadata": {
    "ExecuteTime": {
     "end_time": "2024-04-29T11:54:40.827908Z",
     "start_time": "2024-04-29T11:54:40.815337Z"
    }
   },
   "cell_type": "code",
   "source": "crawled_config_ff",
   "id": "13ff689e9fff64e1",
   "outputs": [
    {
     "data": {
      "text/plain": [
       "      date nel_failure_fraction  domain_count  domain_percent\n",
       "0  2024-04                0.001             1        0.004332\n",
       "1  2024-04                 0.01             3        0.012997\n",
       "2  2024-04                 0.05           132        0.571849\n",
       "3  2024-04                  0.1             9        0.038990\n",
       "4  2024-04                  0.2             1        0.004332\n",
       "5  2024-04                  0.5             1        0.004332\n",
       "6  2024-04                  1.0         22936       99.363168"
      ],
      "text/html": [
       "<div>\n",
       "<style scoped>\n",
       "    .dataframe tbody tr th:only-of-type {\n",
       "        vertical-align: middle;\n",
       "    }\n",
       "\n",
       "    .dataframe tbody tr th {\n",
       "        vertical-align: top;\n",
       "    }\n",
       "\n",
       "    .dataframe thead th {\n",
       "        text-align: right;\n",
       "    }\n",
       "</style>\n",
       "<table border=\"1\" class=\"dataframe\">\n",
       "  <thead>\n",
       "    <tr style=\"text-align: right;\">\n",
       "      <th></th>\n",
       "      <th>date</th>\n",
       "      <th>nel_failure_fraction</th>\n",
       "      <th>domain_count</th>\n",
       "      <th>domain_percent</th>\n",
       "    </tr>\n",
       "  </thead>\n",
       "  <tbody>\n",
       "    <tr>\n",
       "      <th>0</th>\n",
       "      <td>2024-04</td>\n",
       "      <td>0.001</td>\n",
       "      <td>1</td>\n",
       "      <td>0.004332</td>\n",
       "    </tr>\n",
       "    <tr>\n",
       "      <th>1</th>\n",
       "      <td>2024-04</td>\n",
       "      <td>0.01</td>\n",
       "      <td>3</td>\n",
       "      <td>0.012997</td>\n",
       "    </tr>\n",
       "    <tr>\n",
       "      <th>2</th>\n",
       "      <td>2024-04</td>\n",
       "      <td>0.05</td>\n",
       "      <td>132</td>\n",
       "      <td>0.571849</td>\n",
       "    </tr>\n",
       "    <tr>\n",
       "      <th>3</th>\n",
       "      <td>2024-04</td>\n",
       "      <td>0.1</td>\n",
       "      <td>9</td>\n",
       "      <td>0.038990</td>\n",
       "    </tr>\n",
       "    <tr>\n",
       "      <th>4</th>\n",
       "      <td>2024-04</td>\n",
       "      <td>0.2</td>\n",
       "      <td>1</td>\n",
       "      <td>0.004332</td>\n",
       "    </tr>\n",
       "    <tr>\n",
       "      <th>5</th>\n",
       "      <td>2024-04</td>\n",
       "      <td>0.5</td>\n",
       "      <td>1</td>\n",
       "      <td>0.004332</td>\n",
       "    </tr>\n",
       "    <tr>\n",
       "      <th>6</th>\n",
       "      <td>2024-04</td>\n",
       "      <td>1.0</td>\n",
       "      <td>22936</td>\n",
       "      <td>99.363168</td>\n",
       "    </tr>\n",
       "  </tbody>\n",
       "</table>\n",
       "</div>"
      ]
     },
     "execution_count": 174,
     "metadata": {},
     "output_type": "execute_result"
    }
   ],
   "execution_count": 174
  },
  {
   "metadata": {
    "ExecuteTime": {
     "end_time": "2024-04-29T11:56:49.299339Z",
     "start_time": "2024-04-29T11:56:49.288553Z"
    }
   },
   "cell_type": "code",
   "source": "crawled_config_sf",
   "id": "4abe5c57a363a335",
   "outputs": [
    {
     "data": {
      "text/plain": [
       "      date nel_success_fraction  domain_count  domain_percent\n",
       "0  2024-04                  0.0         21798       94.433133\n",
       "1  2024-04                0.001            10        0.043322\n",
       "2  2024-04                0.005           129        0.558853\n",
       "3  2024-04                 0.01          1145        4.960360\n",
       "4  2024-04                 0.05             1        0.004332"
      ],
      "text/html": [
       "<div>\n",
       "<style scoped>\n",
       "    .dataframe tbody tr th:only-of-type {\n",
       "        vertical-align: middle;\n",
       "    }\n",
       "\n",
       "    .dataframe tbody tr th {\n",
       "        vertical-align: top;\n",
       "    }\n",
       "\n",
       "    .dataframe thead th {\n",
       "        text-align: right;\n",
       "    }\n",
       "</style>\n",
       "<table border=\"1\" class=\"dataframe\">\n",
       "  <thead>\n",
       "    <tr style=\"text-align: right;\">\n",
       "      <th></th>\n",
       "      <th>date</th>\n",
       "      <th>nel_success_fraction</th>\n",
       "      <th>domain_count</th>\n",
       "      <th>domain_percent</th>\n",
       "    </tr>\n",
       "  </thead>\n",
       "  <tbody>\n",
       "    <tr>\n",
       "      <th>0</th>\n",
       "      <td>2024-04</td>\n",
       "      <td>0.0</td>\n",
       "      <td>21798</td>\n",
       "      <td>94.433133</td>\n",
       "    </tr>\n",
       "    <tr>\n",
       "      <th>1</th>\n",
       "      <td>2024-04</td>\n",
       "      <td>0.001</td>\n",
       "      <td>10</td>\n",
       "      <td>0.043322</td>\n",
       "    </tr>\n",
       "    <tr>\n",
       "      <th>2</th>\n",
       "      <td>2024-04</td>\n",
       "      <td>0.005</td>\n",
       "      <td>129</td>\n",
       "      <td>0.558853</td>\n",
       "    </tr>\n",
       "    <tr>\n",
       "      <th>3</th>\n",
       "      <td>2024-04</td>\n",
       "      <td>0.01</td>\n",
       "      <td>1145</td>\n",
       "      <td>4.960360</td>\n",
       "    </tr>\n",
       "    <tr>\n",
       "      <th>4</th>\n",
       "      <td>2024-04</td>\n",
       "      <td>0.05</td>\n",
       "      <td>1</td>\n",
       "      <td>0.004332</td>\n",
       "    </tr>\n",
       "  </tbody>\n",
       "</table>\n",
       "</div>"
      ]
     },
     "execution_count": 176,
     "metadata": {},
     "output_type": "execute_result"
    }
   ],
   "execution_count": 176
  },
  {
   "metadata": {
    "ExecuteTime": {
     "end_time": "2024-04-29T11:56:52.285624Z",
     "start_time": "2024-04-29T11:56:52.273914Z"
    }
   },
   "cell_type": "code",
   "source": "crawled_config_ma",
   "id": "28cc0a9db5071395",
   "outputs": [
    {
     "data": {
      "text/plain": [
       "      date  nel_max_age  domain_count  domain_percent\n",
       "0  2024-04          100             7        0.030325\n",
       "1  2024-04          600             1        0.004332\n",
       "2  2024-04         3600           134        0.580514\n",
       "3  2024-04         7200             3        0.012997\n",
       "4  2024-04        86400             2        0.008664\n",
       "5  2024-04       604800         22914       99.267859\n",
       "6  2024-04      1209600             1        0.004332\n",
       "7  2024-04      2592000            14        0.060651\n",
       "8  2024-04     10886400             1        0.004332\n",
       "9  2024-04     31536000             6        0.025993"
      ],
      "text/html": [
       "<div>\n",
       "<style scoped>\n",
       "    .dataframe tbody tr th:only-of-type {\n",
       "        vertical-align: middle;\n",
       "    }\n",
       "\n",
       "    .dataframe tbody tr th {\n",
       "        vertical-align: top;\n",
       "    }\n",
       "\n",
       "    .dataframe thead th {\n",
       "        text-align: right;\n",
       "    }\n",
       "</style>\n",
       "<table border=\"1\" class=\"dataframe\">\n",
       "  <thead>\n",
       "    <tr style=\"text-align: right;\">\n",
       "      <th></th>\n",
       "      <th>date</th>\n",
       "      <th>nel_max_age</th>\n",
       "      <th>domain_count</th>\n",
       "      <th>domain_percent</th>\n",
       "    </tr>\n",
       "  </thead>\n",
       "  <tbody>\n",
       "    <tr>\n",
       "      <th>0</th>\n",
       "      <td>2024-04</td>\n",
       "      <td>100</td>\n",
       "      <td>7</td>\n",
       "      <td>0.030325</td>\n",
       "    </tr>\n",
       "    <tr>\n",
       "      <th>1</th>\n",
       "      <td>2024-04</td>\n",
       "      <td>600</td>\n",
       "      <td>1</td>\n",
       "      <td>0.004332</td>\n",
       "    </tr>\n",
       "    <tr>\n",
       "      <th>2</th>\n",
       "      <td>2024-04</td>\n",
       "      <td>3600</td>\n",
       "      <td>134</td>\n",
       "      <td>0.580514</td>\n",
       "    </tr>\n",
       "    <tr>\n",
       "      <th>3</th>\n",
       "      <td>2024-04</td>\n",
       "      <td>7200</td>\n",
       "      <td>3</td>\n",
       "      <td>0.012997</td>\n",
       "    </tr>\n",
       "    <tr>\n",
       "      <th>4</th>\n",
       "      <td>2024-04</td>\n",
       "      <td>86400</td>\n",
       "      <td>2</td>\n",
       "      <td>0.008664</td>\n",
       "    </tr>\n",
       "    <tr>\n",
       "      <th>5</th>\n",
       "      <td>2024-04</td>\n",
       "      <td>604800</td>\n",
       "      <td>22914</td>\n",
       "      <td>99.267859</td>\n",
       "    </tr>\n",
       "    <tr>\n",
       "      <th>6</th>\n",
       "      <td>2024-04</td>\n",
       "      <td>1209600</td>\n",
       "      <td>1</td>\n",
       "      <td>0.004332</td>\n",
       "    </tr>\n",
       "    <tr>\n",
       "      <th>7</th>\n",
       "      <td>2024-04</td>\n",
       "      <td>2592000</td>\n",
       "      <td>14</td>\n",
       "      <td>0.060651</td>\n",
       "    </tr>\n",
       "    <tr>\n",
       "      <th>8</th>\n",
       "      <td>2024-04</td>\n",
       "      <td>10886400</td>\n",
       "      <td>1</td>\n",
       "      <td>0.004332</td>\n",
       "    </tr>\n",
       "    <tr>\n",
       "      <th>9</th>\n",
       "      <td>2024-04</td>\n",
       "      <td>31536000</td>\n",
       "      <td>6</td>\n",
       "      <td>0.025993</td>\n",
       "    </tr>\n",
       "  </tbody>\n",
       "</table>\n",
       "</div>"
      ]
     },
     "execution_count": 177,
     "metadata": {},
     "output_type": "execute_result"
    }
   ],
   "execution_count": 177
  },
  {
   "metadata": {},
   "cell_type": "markdown",
   "source": "### Resource stats",
   "id": "669cfb4adb3a51dd"
  },
  {
   "metadata": {
    "ExecuteTime": {
     "end_time": "2024-04-29T12:01:15.592162Z",
     "start_time": "2024-04-29T12:01:15.579243Z"
    }
   },
   "cell_type": "code",
   "source": "crawled_deployment['total_crawled_resources'][0]",
   "id": "adaa2e167d92899e",
   "outputs": [
    {
     "data": {
      "text/plain": [
       "3962754"
      ]
     },
     "execution_count": 179,
     "metadata": {},
     "output_type": "execute_result"
    }
   ],
   "execution_count": 179
  },
  {
   "metadata": {
    "ExecuteTime": {
     "end_time": "2024-04-29T12:00:52.272140Z",
     "start_time": "2024-04-29T12:00:52.248520Z"
    }
   },
   "cell_type": "code",
   "source": "crawled_resource_monitoring_stats",
   "id": "605a392eb0ca9132",
   "outputs": [
    {
     "data": {
      "text/plain": [
       "          date          url_domain  url_domain_hosted_resources  \\\n",
       "0      2024-04          013info.rs                          168   \n",
       "1      2024-04            037hd.tv                          200   \n",
       "2      2024-04         0x00sec.org                          237   \n",
       "3      2024-04  1-800-phonesex.com                          182   \n",
       "4      2024-04        1-win.casino                          105   \n",
       "...        ...                 ...                          ...   \n",
       "23078  2024-04            zwaar.co                           67   \n",
       "23079  2024-04    zwiftinsider.com                          345   \n",
       "23080  2024-04              zwr.gg                          142   \n",
       "23081  2024-04          zycie.news                          118   \n",
       "23082  2024-04     zygorguides.com                          187   \n",
       "\n",
       "       url_domain_hosted_resources_with_nel  \\\n",
       "0                                       168   \n",
       "1                                       200   \n",
       "2                                       237   \n",
       "3                                       182   \n",
       "4                                       105   \n",
       "...                                     ...   \n",
       "23078                                    66   \n",
       "23079                                   345   \n",
       "23080                                   141   \n",
       "23081                                   118   \n",
       "23082                                   187   \n",
       "\n",
       "       url_domain_monitored_resources_ratio  \n",
       "0                                100.000000  \n",
       "1                                100.000000  \n",
       "2                                100.000000  \n",
       "3                                100.000000  \n",
       "4                                100.000000  \n",
       "...                                     ...  \n",
       "23078                             98.507463  \n",
       "23079                            100.000000  \n",
       "23080                             99.295775  \n",
       "23081                            100.000000  \n",
       "23082                            100.000000  \n",
       "\n",
       "[23083 rows x 5 columns]"
      ],
      "text/html": [
       "<div>\n",
       "<style scoped>\n",
       "    .dataframe tbody tr th:only-of-type {\n",
       "        vertical-align: middle;\n",
       "    }\n",
       "\n",
       "    .dataframe tbody tr th {\n",
       "        vertical-align: top;\n",
       "    }\n",
       "\n",
       "    .dataframe thead th {\n",
       "        text-align: right;\n",
       "    }\n",
       "</style>\n",
       "<table border=\"1\" class=\"dataframe\">\n",
       "  <thead>\n",
       "    <tr style=\"text-align: right;\">\n",
       "      <th></th>\n",
       "      <th>date</th>\n",
       "      <th>url_domain</th>\n",
       "      <th>url_domain_hosted_resources</th>\n",
       "      <th>url_domain_hosted_resources_with_nel</th>\n",
       "      <th>url_domain_monitored_resources_ratio</th>\n",
       "    </tr>\n",
       "  </thead>\n",
       "  <tbody>\n",
       "    <tr>\n",
       "      <th>0</th>\n",
       "      <td>2024-04</td>\n",
       "      <td>013info.rs</td>\n",
       "      <td>168</td>\n",
       "      <td>168</td>\n",
       "      <td>100.000000</td>\n",
       "    </tr>\n",
       "    <tr>\n",
       "      <th>1</th>\n",
       "      <td>2024-04</td>\n",
       "      <td>037hd.tv</td>\n",
       "      <td>200</td>\n",
       "      <td>200</td>\n",
       "      <td>100.000000</td>\n",
       "    </tr>\n",
       "    <tr>\n",
       "      <th>2</th>\n",
       "      <td>2024-04</td>\n",
       "      <td>0x00sec.org</td>\n",
       "      <td>237</td>\n",
       "      <td>237</td>\n",
       "      <td>100.000000</td>\n",
       "    </tr>\n",
       "    <tr>\n",
       "      <th>3</th>\n",
       "      <td>2024-04</td>\n",
       "      <td>1-800-phonesex.com</td>\n",
       "      <td>182</td>\n",
       "      <td>182</td>\n",
       "      <td>100.000000</td>\n",
       "    </tr>\n",
       "    <tr>\n",
       "      <th>4</th>\n",
       "      <td>2024-04</td>\n",
       "      <td>1-win.casino</td>\n",
       "      <td>105</td>\n",
       "      <td>105</td>\n",
       "      <td>100.000000</td>\n",
       "    </tr>\n",
       "    <tr>\n",
       "      <th>...</th>\n",
       "      <td>...</td>\n",
       "      <td>...</td>\n",
       "      <td>...</td>\n",
       "      <td>...</td>\n",
       "      <td>...</td>\n",
       "    </tr>\n",
       "    <tr>\n",
       "      <th>23078</th>\n",
       "      <td>2024-04</td>\n",
       "      <td>zwaar.co</td>\n",
       "      <td>67</td>\n",
       "      <td>66</td>\n",
       "      <td>98.507463</td>\n",
       "    </tr>\n",
       "    <tr>\n",
       "      <th>23079</th>\n",
       "      <td>2024-04</td>\n",
       "      <td>zwiftinsider.com</td>\n",
       "      <td>345</td>\n",
       "      <td>345</td>\n",
       "      <td>100.000000</td>\n",
       "    </tr>\n",
       "    <tr>\n",
       "      <th>23080</th>\n",
       "      <td>2024-04</td>\n",
       "      <td>zwr.gg</td>\n",
       "      <td>142</td>\n",
       "      <td>141</td>\n",
       "      <td>99.295775</td>\n",
       "    </tr>\n",
       "    <tr>\n",
       "      <th>23081</th>\n",
       "      <td>2024-04</td>\n",
       "      <td>zycie.news</td>\n",
       "      <td>118</td>\n",
       "      <td>118</td>\n",
       "      <td>100.000000</td>\n",
       "    </tr>\n",
       "    <tr>\n",
       "      <th>23082</th>\n",
       "      <td>2024-04</td>\n",
       "      <td>zygorguides.com</td>\n",
       "      <td>187</td>\n",
       "      <td>187</td>\n",
       "      <td>100.000000</td>\n",
       "    </tr>\n",
       "  </tbody>\n",
       "</table>\n",
       "<p>23083 rows × 5 columns</p>\n",
       "</div>"
      ]
     },
     "execution_count": 178,
     "metadata": {},
     "output_type": "execute_result"
    }
   ],
   "execution_count": 178
  },
  {
   "metadata": {
    "ExecuteTime": {
     "end_time": "2024-04-29T12:15:30.196231Z",
     "start_time": "2024-04-29T12:15:30.159647Z"
    }
   },
   "cell_type": "code",
   "source": [
    "from results.result_utils import get_first_or_0\n",
    "\n",
    "distribution_result = pd.DataFrame({}, index=[\n",
    "    '(0%-10%>',\n",
    "    '(10%-25%>',\n",
    "    '(25%-50%>',\n",
    "    '(50%-75%>',\n",
    "    '(75%-100%)',\n",
    "    '<100%>',\n",
    "])\n",
    "\n",
    "distr_col = []\n",
    "\n",
    "data = crawled_resource_monitoring_stats.copy()\n",
    "\n",
    "# month_result['(0%-10%>']    \n",
    "next_val = data[(data['url_domain_monitored_resources_ratio'] > 0.0) & (data['url_domain_monitored_resources_ratio'] <= 10.0)].count()\n",
    "distr_col.append(get_first_or_0(next_val))\n",
    "\n",
    "# month_result['(10%-25%>']    \n",
    "next_val = data[(data['url_domain_monitored_resources_ratio'] > 10.0) & (data['url_domain_monitored_resources_ratio'] <= 25.0)].count()\n",
    "distr_col.append(get_first_or_0(next_val))\n",
    "\n",
    "# month_result['(25%-50%>']    \n",
    "next_val = data[(data['url_domain_monitored_resources_ratio'] > 25.0) & (data['url_domain_monitored_resources_ratio'] <= 50.0)].count()\n",
    "distr_col.append(get_first_or_0(next_val))\n",
    "\n",
    "# month_result['(50%-75%>']    \n",
    "next_val = data[(data['url_domain_monitored_resources_ratio'] > 50.0) & (data['url_domain_monitored_resources_ratio'] <= 75.0)].count()\n",
    "distr_col.append(get_first_or_0(next_val))\n",
    "\n",
    "# month_result['(75%-100%)']    \n",
    "next_val = data[(data['url_domain_monitored_resources_ratio'] > 75.0) & (data['url_domain_monitored_resources_ratio'] < 100.0)].count()\n",
    "distr_col.append(get_first_or_0(next_val))\n",
    "\n",
    "# month_result['<100%>']\n",
    "next_val = data[data['url_domain_monitored_resources_ratio'] == 100.0].count()\n",
    "distr_col.append(get_first_or_0(next_val))\n",
    "\n",
    "\n",
    "distribution_result[latest_month_text_fmt] = distr_col\n",
    "distribution_result"
   ],
   "id": "56e6e71999b7b73c",
   "outputs": [
    {
     "data": {
      "text/plain": [
       "            Apr 2024\n",
       "(0%-10%>           2\n",
       "(10%-25%>        628\n",
       "(25%-50%>         38\n",
       "(50%-75%>         27\n",
       "(75%-100%)      2452\n",
       "<100%>         19936"
      ],
      "text/html": [
       "<div>\n",
       "<style scoped>\n",
       "    .dataframe tbody tr th:only-of-type {\n",
       "        vertical-align: middle;\n",
       "    }\n",
       "\n",
       "    .dataframe tbody tr th {\n",
       "        vertical-align: top;\n",
       "    }\n",
       "\n",
       "    .dataframe thead th {\n",
       "        text-align: right;\n",
       "    }\n",
       "</style>\n",
       "<table border=\"1\" class=\"dataframe\">\n",
       "  <thead>\n",
       "    <tr style=\"text-align: right;\">\n",
       "      <th></th>\n",
       "      <th>Apr 2024</th>\n",
       "    </tr>\n",
       "  </thead>\n",
       "  <tbody>\n",
       "    <tr>\n",
       "      <th>(0%-10%&gt;</th>\n",
       "      <td>2</td>\n",
       "    </tr>\n",
       "    <tr>\n",
       "      <th>(10%-25%&gt;</th>\n",
       "      <td>628</td>\n",
       "    </tr>\n",
       "    <tr>\n",
       "      <th>(25%-50%&gt;</th>\n",
       "      <td>38</td>\n",
       "    </tr>\n",
       "    <tr>\n",
       "      <th>(50%-75%&gt;</th>\n",
       "      <td>27</td>\n",
       "    </tr>\n",
       "    <tr>\n",
       "      <th>(75%-100%)</th>\n",
       "      <td>2452</td>\n",
       "    </tr>\n",
       "    <tr>\n",
       "      <th>&lt;100%&gt;</th>\n",
       "      <td>19936</td>\n",
       "    </tr>\n",
       "  </tbody>\n",
       "</table>\n",
       "</div>"
      ]
     },
     "execution_count": 183,
     "metadata": {},
     "output_type": "execute_result"
    }
   ],
   "execution_count": 183
  },
  {
   "metadata": {
    "ExecuteTime": {
     "end_time": "2024-04-29T12:17:57.467229Z",
     "start_time": "2024-04-29T12:17:57.448146Z"
    }
   },
   "cell_type": "code",
   "source": "distribution_result[distribution_result.index == '<100%>'][latest_month_text_fmt].iloc[0] / crawled_deployment['total_crawled_domains']",
   "id": "ba7446710904899b",
   "outputs": [
    {
     "data": {
      "text/plain": [
       "0    0.85994\n",
       "Name: total_crawled_domains, dtype: float64"
      ]
     },
     "execution_count": 193,
     "metadata": {},
     "output_type": "execute_result"
    }
   ],
   "execution_count": 193
  },
  {
   "metadata": {
    "ExecuteTime": {
     "end_time": "2024-04-29T12:18:18.971692Z",
     "start_time": "2024-04-29T12:18:18.962204Z"
    }
   },
   "cell_type": "code",
   "source": "distribution_result[distribution_result.index == '(75%-100%)'][latest_month_text_fmt].iloc[0] / crawled_deployment['total_crawled_domains']",
   "id": "35e2d24bd0de2af5",
   "outputs": [
    {
     "data": {
      "text/plain": [
       "0    0.105767\n",
       "Name: total_crawled_domains, dtype: float64"
      ]
     },
     "execution_count": 194,
     "metadata": {},
     "output_type": "execute_result"
    }
   ],
   "execution_count": 194
  },
  {
   "metadata": {
    "ExecuteTime": {
     "end_time": "2024-04-29T12:18:31.430524Z",
     "start_time": "2024-04-29T12:18:31.422675Z"
    }
   },
   "cell_type": "code",
   "source": "distribution_result[distribution_result.index == '(10%-25%>'][latest_month_text_fmt].iloc[0] / crawled_deployment['total_crawled_domains']",
   "id": "78557d5afce9b2db",
   "outputs": [
    {
     "data": {
      "text/plain": [
       "0    0.027089\n",
       "Name: total_crawled_domains, dtype: float64"
      ]
     },
     "execution_count": 195,
     "metadata": {},
     "output_type": "execute_result"
    }
   ],
   "execution_count": 195
  },
  {
   "metadata": {},
   "cell_type": "markdown",
   "source": "#### Config variability",
   "id": "71b2dec20d986115"
  },
  {
   "metadata": {
    "ExecuteTime": {
     "end_time": "2024-04-29T12:35:13.659433Z",
     "start_time": "2024-04-29T12:35:13.626085Z"
    }
   },
   "cell_type": "code",
   "source": [
    "config_variation_count_data = pd.DataFrame()\n",
    "current_month_data = crawled_resources_config_variability[['date', 'url_domain', 'nel_include_subdomains']].copy()\n",
    "\n",
    "config_variations_by_url_domain = current_month_data.groupby(['url_domain'])['nel_include_subdomains'].count()\n",
    "current_month_data['variation_count'] = current_month_data['url_domain'].map(config_variations_by_url_domain)\n",
    "current_month_data.drop(columns=['nel_include_subdomains'], inplace=True)\n",
    "    \n",
    "current_month_data = current_month_data.groupby(['variation_count']).agg(domains=('url_domain', 'count'))\n",
    "current_month_data.reset_index(inplace=True)    \n",
    "\n",
    "current_month_data['date'] = latest_month_text_fmt\n",
    "current_month_data = current_month_data[['date', 'variation_count', 'domains']] \n",
    "\n",
    "current_month_data['share'] = current_month_data['domains'] / crawled_deployment['total_crawled_domains_with_correct_nel']\n",
    "\n",
    "config_variation_count_data = pd.concat([config_variation_count_data, current_month_data])\n",
    "    \n",
    "config_variation_count_data"
   ],
   "id": "9cb149a0f518e6f3",
   "outputs": [
    {
     "data": {
      "text/plain": [
       "       date  variation_count  domains     share\n",
       "0  Apr 2024                1    22842  0.989559\n",
       "1  Apr 2024                2      480       NaN\n",
       "2  Apr 2024                3        3       NaN"
      ],
      "text/html": [
       "<div>\n",
       "<style scoped>\n",
       "    .dataframe tbody tr th:only-of-type {\n",
       "        vertical-align: middle;\n",
       "    }\n",
       "\n",
       "    .dataframe tbody tr th {\n",
       "        vertical-align: top;\n",
       "    }\n",
       "\n",
       "    .dataframe thead th {\n",
       "        text-align: right;\n",
       "    }\n",
       "</style>\n",
       "<table border=\"1\" class=\"dataframe\">\n",
       "  <thead>\n",
       "    <tr style=\"text-align: right;\">\n",
       "      <th></th>\n",
       "      <th>date</th>\n",
       "      <th>variation_count</th>\n",
       "      <th>domains</th>\n",
       "      <th>share</th>\n",
       "    </tr>\n",
       "  </thead>\n",
       "  <tbody>\n",
       "    <tr>\n",
       "      <th>0</th>\n",
       "      <td>Apr 2024</td>\n",
       "      <td>1</td>\n",
       "      <td>22842</td>\n",
       "      <td>0.989559</td>\n",
       "    </tr>\n",
       "    <tr>\n",
       "      <th>1</th>\n",
       "      <td>Apr 2024</td>\n",
       "      <td>2</td>\n",
       "      <td>480</td>\n",
       "      <td>NaN</td>\n",
       "    </tr>\n",
       "    <tr>\n",
       "      <th>2</th>\n",
       "      <td>Apr 2024</td>\n",
       "      <td>3</td>\n",
       "      <td>3</td>\n",
       "      <td>NaN</td>\n",
       "    </tr>\n",
       "  </tbody>\n",
       "</table>\n",
       "</div>"
      ]
     },
     "execution_count": 204,
     "metadata": {},
     "output_type": "execute_result"
    }
   ],
   "execution_count": 204
  },
  {
   "metadata": {},
   "cell_type": "markdown",
   "source": "### Resource types",
   "id": "dd9c1c8641e25f27"
  },
  {
   "metadata": {
    "ExecuteTime": {
     "end_time": "2024-04-29T12:49:08.411621Z",
     "start_time": "2024-04-29T12:49:08.355386Z"
    }
   },
   "cell_type": "code",
   "source": [
    "resource_type_data = pd.DataFrame()\n",
    "current_month_data = crawled_monitored_resource_types.copy()\n",
    "\n",
    "current_month_data = current_month_data.groupby(['date', 'type'], observed=True, as_index=False).agg({'count': 'sum'})\n",
    "current_month_data.sort_values(by='count', ascending=False, inplace=True)\n",
    "current_month_data.reset_index(inplace=True, drop=True)\n",
    "\n",
    "current_month_data['date'] = latest_month_text_fmt\n",
    "\n",
    "resource_type_data = pd.concat([resource_type_data, current_month_data])\n",
    "    \n",
    "resource_type_data"
   ],
   "id": "6f92cd5334a4a69e",
   "outputs": [
    {
     "data": {
      "text/plain": [
       "        date    type    count\n",
       "0   Apr 2024   image  2457577\n",
       "1   Apr 2024  script   483698\n",
       "2   Apr 2024    html   482927\n",
       "3   Apr 2024     css   312895\n",
       "4   Apr 2024   other   100116\n",
       "5   Apr 2024            47643\n",
       "6   Apr 2024    font    36835\n",
       "7   Apr 2024    text    12527\n",
       "8   Apr 2024   video     5624\n",
       "9   Apr 2024   audio     2770\n",
       "10  Apr 2024     xml      687"
      ],
      "text/html": [
       "<div>\n",
       "<style scoped>\n",
       "    .dataframe tbody tr th:only-of-type {\n",
       "        vertical-align: middle;\n",
       "    }\n",
       "\n",
       "    .dataframe tbody tr th {\n",
       "        vertical-align: top;\n",
       "    }\n",
       "\n",
       "    .dataframe thead th {\n",
       "        text-align: right;\n",
       "    }\n",
       "</style>\n",
       "<table border=\"1\" class=\"dataframe\">\n",
       "  <thead>\n",
       "    <tr style=\"text-align: right;\">\n",
       "      <th></th>\n",
       "      <th>date</th>\n",
       "      <th>type</th>\n",
       "      <th>count</th>\n",
       "    </tr>\n",
       "  </thead>\n",
       "  <tbody>\n",
       "    <tr>\n",
       "      <th>0</th>\n",
       "      <td>Apr 2024</td>\n",
       "      <td>image</td>\n",
       "      <td>2457577</td>\n",
       "    </tr>\n",
       "    <tr>\n",
       "      <th>1</th>\n",
       "      <td>Apr 2024</td>\n",
       "      <td>script</td>\n",
       "      <td>483698</td>\n",
       "    </tr>\n",
       "    <tr>\n",
       "      <th>2</th>\n",
       "      <td>Apr 2024</td>\n",
       "      <td>html</td>\n",
       "      <td>482927</td>\n",
       "    </tr>\n",
       "    <tr>\n",
       "      <th>3</th>\n",
       "      <td>Apr 2024</td>\n",
       "      <td>css</td>\n",
       "      <td>312895</td>\n",
       "    </tr>\n",
       "    <tr>\n",
       "      <th>4</th>\n",
       "      <td>Apr 2024</td>\n",
       "      <td>other</td>\n",
       "      <td>100116</td>\n",
       "    </tr>\n",
       "    <tr>\n",
       "      <th>5</th>\n",
       "      <td>Apr 2024</td>\n",
       "      <td></td>\n",
       "      <td>47643</td>\n",
       "    </tr>\n",
       "    <tr>\n",
       "      <th>6</th>\n",
       "      <td>Apr 2024</td>\n",
       "      <td>font</td>\n",
       "      <td>36835</td>\n",
       "    </tr>\n",
       "    <tr>\n",
       "      <th>7</th>\n",
       "      <td>Apr 2024</td>\n",
       "      <td>text</td>\n",
       "      <td>12527</td>\n",
       "    </tr>\n",
       "    <tr>\n",
       "      <th>8</th>\n",
       "      <td>Apr 2024</td>\n",
       "      <td>video</td>\n",
       "      <td>5624</td>\n",
       "    </tr>\n",
       "    <tr>\n",
       "      <th>9</th>\n",
       "      <td>Apr 2024</td>\n",
       "      <td>audio</td>\n",
       "      <td>2770</td>\n",
       "    </tr>\n",
       "    <tr>\n",
       "      <th>10</th>\n",
       "      <td>Apr 2024</td>\n",
       "      <td>xml</td>\n",
       "      <td>687</td>\n",
       "    </tr>\n",
       "  </tbody>\n",
       "</table>\n",
       "</div>"
      ]
     },
     "execution_count": 207,
     "metadata": {},
     "output_type": "execute_result"
    }
   ],
   "execution_count": 207
  }
 ],
 "metadata": {
  "kernelspec": {
   "display_name": "Python 3",
   "language": "python",
   "name": "python3"
  },
  "language_info": {
   "codemirror_mode": {
    "name": "ipython",
    "version": 2
   },
   "file_extension": ".py",
   "mimetype": "text/x-python",
   "name": "python",
   "nbconvert_exporter": "python",
   "pygments_lexer": "ipython2",
   "version": "2.7.6"
  }
 },
 "nbformat": 4,
 "nbformat_minor": 5
}

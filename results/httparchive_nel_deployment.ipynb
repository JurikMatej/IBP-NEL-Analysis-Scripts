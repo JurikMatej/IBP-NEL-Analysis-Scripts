{
 "cells": [
  {
   "cell_type": "code",
   "id": "initial_id",
   "metadata": {
    "collapsed": true,
    "ExecuteTime": {
     "end_time": "2024-04-15T17:13:13.434126Z",
     "start_time": "2024-04-15T17:13:13.428012Z"
    }
   },
   "source": [
    "from pathlib import Path\n",
    "\n",
    "import numpy as np\n",
    "import pandas as pd\n",
    "import seaborn as sns"
   ],
   "outputs": [],
   "execution_count": 2
  },
  {
   "metadata": {
    "ExecuteTime": {
     "end_time": "2024-04-15T17:13:13.471372Z",
     "start_time": "2024-04-15T17:13:13.459768Z"
    }
   },
   "cell_type": "code",
   "source": "pd.options.display.float_format = '{:,.2f}'.format",
   "id": "74f5cd2eb07308c5",
   "outputs": [],
   "execution_count": 3
  },
  {
   "cell_type": "code",
   "source": [
    "dates_to_visualize = [\n",
    "    \"2019-02\",\n",
    "    \"2020-02\",\n",
    "    \"2021-02\",\n",
    "    \"2022-02\",\n",
    "    \"2023-02\",\n",
    "    # \"2024-02\",\n",
    "]"
   ],
   "metadata": {
    "collapsed": false,
    "ExecuteTime": {
     "end_time": "2024-04-15T17:13:13.476532Z",
     "start_time": "2024-04-15T17:13:13.471372Z"
    }
   },
   "id": "b9189c937778421d",
   "outputs": [],
   "execution_count": 4
  },
  {
   "cell_type": "code",
   "source": [
    "available_data_files = list(Path(\"../data/httparchive_metrics/nel_deployment\").glob(\"*.parquet\"))\n",
    "\n",
    "used_data_files = list(filter(lambda file: file.stem in dates_to_visualize, available_data_files))\n",
    "used_data_files"
   ],
   "metadata": {
    "collapsed": false,
    "ExecuteTime": {
     "end_time": "2024-04-15T17:13:13.484427Z",
     "start_time": "2024-04-15T17:13:13.476532Z"
    }
   },
   "id": "f26a03a98dd9f1b9",
   "outputs": [
    {
     "data": {
      "text/plain": [
       "[WindowsPath('../data/httparchive_metrics/nel_deployment/2019-02.parquet'),\n",
       " WindowsPath('../data/httparchive_metrics/nel_deployment/2020-02.parquet'),\n",
       " WindowsPath('../data/httparchive_metrics/nel_deployment/2021-02.parquet'),\n",
       " WindowsPath('../data/httparchive_metrics/nel_deployment/2022-02.parquet'),\n",
       " WindowsPath('../data/httparchive_metrics/nel_deployment/2023-02.parquet')]"
      ]
     },
     "execution_count": 5,
     "metadata": {},
     "output_type": "execute_result"
    }
   ],
   "execution_count": 5
  },
  {
   "metadata": {},
   "cell_type": "markdown",
   "source": "### Aggregate result to visualize",
   "id": "4980a456f799658f"
  },
  {
   "cell_type": "code",
   "source": [
    "from results.result_utils import date_to_text_format, concat_data_from_files\n",
    "\n",
    "result = concat_data_from_files(used_data_files)\n",
    "        \n",
    "result['total_crawled_domains'] = np.floor(pd.to_numeric(result['total_crawled_domains'], errors='coerce')).astype('UInt32')\n",
    "result['total_crawled_domains_with_nel'] = np.floor(pd.to_numeric(result['total_crawled_domains_with_nel'], errors='coerce')).astype('UInt32')\n",
    "result['total_crawled_domains_with_correct_nel'] = np.floor(pd.to_numeric(result['total_crawled_domains_with_correct_nel'], errors='coerce')).astype('UInt32')\n",
    "        \n",
    "result['total_crawled_resources'] = np.floor(pd.to_numeric(result['total_crawled_resources'], errors='coerce')).astype('UInt32') \n",
    "result['total_crawled_resources_with_nel'] = np.floor(pd.to_numeric(result['total_crawled_resources_with_nel'], errors='coerce')).astype('UInt32') \n",
    "result['total_crawled_resources_with_correct_nel'] = np.floor(pd.to_numeric(result['total_crawled_resources_with_correct_nel'], errors='coerce')).astype('UInt32')\n",
    "        \n",
    "result['date'] = result['date'].map(date_to_text_format)\n",
    "result[\"nel_percentage\"] = \\\n",
    "        np.uint32(result['total_crawled_domains_with_correct_nel']) / np.uint32(result['total_crawled_domains']) * 100\n",
    "\n",
    "result"
   ],
   "metadata": {
    "collapsed": false,
    "ExecuteTime": {
     "end_time": "2024-04-15T17:13:13.544221Z",
     "start_time": "2024-04-15T17:13:13.484427Z"
    }
   },
   "id": "72ac476a6ebe5890",
   "outputs": [
    {
     "data": {
      "text/plain": [
       "       date  total_crawled_resources  total_crawled_domains  \\\n",
       "0  Feb 2019                351105672                5707189   \n",
       "0  Feb 2020                426587287                6636205   \n",
       "0  Feb 2021                607075754               10147089   \n",
       "0  Feb 2022                622531991               10363447   \n",
       "0  Feb 2023               1174213534               19159612   \n",
       "\n",
       "   total_crawled_resources_with_nel  total_crawled_domains_with_nel  \\\n",
       "0                              2592                             382   \n",
       "0                            589195                          109644   \n",
       "0                          51156475                         1008393   \n",
       "0                          58326227                          973629   \n",
       "0                         109848257                         2260772   \n",
       "\n",
       "   total_crawled_resources_with_correct_nel  \\\n",
       "0                                      2532   \n",
       "0                                    588014   \n",
       "0                                  51150134   \n",
       "0                                  58267984   \n",
       "0                                 109748008   \n",
       "\n",
       "   total_crawled_domains_with_correct_nel  nel_percentage  \n",
       "0                                     370            0.01  \n",
       "0                                  109604            1.65  \n",
       "0                                 1008105            9.93  \n",
       "0                                  972168            9.38  \n",
       "0                                 2258979           11.79  "
      ],
      "text/html": [
       "<div>\n",
       "<style scoped>\n",
       "    .dataframe tbody tr th:only-of-type {\n",
       "        vertical-align: middle;\n",
       "    }\n",
       "\n",
       "    .dataframe tbody tr th {\n",
       "        vertical-align: top;\n",
       "    }\n",
       "\n",
       "    .dataframe thead th {\n",
       "        text-align: right;\n",
       "    }\n",
       "</style>\n",
       "<table border=\"1\" class=\"dataframe\">\n",
       "  <thead>\n",
       "    <tr style=\"text-align: right;\">\n",
       "      <th></th>\n",
       "      <th>date</th>\n",
       "      <th>total_crawled_resources</th>\n",
       "      <th>total_crawled_domains</th>\n",
       "      <th>total_crawled_resources_with_nel</th>\n",
       "      <th>total_crawled_domains_with_nel</th>\n",
       "      <th>total_crawled_resources_with_correct_nel</th>\n",
       "      <th>total_crawled_domains_with_correct_nel</th>\n",
       "      <th>nel_percentage</th>\n",
       "    </tr>\n",
       "  </thead>\n",
       "  <tbody>\n",
       "    <tr>\n",
       "      <th>0</th>\n",
       "      <td>Feb 2019</td>\n",
       "      <td>351105672</td>\n",
       "      <td>5707189</td>\n",
       "      <td>2592</td>\n",
       "      <td>382</td>\n",
       "      <td>2532</td>\n",
       "      <td>370</td>\n",
       "      <td>0.01</td>\n",
       "    </tr>\n",
       "    <tr>\n",
       "      <th>0</th>\n",
       "      <td>Feb 2020</td>\n",
       "      <td>426587287</td>\n",
       "      <td>6636205</td>\n",
       "      <td>589195</td>\n",
       "      <td>109644</td>\n",
       "      <td>588014</td>\n",
       "      <td>109604</td>\n",
       "      <td>1.65</td>\n",
       "    </tr>\n",
       "    <tr>\n",
       "      <th>0</th>\n",
       "      <td>Feb 2021</td>\n",
       "      <td>607075754</td>\n",
       "      <td>10147089</td>\n",
       "      <td>51156475</td>\n",
       "      <td>1008393</td>\n",
       "      <td>51150134</td>\n",
       "      <td>1008105</td>\n",
       "      <td>9.93</td>\n",
       "    </tr>\n",
       "    <tr>\n",
       "      <th>0</th>\n",
       "      <td>Feb 2022</td>\n",
       "      <td>622531991</td>\n",
       "      <td>10363447</td>\n",
       "      <td>58326227</td>\n",
       "      <td>973629</td>\n",
       "      <td>58267984</td>\n",
       "      <td>972168</td>\n",
       "      <td>9.38</td>\n",
       "    </tr>\n",
       "    <tr>\n",
       "      <th>0</th>\n",
       "      <td>Feb 2023</td>\n",
       "      <td>1174213534</td>\n",
       "      <td>19159612</td>\n",
       "      <td>109848257</td>\n",
       "      <td>2260772</td>\n",
       "      <td>109748008</td>\n",
       "      <td>2258979</td>\n",
       "      <td>11.79</td>\n",
       "    </tr>\n",
       "  </tbody>\n",
       "</table>\n",
       "</div>"
      ]
     },
     "execution_count": 6,
     "metadata": {},
     "output_type": "execute_result"
    }
   ],
   "execution_count": 6
  },
  {
   "metadata": {},
   "cell_type": "markdown",
   "source": "### DOMAINS queried within each month and those responding with valid NEL headers",
   "id": "9df1043b95c8cb2a"
  },
  {
   "metadata": {
    "ExecuteTime": {
     "end_time": "2024-04-15T17:13:13.552359Z",
     "start_time": "2024-04-15T17:13:13.544221Z"
    }
   },
   "cell_type": "code",
   "source": "result[['date', 'total_crawled_domains', 'total_crawled_domains_with_correct_nel', 'nel_percentage']]",
   "id": "1c42f4301122e501",
   "outputs": [
    {
     "data": {
      "text/plain": [
       "       date  total_crawled_domains  total_crawled_domains_with_correct_nel  \\\n",
       "0  Feb 2019                5707189                                     370   \n",
       "0  Feb 2020                6636205                                  109604   \n",
       "0  Feb 2021               10147089                                 1008105   \n",
       "0  Feb 2022               10363447                                  972168   \n",
       "0  Feb 2023               19159612                                 2258979   \n",
       "\n",
       "   nel_percentage  \n",
       "0            0.01  \n",
       "0            1.65  \n",
       "0            9.93  \n",
       "0            9.38  \n",
       "0           11.79  "
      ],
      "text/html": [
       "<div>\n",
       "<style scoped>\n",
       "    .dataframe tbody tr th:only-of-type {\n",
       "        vertical-align: middle;\n",
       "    }\n",
       "\n",
       "    .dataframe tbody tr th {\n",
       "        vertical-align: top;\n",
       "    }\n",
       "\n",
       "    .dataframe thead th {\n",
       "        text-align: right;\n",
       "    }\n",
       "</style>\n",
       "<table border=\"1\" class=\"dataframe\">\n",
       "  <thead>\n",
       "    <tr style=\"text-align: right;\">\n",
       "      <th></th>\n",
       "      <th>date</th>\n",
       "      <th>total_crawled_domains</th>\n",
       "      <th>total_crawled_domains_with_correct_nel</th>\n",
       "      <th>nel_percentage</th>\n",
       "    </tr>\n",
       "  </thead>\n",
       "  <tbody>\n",
       "    <tr>\n",
       "      <th>0</th>\n",
       "      <td>Feb 2019</td>\n",
       "      <td>5707189</td>\n",
       "      <td>370</td>\n",
       "      <td>0.01</td>\n",
       "    </tr>\n",
       "    <tr>\n",
       "      <th>0</th>\n",
       "      <td>Feb 2020</td>\n",
       "      <td>6636205</td>\n",
       "      <td>109604</td>\n",
       "      <td>1.65</td>\n",
       "    </tr>\n",
       "    <tr>\n",
       "      <th>0</th>\n",
       "      <td>Feb 2021</td>\n",
       "      <td>10147089</td>\n",
       "      <td>1008105</td>\n",
       "      <td>9.93</td>\n",
       "    </tr>\n",
       "    <tr>\n",
       "      <th>0</th>\n",
       "      <td>Feb 2022</td>\n",
       "      <td>10363447</td>\n",
       "      <td>972168</td>\n",
       "      <td>9.38</td>\n",
       "    </tr>\n",
       "    <tr>\n",
       "      <th>0</th>\n",
       "      <td>Feb 2023</td>\n",
       "      <td>19159612</td>\n",
       "      <td>2258979</td>\n",
       "      <td>11.79</td>\n",
       "    </tr>\n",
       "  </tbody>\n",
       "</table>\n",
       "</div>"
      ]
     },
     "execution_count": 7,
     "metadata": {},
     "output_type": "execute_result"
    }
   ],
   "execution_count": 7
  },
  {
   "metadata": {
    "ExecuteTime": {
     "end_time": "2024-04-15T17:14:09.910592Z",
     "start_time": "2024-04-15T17:14:09.764541Z"
    }
   },
   "cell_type": "code",
   "source": "sns.lineplot(result, x='date', y='total_crawled_domains_with_correct_nel')",
   "id": "5e1dc727039ff2db",
   "outputs": [
    {
     "data": {
      "text/plain": [
       "<Axes: xlabel='date', ylabel='total_crawled_domains_with_correct_nel'>"
      ]
     },
     "execution_count": 12,
     "metadata": {},
     "output_type": "execute_result"
    },
    {
     "data": {
      "text/plain": [
       "<Figure size 640x480 with 1 Axes>"
      ],
      "image/png": "[encoded data removed]"
     },
     "metadata": {},
     "output_type": "display_data"
    }
   ],
   "execution_count": 12
  },
  {
   "metadata": {},
   "cell_type": "markdown",
   "source": "### RESOURCES queried within each month and those with valid NEL headers",
   "id": "eae747abf5951d5a"
  },
  {
   "metadata": {
    "ExecuteTime": {
     "end_time": "2024-04-15T17:13:13.763766Z",
     "start_time": "2024-04-15T17:13:13.753434Z"
    }
   },
   "cell_type": "code",
   "source": [
    "result['nel_resource_percentage'] = result['total_crawled_resources_with_correct_nel'] / result['total_crawled_resources'] * 100\n",
    "result[['date', 'total_crawled_resources', 'total_crawled_resources_with_correct_nel', 'nel_resource_percentage']]"
   ],
   "id": "1d1ff2c7c653cc50",
   "outputs": [
    {
     "data": {
      "text/plain": [
       "       date  total_crawled_resources  \\\n",
       "0  Feb 2019                351105672   \n",
       "0  Feb 2020                426587287   \n",
       "0  Feb 2021                607075754   \n",
       "0  Feb 2022                622531991   \n",
       "0  Feb 2023               1174213534   \n",
       "\n",
       "   total_crawled_resources_with_correct_nel  nel_resource_percentage  \n",
       "0                                      2532                     0.00  \n",
       "0                                    588014                     0.14  \n",
       "0                                  51150134                     8.43  \n",
       "0                                  58267984                     9.36  \n",
       "0                                 109748008                     9.35  "
      ],
      "text/html": [
       "<div>\n",
       "<style scoped>\n",
       "    .dataframe tbody tr th:only-of-type {\n",
       "        vertical-align: middle;\n",
       "    }\n",
       "\n",
       "    .dataframe tbody tr th {\n",
       "        vertical-align: top;\n",
       "    }\n",
       "\n",
       "    .dataframe thead th {\n",
       "        text-align: right;\n",
       "    }\n",
       "</style>\n",
       "<table border=\"1\" class=\"dataframe\">\n",
       "  <thead>\n",
       "    <tr style=\"text-align: right;\">\n",
       "      <th></th>\n",
       "      <th>date</th>\n",
       "      <th>total_crawled_resources</th>\n",
       "      <th>total_crawled_resources_with_correct_nel</th>\n",
       "      <th>nel_resource_percentage</th>\n",
       "    </tr>\n",
       "  </thead>\n",
       "  <tbody>\n",
       "    <tr>\n",
       "      <th>0</th>\n",
       "      <td>Feb 2019</td>\n",
       "      <td>351105672</td>\n",
       "      <td>2532</td>\n",
       "      <td>0.00</td>\n",
       "    </tr>\n",
       "    <tr>\n",
       "      <th>0</th>\n",
       "      <td>Feb 2020</td>\n",
       "      <td>426587287</td>\n",
       "      <td>588014</td>\n",
       "      <td>0.14</td>\n",
       "    </tr>\n",
       "    <tr>\n",
       "      <th>0</th>\n",
       "      <td>Feb 2021</td>\n",
       "      <td>607075754</td>\n",
       "      <td>51150134</td>\n",
       "      <td>8.43</td>\n",
       "    </tr>\n",
       "    <tr>\n",
       "      <th>0</th>\n",
       "      <td>Feb 2022</td>\n",
       "      <td>622531991</td>\n",
       "      <td>58267984</td>\n",
       "      <td>9.36</td>\n",
       "    </tr>\n",
       "    <tr>\n",
       "      <th>0</th>\n",
       "      <td>Feb 2023</td>\n",
       "      <td>1174213534</td>\n",
       "      <td>109748008</td>\n",
       "      <td>9.35</td>\n",
       "    </tr>\n",
       "  </tbody>\n",
       "</table>\n",
       "</div>"
      ]
     },
     "execution_count": 9,
     "metadata": {},
     "output_type": "execute_result"
    }
   ],
   "execution_count": 9
  },
  {
   "metadata": {},
   "cell_type": "markdown",
   "source": "### Incorrect NEL deployment",
   "id": "746c1993ddba3ccd"
  },
  {
   "metadata": {
    "ExecuteTime": {
     "end_time": "2024-04-15T17:13:13.774438Z",
     "start_time": "2024-04-15T17:13:13.763766Z"
    }
   },
   "cell_type": "code",
   "source": [
    "result['domains_with_incorrect_nel'] = result['total_crawled_domains_with_nel'] - result['total_crawled_domains_with_correct_nel']\n",
    "result['resources_with_incorrect_nel'] = result['total_crawled_resources_with_nel'] - result['total_crawled_resources_with_correct_nel']\n",
    "\n",
    "result[['date', 'domains_with_incorrect_nel', 'resources_with_incorrect_nel']]"
   ],
   "id": "ceab2168bf43c31a",
   "outputs": [
    {
     "data": {
      "text/plain": [
       "       date  domains_with_incorrect_nel  resources_with_incorrect_nel\n",
       "0  Feb 2019                          12                            60\n",
       "0  Feb 2020                          40                          1181\n",
       "0  Feb 2021                         288                          6341\n",
       "0  Feb 2022                        1461                         58243\n",
       "0  Feb 2023                        1793                        100249"
      ],
      "text/html": [
       "<div>\n",
       "<style scoped>\n",
       "    .dataframe tbody tr th:only-of-type {\n",
       "        vertical-align: middle;\n",
       "    }\n",
       "\n",
       "    .dataframe tbody tr th {\n",
       "        vertical-align: top;\n",
       "    }\n",
       "\n",
       "    .dataframe thead th {\n",
       "        text-align: right;\n",
       "    }\n",
       "</style>\n",
       "<table border=\"1\" class=\"dataframe\">\n",
       "  <thead>\n",
       "    <tr style=\"text-align: right;\">\n",
       "      <th></th>\n",
       "      <th>date</th>\n",
       "      <th>domains_with_incorrect_nel</th>\n",
       "      <th>resources_with_incorrect_nel</th>\n",
       "    </tr>\n",
       "  </thead>\n",
       "  <tbody>\n",
       "    <tr>\n",
       "      <th>0</th>\n",
       "      <td>Feb 2019</td>\n",
       "      <td>12</td>\n",
       "      <td>60</td>\n",
       "    </tr>\n",
       "    <tr>\n",
       "      <th>0</th>\n",
       "      <td>Feb 2020</td>\n",
       "      <td>40</td>\n",
       "      <td>1181</td>\n",
       "    </tr>\n",
       "    <tr>\n",
       "      <th>0</th>\n",
       "      <td>Feb 2021</td>\n",
       "      <td>288</td>\n",
       "      <td>6341</td>\n",
       "    </tr>\n",
       "    <tr>\n",
       "      <th>0</th>\n",
       "      <td>Feb 2022</td>\n",
       "      <td>1461</td>\n",
       "      <td>58243</td>\n",
       "    </tr>\n",
       "    <tr>\n",
       "      <th>0</th>\n",
       "      <td>Feb 2023</td>\n",
       "      <td>1793</td>\n",
       "      <td>100249</td>\n",
       "    </tr>\n",
       "  </tbody>\n",
       "</table>\n",
       "</div>"
      ]
     },
     "execution_count": 10,
     "metadata": {},
     "output_type": "execute_result"
    }
   ],
   "execution_count": 10
  }
 ],
 "metadata": {
  "kernelspec": {
   "display_name": "Python 3",
   "language": "python",
   "name": "python3"
  },
  "language_info": {
   "codemirror_mode": {
    "name": "ipython",
    "version": 2
   },
   "file_extension": ".py",
   "mimetype": "text/x-python",
   "name": "python",
   "nbconvert_exporter": "python",
   "pygments_lexer": "ipython2",
   "version": "2.7.6"
  }
 },
 "nbformat": 4,
 "nbformat_minor": 5
}

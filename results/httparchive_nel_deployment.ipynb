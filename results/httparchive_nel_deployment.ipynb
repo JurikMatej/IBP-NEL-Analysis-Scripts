{
 "cells": [
  {
   "cell_type": "code",
   "id": "initial_id",
   "metadata": {
    "collapsed": true,
    "ExecuteTime": {
     "end_time": "2024-04-27T17:58:52.091491Z",
     "start_time": "2024-04-27T17:58:52.087111Z"
    }
   },
   "source": [
    "from pathlib import Path\n",
    "\n",
    "import numpy as np\n",
    "import pandas as pd\n",
    "import matplotlib.pyplot as plt\n",
    "import matplotlib.dates as mdates\n",
    "import matplotlib.ticker as ticker\n",
    "import seaborn as sns"
   ],
   "execution_count": 1,
   "outputs": []
  },
  {
   "metadata": {
    "ExecuteTime": {
     "end_time": "2024-04-27T17:58:52.096660Z",
     "start_time": "2024-04-27T17:58:52.091491Z"
    }
   },
   "cell_type": "code",
   "source": "pd.options.display.float_format = '{:,.2f}'.format",
   "id": "74f5cd2eb07308c5",
   "execution_count": 2,
   "outputs": []
  },
  {
   "cell_type": "code",
   "source": [
    "dates_to_visualize = [\n",
    "                                                                                            \"2018-09\", \"2018-10\", \"2018-11\", \"2018-12\",\n",
    "    \"2019-01\", \"2019-02\", \"2019-03\", \"2019-04\", \"2019-05\", \"2019-06\", \"2019-07\", \"2019-08\", \"2019-09\", \"2019-10\", \"2019-11\", \"2019-12\",\n",
    "    \"2020-01\", \"2020-02\", \"2020-03\", \"2020-04\", \"2020-05\", \"2020-06\", \"2020-07\", \"2020-08\", \"2020-09\", \"2020-10\", \"2020-11\", \"2020-12\",\n",
    "    \"2021-01\", \"2021-02\", \"2021-03\", \"2021-04\", \"2021-05\", \"2021-06\", \"2021-07\", \"2021-08\", \"2021-09\", \"2021-10\", \"2021-11\", \"2021-12\",\n",
    "    \"2022-01\", \"2022-02\", \"2022-03\", \"2022-04\", \"2022-05\", \"2022-06\", \"2022-07\", \"2022-08\", \"2022-09\", \"2022-10\", \"2022-11\", \"2022-12\",\n",
    "    \"2023-01\", \"2023-02\", \"2023-03\", \"2023-04\", \"2023-05\", \"2023-06\", \"2023-07\", \"2023-08\", \"2023-09\", \"2023-10\", \"2023-11\", \"2023-12\",\n",
    "    \"2024-01\", \"2024-02\", \"2024-03\", \"2024-04\", \n",
    "]"
   ],
   "metadata": {
    "collapsed": false,
    "ExecuteTime": {
     "end_time": "2024-04-27T17:58:52.101717Z",
     "start_time": "2024-04-27T17:58:52.096660Z"
    }
   },
   "id": "b9189c937778421d",
   "execution_count": 3,
   "outputs": []
  },
  {
   "cell_type": "code",
   "source": [
    "available_data_files = list(Path(\"../data/httparchive_metrics/nel_deployment\").glob(\"*.parquet\"))\n",
    "\n",
    "used_data_files = list(filter(lambda file: file.stem in dates_to_visualize, available_data_files))\n",
    "used_data_files"
   ],
   "metadata": {
    "collapsed": false,
    "ExecuteTime": {
     "end_time": "2024-04-27T17:58:52.109825Z",
     "start_time": "2024-04-27T17:58:52.101717Z"
    }
   },
   "id": "f26a03a98dd9f1b9",
   "execution_count": 4,
   "outputs": []
  },
  {
   "metadata": {},
   "cell_type": "markdown",
   "source": "### Aggregate result to visualize",
   "id": "4980a456f799658f"
  },
  {
   "cell_type": "code",
   "source": [
    "from results.result_utils import date_to_text_format, concat_data_from_files\n",
    "\n",
    "result = concat_data_from_files(used_data_files)\n",
    "\n",
    "result['total_crawled_domains'] = np.floor(pd.to_numeric(result['total_crawled_domains'], errors='coerce')).astype(\n",
    "    'UInt32')\n",
    "result['total_crawled_domains_with_nel'] = np.floor(\n",
    "    pd.to_numeric(result['total_crawled_domains_with_nel'], errors='coerce')).astype('UInt32')\n",
    "result['total_crawled_domains_with_correct_nel'] = np.floor(\n",
    "    pd.to_numeric(result['total_crawled_domains_with_correct_nel'], errors='coerce')).astype('UInt32')\n",
    "\n",
    "result['total_crawled_resources'] = np.floor(pd.to_numeric(result['total_crawled_resources'], errors='coerce')).astype(\n",
    "    'UInt32')\n",
    "result['total_crawled_resources_with_nel'] = np.floor(\n",
    "    pd.to_numeric(result['total_crawled_resources_with_nel'], errors='coerce')).astype('UInt32')\n",
    "result['total_crawled_resources_with_correct_nel'] = np.floor(\n",
    "    pd.to_numeric(result['total_crawled_resources_with_correct_nel'], errors='coerce')).astype('UInt32')\n",
    "\n",
    "result['date'] = result['date'].map(date_to_text_format)\n",
    "result[\"nel_percentage\"] = \\\n",
    "    np.uint32(result['total_crawled_domains_with_correct_nel']) / np.uint32(result['total_crawled_domains']) * 100\n",
    "\n",
    "result"
   ],
   "metadata": {
    "collapsed": false,
    "ExecuteTime": {
     "end_time": "2024-04-27T17:58:53.384519Z",
     "start_time": "2024-04-27T17:58:52.109825Z"
    }
   },
   "id": "72ac476a6ebe5890",
   "execution_count": 5,
   "outputs": []
  },
  {
   "metadata": {},
   "cell_type": "markdown",
   "source": "### DOMAINS queried within each month and those responding with valid NEL headers",
   "id": "9df1043b95c8cb2a"
  },
  {
   "metadata": {
    "ExecuteTime": {
     "end_time": "2024-04-27T17:58:53.395319Z",
     "start_time": "2024-04-27T17:58:53.384519Z"
    }
   },
   "cell_type": "code",
   "source": "result[['date', 'total_crawled_domains', 'total_crawled_domains_with_correct_nel', 'nel_percentage']]",
   "id": "1c42f4301122e501",
   "execution_count": 6,
   "outputs": []
  },
  {
   "metadata": {},
   "cell_type": "markdown",
   "source": "#### Deloyment state graph",
   "id": "89674c4830fcc8c0"
  },
  {
   "metadata": {
    "ExecuteTime": {
     "end_time": "2024-04-27T17:58:55.973919Z",
     "start_time": "2024-04-27T17:58:53.395319Z"
    }
   },
   "cell_type": "code",
   "source": [
    "to_plot = result.copy()\n",
    "to_plot['date_fmt'] = to_plot['date'].map(lambda date: pd.to_datetime(date))\n",
    "# to_plot[('date_fmt')]\n",
    "\n",
    "fig, ax = plt.subplots(1, 1, figsize=(10, 5))\n",
    "ax.yaxis.get_major_formatter().set_scientific(False)\n",
    "ax.yaxis.get_major_formatter().set_useOffset(False)\n",
    "\n",
    "sns.lineplot(to_plot, x='date_fmt', y='total_crawled_domains_with_correct_nel', color='green', ax=ax)\n",
    "\n",
    "ax.xaxis.remove_overlapping_locs = False\n",
    "\n",
    "years = mdates.YearLocator()\n",
    "ax.xaxis.set_major_locator(years)\n",
    "ax.xaxis.set_major_formatter(mdates.DateFormatter(\"\\n\\n%Y\"))\n",
    "\n",
    "months = mdates.MonthLocator(interval=1)\n",
    "months_fmt = mdates.DateFormatter('%b')\n",
    "ax.xaxis.set_minor_locator(months)\n",
    "ax.xaxis.set_minor_formatter(months_fmt)\n",
    "\n",
    "# ax.tick_params('x', length=4, width=4, which='both')\n",
    "ax.tick_params(axis='x', which=\"minor\", rotation=90, labelsize=9)\n",
    "\n",
    "\n",
    "ax.set(xlabel='Dátum', ylabel='Domény so správne nasadeným NEL')\n",
    "# plt.setp(ax.xaxis.get_majorticklabels(), )\n",
    "plt.setp(ax.xaxis.get_minorticklabels(), rotation=90)\n",
    "\n",
    "plt.grid(True, which='minor', linestyle='--',)\n",
    "# ax.set(ylim = (0,2_400_000))\n",
    "\n",
    "ax.yaxis.set_major_locator(ticker.MultipleLocator(150_000))\n",
    "ax.yaxis.set_major_formatter(ticker.EngFormatter())\n",
    "ax.tick_params(labelleft=False, labelright=True)\n",
    "\n",
    "ax.lines[0].set_marker('.')\n",
    "ax.lines[0].set_markersize(10)\n",
    "ax.lines[0].set_markeredgecolor('gray')\n",
    "ax.lines[0].set_markeredgewidth(1.5)\n",
    "\n",
    "\n",
    "fig.tight_layout()\n",
    "# fig.subplots_adjust(bottom=0.2) # or whatever\n",
    "plt.savefig('graphs/httparchive_nel_deployment.pdf')\n"
   ],
   "id": "5e1dc727039ff2db",
   "execution_count": 7,
   "outputs": []
  },
  {
   "metadata": {},
   "cell_type": "markdown",
   "source": "#### Deployment ratio values graph",
   "id": "59bb4f269b90fe69"
  },
  {
   "metadata": {
    "ExecuteTime": {
     "end_time": "2024-04-27T17:59:00.452396Z",
     "start_time": "2024-04-27T17:58:55.973919Z"
    }
   },
   "cell_type": "code",
   "source": [
    "to_plot = result.copy()\n",
    "\n",
    "to_plot.index = to_plot['date']\n",
    "to_plot.index = pd.to_datetime(to_plot.index, format=\"%b %Y\")\n",
    "\n",
    "idx = pd.date_range('01-01-2018', '31-12-2024', freq='MS')\n",
    "to_plot = to_plot.reindex(idx, fill_value=0)\n",
    "\n",
    "to_plot.drop(columns=['date'], inplace=True)\n",
    "to_plot.reset_index(inplace=True)\n",
    "\n",
    "to_plot['Rok'] = to_plot['index'].map(lambda date: date.year)\n",
    "\n",
    "\n",
    "g = sns.FacetGrid(to_plot, col='Rok', col_wrap=3, margin_titles=True, sharex=False, sharey=False, height=3.5, aspect=1.1)\n",
    "\n",
    "g.map_dataframe(sns.barplot, x=\"total_crawled_domains\", y=\"index\", color=\"lightgray\")\n",
    "for idx, (col_val, ax) in enumerate(g.axes_dict.items()):\n",
    "    ax.bar_label(ax.containers[-1], fmt='{:,.0f}', label_type='edge')\n",
    "    ax.set(xlim=(ax.get_ylim()[0], max(ax.containers[-1].datavalues) * 1.5))\n",
    "\n",
    "g.map_dataframe(sns.barplot, x=\"total_crawled_domains_with_correct_nel\", y=\"index\", color=\"green\")\n",
    "for idx, (col_val, ax) in enumerate(g.axes_dict.items()):\n",
    "    ax.bar_label(ax.containers[-1], fmt='{:,.0f}', label_type='edge')\n",
    "\n",
    "\n",
    "for idx, (col_val, ax) in enumerate(g.axes_dict.items()):\n",
    "    ax.xaxis.get_major_formatter().set_scientific(False)\n",
    "    ax.xaxis.get_major_formatter().set_useOffset(False)\n",
    "\n",
    "    # ax.xaxis.remove_overlapping_locs = False\n",
    "    ax.xaxis.set_major_locator(ticker.NullLocator())\n",
    "\n",
    "    # months = mdates.MonthLocator()\n",
    "    # months_fmt = mdates.DateFormatter('%b')\n",
    "    # ax.yaxis.set_major_locator(months)\n",
    "    # ax.yaxis.set_major_formatter(months_fmt)\n",
    "\n",
    "    # This just would not work forever... I really AM sorry, no more time to waste\n",
    "    tick_labels = [date_to_text_format(\"-\".join(x.get_text().split('-')[:2])).split(' ')[0] for x in ax.get_yticklabels()]\n",
    "    ax.set_yticklabels(tick_labels)\n",
    "\n",
    "\n",
    "    ax.set(xlabel='NEL Domény / Domény celkom', ylabel='Mesiac')\n",
    "    fig.tight_layout()\n",
    "\n",
    "plt.savefig('graphs/httparchive_nel_deployment_ratio_values.pdf')\n"
   ],
   "id": "f7336ae3b130885e",
   "execution_count": 8,
   "outputs": []
  },
  {
   "metadata": {},
   "cell_type": "markdown",
   "source": "### RESOURCES queried within each month and those with valid NEL headers",
   "id": "eae747abf5951d5a"
  },
  {
   "metadata": {
    "ExecuteTime": {
     "end_time": "2024-04-27T17:59:00.464829Z",
     "start_time": "2024-04-27T17:59:00.452396Z"
    }
   },
   "cell_type": "code",
   "source": [
    "result['nel_resource_percentage'] = result['total_crawled_resources_with_correct_nel'] / result[\n",
    "    'total_crawled_resources'] * 100\n",
    "result[['date', 'total_crawled_resources', 'total_crawled_resources_with_correct_nel', 'nel_resource_percentage']]"
   ],
   "id": "1d1ff2c7c653cc50",
   "execution_count": 9,
   "outputs": []
  },
  {
   "metadata": {},
   "cell_type": "markdown",
   "source": "#### GRAPH - Resources with NEL Over time",
   "id": "56cc237d7409880b"
  },
  {
   "metadata": {
    "ExecuteTime": {
     "end_time": "2024-04-27T17:59:10.676369Z",
     "start_time": "2024-04-27T17:59:09.071911Z"
    }
   },
   "cell_type": "code",
   "source": [
    "to_plot = result.copy()\n",
    "to_plot['date_fmt'] = to_plot['date'].map(lambda date: pd.to_datetime(date))\n",
    "# to_plot[('date_fmt')]\n",
    "\n",
    "fig, ax = plt.subplots(1, 1, figsize=(10, 5))\n",
    "ax.yaxis.get_major_formatter().set_scientific(False)\n",
    "ax.yaxis.get_major_formatter().set_useOffset(False)\n",
    "\n",
    "sns.lineplot(to_plot, x='date_fmt', y='total_crawled_resources_with_correct_nel', color='darkgreen', ax=ax)\n",
    "\n",
    "ax.xaxis.remove_overlapping_locs = False\n",
    "\n",
    "years = mdates.YearLocator()\n",
    "ax.xaxis.set_major_locator(years)\n",
    "ax.xaxis.set_major_formatter(mdates.DateFormatter(\"\\n\\n%Y\"))\n",
    "\n",
    "months = mdates.MonthLocator(interval=1)\n",
    "months_fmt = mdates.DateFormatter('%b')\n",
    "ax.xaxis.set_minor_locator(months)\n",
    "ax.xaxis.set_minor_formatter(months_fmt)\n",
    "\n",
    "# ax.tick_params('x', length=4, width=4, which='both')\n",
    "ax.tick_params(axis='x', which=\"minor\", rotation=90, labelsize=9)\n",
    "\n",
    "\n",
    "ax.set(xlabel='Dátum', ylabel='Zdroje správne monitorované pomocou NEL')\n",
    "# plt.setp(ax.xaxis.get_majorticklabels(), )\n",
    "plt.setp(ax.xaxis.get_minorticklabels(), rotation=90)\n",
    "\n",
    "plt.grid(True, which='minor', linestyle='--',)\n",
    "\n",
    "ax.yaxis.set_major_formatter(ticker.EngFormatter())\n",
    "ax.tick_params(labelleft=False, labelright=True)\n",
    "\n",
    "ax.lines[0].set_marker('.')\n",
    "ax.lines[0].set_markersize(10)\n",
    "ax.lines[0].set_markeredgecolor('gray')\n",
    "ax.lines[0].set_markeredgewidth(1.5)\n",
    "\n",
    "# fig.suptitle(\"Rast v počte NEL monitorovaných zdrojov\")\n",
    "fig.tight_layout()\n",
    "plt.savefig('graphs/httparchive_nel_deployment_resources.pdf')"
   ],
   "id": "7d0b2216a2845dd4",
   "execution_count": 13,
   "outputs": []
  },
  {
   "metadata": {},
   "cell_type": "markdown",
   "source": "### Incorrect NEL deployment",
   "id": "746c1993ddba3ccd"
  },
  {
   "metadata": {
    "ExecuteTime": {
     "end_time": "2024-04-27T17:59:02.281733Z",
     "start_time": "2024-04-27T17:59:02.271934Z"
    }
   },
   "cell_type": "code",
   "source": [
    "result['domains_with_incorrect_nel'] = result['total_crawled_domains_with_nel'] - result[\n",
    "    'total_crawled_domains_with_correct_nel']\n",
    "result['resources_with_incorrect_nel'] = result['total_crawled_resources_with_nel'] - result[\n",
    "    'total_crawled_resources_with_correct_nel']\n",
    "\n",
    "# TODO ratio to the correct NEL\n",
    "\n",
    "result[['date', 'domains_with_incorrect_nel', 'resources_with_incorrect_nel']]"
   ],
   "id": "ceab2168bf43c31a",
   "execution_count": 11,
   "outputs": []
  },
  {
   "metadata": {},
   "cell_type": "markdown",
   "source": "#### GRAPH - Incorrect NEL deployment, Domains",
   "id": "dd6b1e554c8aef6c"
  },
  {
   "metadata": {
    "ExecuteTime": {
     "end_time": "2024-04-27T17:59:04.140976Z",
     "start_time": "2024-04-27T17:59:02.281733Z"
    }
   },
   "cell_type": "code",
   "source": [
    "to_plot = result.copy()\n",
    "to_plot['date_fmt'] = to_plot['date'].map(lambda date: pd.to_datetime(date))\n",
    "# to_plot[('date_fmt')]\n",
    "\n",
    "fig, ax = plt.subplots(1, 1, figsize=(10, 5))\n",
    "ax.yaxis.get_major_formatter().set_scientific(False)\n",
    "ax.yaxis.get_major_formatter().set_useOffset(False)\n",
    "\n",
    "sns.lineplot(to_plot, x='date_fmt', y='domains_with_incorrect_nel', color='red', ax=ax)\n",
    "\n",
    "ax.xaxis.remove_overlapping_locs = False\n",
    "\n",
    "years = mdates.YearLocator()\n",
    "ax.xaxis.set_major_locator(years)\n",
    "ax.xaxis.set_major_formatter(mdates.DateFormatter(\"\\n\\n%Y\"))\n",
    "\n",
    "months = mdates.MonthLocator(interval=1)\n",
    "months_fmt = mdates.DateFormatter('%b')\n",
    "ax.xaxis.set_minor_locator(months)\n",
    "ax.xaxis.set_minor_formatter(months_fmt)\n",
    "\n",
    "\n",
    "ax.tick_params(axis='x', which=\"minor\", rotation=90, labelsize=9)\n",
    "\n",
    "\n",
    "ax.set(xlabel='Dátum', ylabel='Domény s nesprávne nasadeným NEL')\n",
    "plt.setp(ax.xaxis.get_minorticklabels(), rotation=90)\n",
    "\n",
    "plt.grid(True, which='minor', linestyle='--',)\n",
    "\n",
    "ax.yaxis.set_major_locator(ticker.MultipleLocator(200))\n",
    "# ax.yaxis.set_major_formatter(ticker.EngFormatter())\n",
    "ax.tick_params(labelleft=False, labelright=True)\n",
    "\n",
    "ax.lines[0].set_marker('.')\n",
    "ax.lines[0].set_markersize(10)\n",
    "ax.lines[0].set_markeredgecolor('gray')\n",
    "ax.lines[0].set_markeredgewidth(1.5)\n",
    "\n",
    "fig.tight_layout()\n",
    "plt.savefig('graphs/httparchive_nel_deployment_incorrect.pdf')"
   ],
   "id": "4fb642c96130f58",
   "execution_count": 12,
   "outputs": []
  }
 ],
 "metadata": {
  "kernelspec": {
   "display_name": "Python 3",
   "language": "python",
   "name": "python3"
  },
  "language_info": {
   "codemirror_mode": {
    "name": "ipython",
    "version": 2
   },
   "file_extension": ".py",
   "mimetype": "text/x-python",
   "name": "python",
   "nbconvert_exporter": "python",
   "pygments_lexer": "ipython2",
   "version": "2.7.6"
  }
 },
 "nbformat": 4,
 "nbformat_minor": 5
}

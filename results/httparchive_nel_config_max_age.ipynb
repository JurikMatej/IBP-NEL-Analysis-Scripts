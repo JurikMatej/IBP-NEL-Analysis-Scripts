{
 "cells": [
  {
   "cell_type": "code",
   "id": "initial_id",
   "metadata": {
    "collapsed": true,
    "ExecuteTime": {
     "end_time": "2024-04-27T21:02:45.814434Z",
     "start_time": "2024-04-27T21:02:45.810844Z"
    }
   },
   "source": [
    "from pathlib import Path\n",
    "\n",
    "import pandas as pd\n",
    "import matplotlib.dates as mdates\n",
    "import matplotlib.ticker as ticker\n",
    "import seaborn as sns"
   ],
   "execution_count": 1,
   "outputs": []
  },
  {
   "metadata": {
    "ExecuteTime": {
     "end_time": "2024-04-27T21:02:45.820458Z",
     "start_time": "2024-04-27T21:02:45.814434Z"
    }
   },
   "cell_type": "code",
   "source": [
    "dates_to_visualize = [\n",
    "                                                                                            \"2018-09\", \"2018-10\", \"2018-11\", \"2018-12\",\n",
    "    \"2019-01\", \"2019-02\", \"2019-03\", \"2019-04\", \"2019-05\", \"2019-06\", \"2019-07\", \"2019-08\", \"2019-09\", \"2019-10\", \"2019-11\", \"2019-12\",\n",
    "    \"2020-01\", \"2020-02\", \"2020-03\", \"2020-04\", \"2020-05\", \"2020-06\", \"2020-07\", \"2020-08\", \"2020-09\", \"2020-10\", \"2020-11\", \"2020-12\",\n",
    "    \"2021-01\", \"2021-02\", \"2021-03\", \"2021-04\", \"2021-05\", \"2021-06\", \"2021-07\", \"2021-08\", \"2021-09\", \"2021-10\", \"2021-11\", \"2021-12\",\n",
    "    \"2022-01\", \"2022-02\", \"2022-03\", \"2022-04\", \"2022-05\", \"2022-06\", \"2022-07\", \"2022-08\", \"2022-09\", \"2022-10\", \"2022-11\", \"2022-12\",\n",
    "    \"2023-01\", \"2023-02\", \"2023-03\", \"2023-04\", \"2023-05\", \"2023-06\", \"2023-07\", \"2023-08\", \"2023-09\", \"2023-10\", \"2023-11\", \"2023-12\",\n",
    "    \"2024-01\", \"2024-02\", \"2024-03\", \"2024-04\", \n",
    "]"
   ],
   "id": "c07259930290c1c9",
   "execution_count": 2,
   "outputs": []
  },
  {
   "metadata": {
    "ExecuteTime": {
     "end_time": "2024-04-27T21:02:45.832645Z",
     "start_time": "2024-04-27T21:02:45.820458Z"
    }
   },
   "cell_type": "code",
   "source": [
    "available_data_files = list(Path(\"../data/httparchive_metrics/nel_config\").glob(\"*.parquet\"))\n",
    "\n",
    "used_data_files = list(filter(lambda file: file.stem.split(\"_\")[-1] in dates_to_visualize, available_data_files))\n",
    "used_data_files"
   ],
   "id": "52165933a47769e6",
   "execution_count": 3,
   "outputs": []
  },
  {
   "metadata": {},
   "cell_type": "markdown",
   "source": "### Failure fraction configuration over months\n",
   "id": "25f7d89fbec0f42d"
  },
  {
   "metadata": {
    "ExecuteTime": {
     "end_time": "2024-04-27T21:02:45.839243Z",
     "start_time": "2024-04-27T21:02:45.832645Z"
    }
   },
   "cell_type": "code",
   "source": [
    "# Pick out the Failure Fraction files\n",
    "ma_files = list(filter(lambda file: file.stem[:file.stem.rfind(\"_\")] == 'max_age', used_data_files))\n",
    "ma_files"
   ],
   "id": "1c79d9f828f4e04b",
   "execution_count": 4,
   "outputs": []
  },
  {
   "metadata": {},
   "cell_type": "markdown",
   "source": "### Aggregate results to visualize",
   "id": "fd9627e8dec29cbc"
  },
  {
   "metadata": {
    "ExecuteTime": {
     "end_time": "2024-04-27T21:02:47.365518Z",
     "start_time": "2024-04-27T21:02:45.839243Z"
    }
   },
   "cell_type": "code",
   "source": [
    "from results.result_utils import concat_data_from_files\n",
    "\n",
    "ma_data = concat_data_from_files(ma_files)\n",
    "ma_data['nel_max_age'] = ma_data['nel_max_age'].astype('UInt32')\n",
    "\n",
    "ma_data"
   ],
   "id": "107d892d6fea39bd",
   "execution_count": 5,
   "outputs": []
  },
  {
   "metadata": {
    "ExecuteTime": {
     "end_time": "2024-04-27T21:02:48.127274Z",
     "start_time": "2024-04-27T21:02:47.365518Z"
    }
   },
   "cell_type": "code",
   "source": [
    "from results.result_utils import get_first_or_0, date_to_text_format\n",
    "\n",
    "ma_result = pd.DataFrame({}, index=[\n",
    "    '0',\n",
    "    '0-1h',\n",
    "    '1h',\n",
    "    '1h-1d',\n",
    "    '1d',\n",
    "    '1d-7d',\n",
    "    '7d',\n",
    "    '7d-30d',\n",
    "    '30d',\n",
    "    '30d-365d',\n",
    "    '365d',\n",
    "    '365d-730d',\n",
    "    '730d',\n",
    "])\n",
    "\n",
    "for date in dates_to_visualize:\n",
    "    month_ma_data = ma_data[ma_data['date'] == date].copy()\n",
    "    \n",
    "    month_data_col = []\n",
    "    \n",
    "    # month_result['0.00']\n",
    "    next_val = month_ma_data[month_ma_data['nel_max_age'] == 0].groupby(['date'])['domain_count'].sum()\n",
    "    month_data_col.append(get_first_or_0(next_val))\n",
    "    \n",
    "    # month_result['0.00-0.01'] \n",
    "    next_val = month_ma_data[(month_ma_data['nel_max_age'] > 0) & (month_ma_data['nel_max_age'] < 3600)].groupby(['date'])['domain_count'].sum()\n",
    "    month_data_col.append(get_first_or_0(next_val))\n",
    "\n",
    "    # month_result['0.01']\n",
    "    next_val = month_ma_data[month_ma_data['nel_max_age'] == 3600].groupby(['date'])['domain_count'].sum()\n",
    "    month_data_col.append(get_first_or_0(next_val))\n",
    "    \n",
    "    # month_result['0.01-0.05']\n",
    "    next_val = month_ma_data[(month_ma_data['nel_max_age'] > 3600) & (month_ma_data['nel_max_age'] < 86400)].groupby(['date'])['domain_count'].sum()\n",
    "    month_data_col.append(get_first_or_0(next_val))\n",
    "    \n",
    "    # month_result['0.05'] \n",
    "    next_val = month_ma_data[month_ma_data['nel_max_age'] == 86400].groupby(['date'])['domain_count'].sum()\n",
    "    month_data_col.append(get_first_or_0(next_val))\n",
    "\n",
    "    # month_result['0.05-0.10'] \n",
    "    next_val = month_ma_data[(month_ma_data['nel_max_age'] > 86400) & (month_ma_data['nel_max_age'] < 604800)].groupby(['date'])['domain_count'].sum()\n",
    "    month_data_col.append(get_first_or_0(next_val))\n",
    "\n",
    "    # month_result['0.10']\n",
    "    next_val = month_ma_data[month_ma_data['nel_max_age'] == 604800].groupby(['date'])['domain_count'].sum()\n",
    "    month_data_col.append(get_first_or_0(next_val))\n",
    "    \n",
    "    # month_result['0.10-0.25']\n",
    "    next_val = month_ma_data[(month_ma_data['nel_max_age'] > 604800) & (month_ma_data['nel_max_age'] < 2592000)].groupby(['date'])['domain_count'].sum()\n",
    "    month_data_col.append(get_first_or_0(next_val))\n",
    "    \n",
    "    # month_result['0.25']\n",
    "    next_val = month_ma_data[month_ma_data['nel_max_age'] == 2592000].groupby(['date'])['domain_count'].sum()\n",
    "    month_data_col.append(get_first_or_0(next_val))\n",
    "\n",
    "    # month_result['0.25-0.50']\n",
    "    next_val = month_ma_data[(month_ma_data['nel_max_age'] > 2592000) & (month_ma_data['nel_max_age'] < 31536000)].groupby(['date'])['domain_count'].sum()\n",
    "    month_data_col.append(get_first_or_0(next_val))\n",
    "    \n",
    "    # month_result['0.50']\n",
    "    next_val = month_ma_data[month_ma_data['nel_max_age'] == 31536000].groupby(['date'])['domain_count'].sum()\n",
    "    month_data_col.append(get_first_or_0(next_val))\n",
    "\n",
    "    # month_result['0.50-1.00'] \n",
    "    next_val = month_ma_data[(month_ma_data['nel_max_age'] > 31536000) & (month_ma_data['nel_max_age'] < 63072000)].groupby(['date'])['domain_count'].sum()\n",
    "    month_data_col.append(get_first_or_0(next_val))\n",
    "    \n",
    "    # month_result['1.00'] \n",
    "    next_val = month_ma_data[month_ma_data['nel_max_age'] == 63072000].groupby(['date'])['domain_count'].sum()\n",
    "    month_data_col.append(get_first_or_0(next_val))\n",
    "    \n",
    "    ma_result[date_to_text_format(date)] = month_data_col\n",
    "    \n",
    "ma_result"
   ],
   "id": "13939e7d571e8a52",
   "execution_count": 6,
   "outputs": []
  },
  {
   "metadata": {
    "ExecuteTime": {
     "end_time": "2024-04-27T21:09:03.696168Z",
     "start_time": "2024-04-27T21:08:56.975772Z"
    }
   },
   "cell_type": "code",
   "source": [
    "to_plot = ma_result.stack()\n",
    "to_plot = to_plot.reset_index()\n",
    "to_plot.rename(columns={'level_0': 'max_age', 'level_1': 'date', 0: 'domain_count'}, inplace=True)\n",
    "\n",
    "to_plot['date_fmt'] = to_plot['date'].map(lambda date: pd.to_datetime(date))\n",
    "\n",
    "sns.set_style('whitegrid')\n",
    "\n",
    "g = sns.relplot(to_plot, kind='line', x='date_fmt', y='domain_count', \n",
    "                col='max_age', col_wrap=5, \n",
    "                height=2.25, aspect=1.2, \n",
    "                facet_kws={'sharey': False, 'sharex': False}\n",
    "                )\n",
    "\n",
    "for ax in g.axes:\n",
    "    ax.xaxis.remove_overlapping_locs = False\n",
    "    years = mdates.YearLocator()\n",
    "    ax.xaxis.set_major_locator(years)\n",
    "    ax.xaxis.set_major_formatter(mdates.DateFormatter(\"%Y\"))\n",
    "\n",
    "    ax.xaxis.set_minor_locator(ticker.NullLocator())\n",
    "    \n",
    "\n",
    "    ax.yaxis.set_major_locator(ticker.MaxNLocator(integer=True))    \n",
    "    ax.yaxis.set_major_formatter(ticker.EngFormatter())    \n",
    "    \n",
    "    ax.tick_params(axis='x', which=\"major\", rotation=45)\n",
    "\n",
    "\n",
    "\n",
    "g.set_xlabels(\"Rok\")\n",
    "g.set_ylabels(\"Počet domén\")\n",
    "\n",
    "# g.figure.suptitle(\"Nastavenie hodnôt max_age počas skúmaného obdobia\")\n",
    "g.tight_layout()\n",
    "\n",
    "g.savefig(\"graphs/httparchive_nel_config_ma_dist.pdf\")"
   ],
   "id": "8380d561394476e8",
   "execution_count": 10,
   "outputs": []
  }
 ],
 "metadata": {
  "kernelspec": {
   "display_name": "Python 3",
   "language": "python",
   "name": "python3"
  },
  "language_info": {
   "codemirror_mode": {
    "name": "ipython",
    "version": 2
   },
   "file_extension": ".py",
   "mimetype": "text/x-python",
   "name": "python",
   "nbconvert_exporter": "python",
   "pygments_lexer": "ipython2",
   "version": "2.7.6"
  }
 },
 "nbformat": 4,
 "nbformat_minor": 5
}

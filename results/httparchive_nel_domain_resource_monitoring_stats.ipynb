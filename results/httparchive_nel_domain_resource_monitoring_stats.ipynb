{
 "cells": [
  {
   "cell_type": "code",
   "id": "initial_id",
   "metadata": {
    "collapsed": true,
    "ExecuteTime": {
     "end_time": "2024-04-27T17:28:20.379726Z",
     "start_time": "2024-04-27T17:28:20.375802Z"
    }
   },
   "source": [
    "from pathlib import Path\n",
    "\n",
    "import pandas as pd\n",
    "import matplotlib.dates as mdates\n",
    "import matplotlib.ticker as ticker\n",
    "import seaborn as sns"
   ],
   "execution_count": 1,
   "outputs": []
  },
  {
   "metadata": {
    "ExecuteTime": {
     "end_time": "2024-04-27T17:28:23.914036Z",
     "start_time": "2024-04-27T17:28:23.899273Z"
    }
   },
   "cell_type": "code",
   "source": [
    "dates_to_visualize = [\n",
    "                                                                                            \"2018-09\", \"2018-10\", \"2018-11\", \"2018-12\",\n",
    "    \"2019-01\", \"2019-02\", \"2019-03\", \"2019-04\", \"2019-05\", \"2019-06\", \"2019-07\", \"2019-08\", \"2019-09\", \"2019-10\", \"2019-11\", \"2019-12\",\n",
    "    \"2020-01\", \"2020-02\", \"2020-03\", \"2020-04\", \"2020-05\", \"2020-06\", \"2020-07\", \"2020-08\", \"2020-09\", \"2020-10\", \"2020-11\", \"2020-12\",\n",
    "    \"2021-01\", \"2021-02\", \"2021-03\", \"2021-04\", \"2021-05\", \"2021-06\", \"2021-07\", \"2021-08\", \"2021-09\", \"2021-10\", \"2021-11\", \"2021-12\",\n",
    "    \"2022-01\", \"2022-02\", \"2022-03\", \"2022-04\", \"2022-05\", \"2022-06\", \"2022-07\", \"2022-08\", \"2022-09\", \"2022-10\", \"2022-11\", \"2022-12\",\n",
    "    \"2023-01\", \"2023-02\", \"2023-03\", \"2023-04\", \"2023-05\", \"2023-06\", \"2023-07\", \"2023-08\", \"2023-09\", \"2023-10\", \"2023-11\", \"2023-12\",\n",
    "    \"2024-01\", \"2024-02\", \"2024-03\", \"2024-04\", \n",
    "]"
   ],
   "id": "ff095f3d72cffadb",
   "execution_count": 2,
   "outputs": []
  },
  {
   "metadata": {
    "ExecuteTime": {
     "end_time": "2024-04-27T17:28:25.487746Z",
     "start_time": "2024-04-27T17:28:25.464131Z"
    }
   },
   "cell_type": "code",
   "source": [
    "available_data_files = list(Path(\"../data/httparchive_metrics/nel_domain_resource_monitoring_stats\").glob(\"*.parquet\"))\n",
    "\n",
    "used_data_files = list(filter(lambda file: file.stem in dates_to_visualize, available_data_files))\n",
    "used_data_files"
   ],
   "id": "da0cdcb53e3c777e",
   "execution_count": 3,
   "outputs": []
  },
  {
   "metadata": {},
   "cell_type": "markdown",
   "source": "### Aggregate result to visualize",
   "id": "f3ef2b817f5bb4f"
  },
  {
   "metadata": {
    "ExecuteTime": {
     "end_time": "2024-04-27T17:32:10.721523Z",
     "start_time": "2024-04-27T17:28:29.263768Z"
    }
   },
   "cell_type": "code",
   "source": [
    "from results.result_utils import date_to_text_format, concat_data_from_files\n",
    "\n",
    "result = concat_data_from_files(used_data_files)\n",
    "\n",
    "result['date_formatted'] = result['date'].map(date_to_text_format)\n",
    "\n",
    "result"
   ],
   "id": "4a0f5007b579346b",
   "execution_count": 4,
   "outputs": []
  },
  {
   "metadata": {},
   "cell_type": "markdown",
   "source": "### NEL Domain monitored resources ratio distribution",
   "id": "8b589adfcee8a3be"
  },
  {
   "metadata": {
    "ExecuteTime": {
     "end_time": "2024-04-27T17:42:14.903467Z",
     "start_time": "2024-04-27T17:37:51.611266Z"
    }
   },
   "cell_type": "code",
   "source": [
    "from results.result_utils import get_first_or_0\n",
    "\n",
    "distribution_result = pd.DataFrame({}, index=[\n",
    "    '(0%-10%>',\n",
    "    '(10%-25%>',\n",
    "    '(25%-50%>',\n",
    "    '(50%-75%>',\n",
    "    '(75%-100%)',\n",
    "    '<100%>',\n",
    "])\n",
    "\n",
    "for month in dates_to_visualize:\n",
    "    current_month_data = result[result['date'] == month].copy()\n",
    "    \n",
    "    month_data_col = []\n",
    "\n",
    "    # month_result['(0%-10%>']    \n",
    "    next_val = current_month_data[(current_month_data['url_domain_monitored_resources_ratio'] > 0.0) & (current_month_data['url_domain_monitored_resources_ratio'] <= 10.0)].count()\n",
    "    month_data_col.append(get_first_or_0(next_val))\n",
    "\n",
    "    # month_result['(10%-25%>']    \n",
    "    next_val = current_month_data[(current_month_data['url_domain_monitored_resources_ratio'] > 10.0) & (current_month_data['url_domain_monitored_resources_ratio'] <= 25.0)].count()\n",
    "    month_data_col.append(get_first_or_0(next_val))\n",
    "\n",
    "    # month_result['(25%-50%>']    \n",
    "    next_val = current_month_data[(current_month_data['url_domain_monitored_resources_ratio'] > 25.0) & (current_month_data['url_domain_monitored_resources_ratio'] <= 50.0)].count()\n",
    "    month_data_col.append(get_first_or_0(next_val))\n",
    "\n",
    "    # month_result['(50%-75%>']    \n",
    "    next_val = current_month_data[(current_month_data['url_domain_monitored_resources_ratio'] > 50.0) & (current_month_data['url_domain_monitored_resources_ratio'] <= 75.0)].count()\n",
    "    month_data_col.append(get_first_or_0(next_val))\n",
    "\n",
    "    # month_result['(75%-100%)']    \n",
    "    next_val = current_month_data[(current_month_data['url_domain_monitored_resources_ratio'] > 75.0) & (current_month_data['url_domain_monitored_resources_ratio'] < 100.0)].count()\n",
    "    month_data_col.append(get_first_or_0(next_val))\n",
    "    \n",
    "    # month_result['<100%>']\n",
    "    next_val = current_month_data[current_month_data['url_domain_monitored_resources_ratio'] == 100.0].count()\n",
    "    month_data_col.append(get_first_or_0(next_val))\n",
    "    \n",
    "    \n",
    "    distribution_result[date_to_text_format(month)] = month_data_col\n",
    "    \n",
    "distribution_result"
   ],
   "id": "54b29ff81439b613",
   "execution_count": 5,
   "outputs": []
  },
  {
   "metadata": {
    "ExecuteTime": {
     "end_time": "2024-04-27T17:56:12.298571Z",
     "start_time": "2024-04-27T17:56:09.138446Z"
    }
   },
   "cell_type": "code",
   "source": [
    "to_plot = distribution_result.stack()\n",
    "to_plot = to_plot.reset_index()\n",
    "to_plot.rename(columns={'level_0': 'Zastúpenie NEL zdrojov', 'level_1': 'date', 0: 'domain_count'}, inplace=True)\n",
    "\n",
    "to_plot['date_fmt'] = to_plot['date'].map(lambda date: pd.to_datetime(date))\n",
    "\n",
    "sns.set_style('whitegrid')\n",
    "\n",
    "g = sns.relplot(to_plot, kind='line', x='date_fmt', y='domain_count', \n",
    "                col='Zastúpenie NEL zdrojov', col_wrap=3, \n",
    "                height=3, aspect=1.2, \n",
    "                facet_kws={'sharey': False, 'sharex': False}\n",
    "                )\n",
    "\n",
    "for idx, ax in enumerate(g.axes):\n",
    "    ax.xaxis.remove_overlapping_locs = False\n",
    "    years = mdates.YearLocator()\n",
    "    ax.xaxis.set_major_locator(years)\n",
    "    ax.xaxis.set_major_formatter(mdates.DateFormatter(\"%Y\"))\n",
    "\n",
    "    ax.xaxis.set_minor_locator(ticker.NullLocator())\n",
    "    \n",
    "\n",
    "    ax.yaxis.set_major_locator(ticker.MaxNLocator(integer=True))\n",
    "    ax.yaxis.set_major_formatter(ticker.EngFormatter())\n",
    "    \n",
    "    ax.tick_params(axis='x', which=\"minor\", rotation=90, labelsize=9)\n",
    "\n",
    "g.set_xlabels(\"Rok\")\n",
    "g.set_ylabels(\"Počet domén\")\n",
    "\n",
    "# g.figure.suptitle(\"Zastúpenie NEL zdrojov v porovnaní k celkovnému počtu zdrojov počas skúmaného obdobia\")\n",
    "g.tight_layout()\n",
    "\n",
    "g.savefig(\"graphs/httparchive_nel_monitored_resources_percentage_dist.pdf\")"
   ],
   "id": "72dfc48cf04ebce1",
   "execution_count": 15,
   "outputs": []
  }
 ],
 "metadata": {
  "kernelspec": {
   "display_name": "Python 3",
   "language": "python",
   "name": "python3"
  },
  "language_info": {
   "codemirror_mode": {
    "name": "ipython",
    "version": 2
   },
   "file_extension": ".py",
   "mimetype": "text/x-python",
   "name": "python",
   "nbconvert_exporter": "python",
   "pygments_lexer": "ipython2",
   "version": "2.7.6"
  }
 },
 "nbformat": 4,
 "nbformat_minor": 5
}

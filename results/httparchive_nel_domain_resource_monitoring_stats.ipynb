{
 "cells": [
  {
   "cell_type": "code",
   "id": "initial_id",
   "metadata": {
    "collapsed": true,
    "ExecuteTime": {
     "end_time": "2024-04-15T16:37:19.845239Z",
     "start_time": "2024-04-15T16:37:19.792953Z"
    }
   },
   "source": [
    "from pathlib import Path\n",
    "\n",
    "import pandas as pd"
   ],
   "outputs": [],
   "execution_count": 1
  },
  {
   "metadata": {
    "ExecuteTime": {
     "end_time": "2024-04-15T16:37:19.853685Z",
     "start_time": "2024-04-15T16:37:19.848245Z"
    }
   },
   "cell_type": "code",
   "source": [
    "dates_to_visualize = [\n",
    "    \"2019-02\",\n",
    "    \"2020-02\",\n",
    "    \"2021-02\",\n",
    "    \"2022-02\",\n",
    "    \"2023-02\",\n",
    "    # \"2024-02\",\n",
    "]"
   ],
   "id": "ff095f3d72cffadb",
   "outputs": [],
   "execution_count": 2
  },
  {
   "metadata": {
    "ExecuteTime": {
     "end_time": "2024-04-15T16:37:19.888222Z",
     "start_time": "2024-04-15T16:37:19.855730Z"
    }
   },
   "cell_type": "code",
   "source": [
    "available_data_files = list(Path(\"../data/httparchive_metrics/nel_domain_resource_monitoring_stats\").glob(\"*.parquet\"))\n",
    "\n",
    "used_data_files = list(filter(lambda file: file.stem in dates_to_visualize, available_data_files))\n",
    "used_data_files"
   ],
   "id": "da0cdcb53e3c777e",
   "outputs": [
    {
     "data": {
      "text/plain": [
       "[WindowsPath('../data/httparchive_metrics/nel_domain_resource_monitoring_stats/2019-02.parquet'),\n",
       " WindowsPath('../data/httparchive_metrics/nel_domain_resource_monitoring_stats/2020-02.parquet'),\n",
       " WindowsPath('../data/httparchive_metrics/nel_domain_resource_monitoring_stats/2021-02.parquet'),\n",
       " WindowsPath('../data/httparchive_metrics/nel_domain_resource_monitoring_stats/2022-02.parquet'),\n",
       " WindowsPath('../data/httparchive_metrics/nel_domain_resource_monitoring_stats/2023-02.parquet')]"
      ]
     },
     "execution_count": 3,
     "metadata": {},
     "output_type": "execute_result"
    }
   ],
   "execution_count": 3
  },
  {
   "metadata": {},
   "cell_type": "markdown",
   "source": "### Aggregate result to visualize",
   "id": "f3ef2b817f5bb4f"
  },
  {
   "metadata": {
    "ExecuteTime": {
     "end_time": "2024-04-15T16:39:34.699527Z",
     "start_time": "2024-04-15T16:39:28.589297Z"
    }
   },
   "cell_type": "code",
   "source": [
    "from results.result_utils import date_to_text_format, concat_data_from_files\n",
    "\n",
    "result = concat_data_from_files(used_data_files)\n",
    "\n",
    "result['date_formatted'] = result['date'].map(date_to_text_format)\n",
    "\n",
    "result"
   ],
   "id": "4a0f5007b579346b",
   "outputs": [
    {
     "data": {
      "text/plain": [
       "2785923"
      ]
     },
     "execution_count": 9,
     "metadata": {},
     "output_type": "execute_result"
    }
   ],
   "execution_count": 9
  },
  {
   "metadata": {},
   "cell_type": "markdown",
   "source": "### NEL Domain monitored resources ratio distribution",
   "id": "8b589adfcee8a3be"
  },
  {
   "metadata": {
    "ExecuteTime": {
     "end_time": "2024-04-15T16:37:31.885079Z",
     "start_time": "2024-04-15T16:37:28.396845Z"
    }
   },
   "cell_type": "code",
   "source": [
    "from results.result_utils import get_first_or_0\n",
    "\n",
    "distribution_result = pd.DataFrame({}, index=[\n",
    "    '(0%-10%>',\n",
    "    '(10%-25%>',\n",
    "    '(25%-50%>',\n",
    "    '(50%-75%>',\n",
    "    '(75%-100%)',\n",
    "    '<100%>',\n",
    "])\n",
    "\n",
    "for month in dates_to_visualize:\n",
    "    current_month_data = result[result['date'] == month].copy()\n",
    "    \n",
    "    month_data_col = []\n",
    "\n",
    "    # month_result['(0%-10%>']    \n",
    "    next_val = current_month_data[(current_month_data['url_domain_monitored_resources_ratio'] > 0.0) & (current_month_data['url_domain_monitored_resources_ratio'] <= 10.0)].count()\n",
    "    month_data_col.append(get_first_or_0(next_val))\n",
    "\n",
    "    # month_result['(10%-25%>']    \n",
    "    next_val = current_month_data[(current_month_data['url_domain_monitored_resources_ratio'] > 10.0) & (current_month_data['url_domain_monitored_resources_ratio'] <= 25.0)].count()\n",
    "    month_data_col.append(get_first_or_0(next_val))\n",
    "\n",
    "    # month_result['(25%-50%>']    \n",
    "    next_val = current_month_data[(current_month_data['url_domain_monitored_resources_ratio'] > 25.0) & (current_month_data['url_domain_monitored_resources_ratio'] <= 50.0)].count()\n",
    "    month_data_col.append(get_first_or_0(next_val))\n",
    "\n",
    "    # month_result['(50%-75%>']    \n",
    "    next_val = current_month_data[(current_month_data['url_domain_monitored_resources_ratio'] > 50.0) & (current_month_data['url_domain_monitored_resources_ratio'] <= 75.0)].count()\n",
    "    month_data_col.append(get_first_or_0(next_val))\n",
    "\n",
    "    # month_result['(75%-100%)']    \n",
    "    next_val = current_month_data[(current_month_data['url_domain_monitored_resources_ratio'] > 75.0) & (current_month_data['url_domain_monitored_resources_ratio'] < 100.0)].count()\n",
    "    month_data_col.append(get_first_or_0(next_val))\n",
    "    \n",
    "    # month_result['<100%>']\n",
    "    next_val = current_month_data[current_month_data['url_domain_monitored_resources_ratio'] == 100.0].count()\n",
    "    month_data_col.append(get_first_or_0(next_val))\n",
    "    \n",
    "    \n",
    "    distribution_result[date_to_text_format(month)] = month_data_col\n",
    "    \n",
    "distribution_result"
   ],
   "id": "54b29ff81439b613",
   "outputs": [
    {
     "data": {
      "text/plain": [
       "            Feb 2019  Feb 2020  Feb 2021  Feb 2022  Feb 2023\n",
       "(0%-10%>          29       188      1324     19856     23214\n",
       "(10%-25%>          7       250      1074      4717      2218\n",
       "(25%-50%>          8     11858     23114      5214      5341\n",
       "(50%-75%>         25     10461     23678      5207      7006\n",
       "(75%-100%)        29      5378     32986     64864     93968\n",
       "<100%>           271     81467    925923    872300   1845611"
      ],
      "text/html": [
       "<div>\n",
       "<style scoped>\n",
       "    .dataframe tbody tr th:only-of-type {\n",
       "        vertical-align: middle;\n",
       "    }\n",
       "\n",
       "    .dataframe tbody tr th {\n",
       "        vertical-align: top;\n",
       "    }\n",
       "\n",
       "    .dataframe thead th {\n",
       "        text-align: right;\n",
       "    }\n",
       "</style>\n",
       "<table border=\"1\" class=\"dataframe\">\n",
       "  <thead>\n",
       "    <tr style=\"text-align: right;\">\n",
       "      <th></th>\n",
       "      <th>Feb 2019</th>\n",
       "      <th>Feb 2020</th>\n",
       "      <th>Feb 2021</th>\n",
       "      <th>Feb 2022</th>\n",
       "      <th>Feb 2023</th>\n",
       "    </tr>\n",
       "  </thead>\n",
       "  <tbody>\n",
       "    <tr>\n",
       "      <th>(0%-10%&gt;</th>\n",
       "      <td>29</td>\n",
       "      <td>188</td>\n",
       "      <td>1324</td>\n",
       "      <td>19856</td>\n",
       "      <td>23214</td>\n",
       "    </tr>\n",
       "    <tr>\n",
       "      <th>(10%-25%&gt;</th>\n",
       "      <td>7</td>\n",
       "      <td>250</td>\n",
       "      <td>1074</td>\n",
       "      <td>4717</td>\n",
       "      <td>2218</td>\n",
       "    </tr>\n",
       "    <tr>\n",
       "      <th>(25%-50%&gt;</th>\n",
       "      <td>8</td>\n",
       "      <td>11858</td>\n",
       "      <td>23114</td>\n",
       "      <td>5214</td>\n",
       "      <td>5341</td>\n",
       "    </tr>\n",
       "    <tr>\n",
       "      <th>(50%-75%&gt;</th>\n",
       "      <td>25</td>\n",
       "      <td>10461</td>\n",
       "      <td>23678</td>\n",
       "      <td>5207</td>\n",
       "      <td>7006</td>\n",
       "    </tr>\n",
       "    <tr>\n",
       "      <th>(75%-100%)</th>\n",
       "      <td>29</td>\n",
       "      <td>5378</td>\n",
       "      <td>32986</td>\n",
       "      <td>64864</td>\n",
       "      <td>93968</td>\n",
       "    </tr>\n",
       "    <tr>\n",
       "      <th>&lt;100%&gt;</th>\n",
       "      <td>271</td>\n",
       "      <td>81467</td>\n",
       "      <td>925923</td>\n",
       "      <td>872300</td>\n",
       "      <td>1845611</td>\n",
       "    </tr>\n",
       "  </tbody>\n",
       "</table>\n",
       "</div>"
      ]
     },
     "execution_count": 5,
     "metadata": {},
     "output_type": "execute_result"
    }
   ],
   "execution_count": 5
  }
 ],
 "metadata": {
  "kernelspec": {
   "display_name": "Python 3",
   "language": "python",
   "name": "python3"
  },
  "language_info": {
   "codemirror_mode": {
    "name": "ipython",
    "version": 2
   },
   "file_extension": ".py",
   "mimetype": "text/x-python",
   "name": "python",
   "nbconvert_exporter": "python",
   "pygments_lexer": "ipython2",
   "version": "2.7.6"
  }
 },
 "nbformat": 4,
 "nbformat_minor": 5
}

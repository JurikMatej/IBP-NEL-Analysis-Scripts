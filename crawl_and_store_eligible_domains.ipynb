{
 "cells": [
  {
   "cell_type": "code",
   "execution_count": 69,
   "id": "initial_id",
   "metadata": {
    "collapsed": true,
    "ExecuteTime": {
     "end_time": "2024-04-02T12:09:45.788128Z",
     "start_time": "2024-04-02T12:09:45.783478Z"
    }
   },
   "outputs": [],
   "source": [
    "import pandas as pd\n",
    "from pathlib import Path\n",
    "from src.metric_utils import load_tranco_list\n",
    "\n",
    "OUTPUT = \"crawl_and_store_eligible_domains.parquet\"\n",
    "\n",
    "YEAR_TO_CRAWL = \"2024\"\n",
    "MONTH_TO_CRAWL = \"04\"\n",
    "\n",
    "CRAWL_MAX_DEPTH = 40  # resources"
   ]
  },
  {
   "cell_type": "code",
   "outputs": [
    {
     "data": {
      "text/plain": "WindowsPath('metric_data/nel_domain_resource_monitoring_stats/2022-02.parquet')"
     },
     "execution_count": 47,
     "metadata": {},
     "output_type": "execute_result"
    }
   ],
   "source": [
    "available_data_files = list(Path(\"metric_data/nel_domain_resource_monitoring_stats\").glob(\"*.parquet\"))\n",
    "\n",
    "latest_file = available_data_files[-1]\n",
    "latest_file"
   ],
   "metadata": {
    "collapsed": false,
    "ExecuteTime": {
     "end_time": "2024-04-02T11:31:26.430890Z",
     "start_time": "2024-04-02T11:31:26.425309Z"
    }
   },
   "id": "6fa713a3ccea451b",
   "execution_count": 47
  },
  {
   "cell_type": "code",
   "outputs": [
    {
     "data": {
      "text/plain": "           popular_domain_name\n0                   google.com\n1                 facebook.com\n2                 a-msedge.net\n3                amazonaws.com\n4                microsoft.com\n...                        ...\n4282597               72517.cn\n4282598  enterpriseforce.co.uk\n4282599     gamepulsepro.store\n4282600    tucsonlifestyle.com\n4282601       uedako-muten.com\n\n[4282602 rows x 1 columns]",
      "text/html": "<div>\n<style scoped>\n    .dataframe tbody tr th:only-of-type {\n        vertical-align: middle;\n    }\n\n    .dataframe tbody tr th {\n        vertical-align: top;\n    }\n\n    .dataframe thead th {\n        text-align: right;\n    }\n</style>\n<table border=\"1\" class=\"dataframe\">\n  <thead>\n    <tr style=\"text-align: right;\">\n      <th></th>\n      <th>popular_domain_name</th>\n    </tr>\n  </thead>\n  <tbody>\n    <tr>\n      <th>0</th>\n      <td>google.com</td>\n    </tr>\n    <tr>\n      <th>1</th>\n      <td>facebook.com</td>\n    </tr>\n    <tr>\n      <th>2</th>\n      <td>a-msedge.net</td>\n    </tr>\n    <tr>\n      <th>3</th>\n      <td>amazonaws.com</td>\n    </tr>\n    <tr>\n      <th>4</th>\n      <td>microsoft.com</td>\n    </tr>\n    <tr>\n      <th>...</th>\n      <td>...</td>\n    </tr>\n    <tr>\n      <th>4282597</th>\n      <td>72517.cn</td>\n    </tr>\n    <tr>\n      <th>4282598</th>\n      <td>enterpriseforce.co.uk</td>\n    </tr>\n    <tr>\n      <th>4282599</th>\n      <td>gamepulsepro.store</td>\n    </tr>\n    <tr>\n      <th>4282600</th>\n      <td>tucsonlifestyle.com</td>\n    </tr>\n    <tr>\n      <th>4282601</th>\n      <td>uedako-muten.com</td>\n    </tr>\n  </tbody>\n</table>\n<p>4282602 rows × 1 columns</p>\n</div>"
     },
     "execution_count": 52,
     "metadata": {},
     "output_type": "execute_result"
    }
   ],
   "source": [
    "tranco_list = load_tranco_list(YEAR_TO_CRAWL, MONTH_TO_CRAWL)\n",
    "if tranco_list is None:\n",
    "    raise Exception(f\"Fetch yourself a tranco list for date '{YEAR_TO_CRAWL}-{MONTH_TO_CRAWL}' in order for this to work\")\n",
    "\n",
    "tranco_list"
   ],
   "metadata": {
    "collapsed": false,
    "ExecuteTime": {
     "end_time": "2024-04-02T11:35:12.987923Z",
     "start_time": "2024-04-02T11:35:11.251679Z"
    }
   },
   "id": "b2361aaaeddf40fe",
   "execution_count": 52
  },
  {
   "cell_type": "code",
   "outputs": [
    {
     "data": {
      "text/plain": "           date     url_domain url_domain_hosted_resources  \\\n15      2022-02  001k.exchange                          49   \n18      2022-02    001xnxx.com                           5   \n21      2022-02     002mag.com                          33   \n23      2022-02       003ms.ru                           2   \n26      2022-02        0067.ru                           3   \n...         ...            ...                         ...   \n972149  2022-02     zztt21.com                           8   \n972152  2022-02     zztt24.com                          16   \n972153  2022-02     zztt26.com                           8   \n972161  2022-02    zzzchan.xyz                           8   \n972167  2022-02      zzzzzz.me                           6   \n\n        url_domain_hosted_resources_with_nel  \\\n15                                        49   \n18                                         5   \n21                                        32   \n23                                         2   \n26                                         3   \n...                                      ...   \n972149                                     8   \n972152                                    16   \n972153                                     8   \n972161                                     8   \n972167                                     6   \n\n        url_domain_monitored_resources_ratio  \n15                                100.000000  \n18                                100.000000  \n21                                 96.970001  \n23                                100.000000  \n26                                100.000000  \n...                                      ...  \n972149                            100.000000  \n972152                            100.000000  \n972153                            100.000000  \n972161                            100.000000  \n972167                            100.000000  \n\n[103407 rows x 5 columns]",
      "text/html": "<div>\n<style scoped>\n    .dataframe tbody tr th:only-of-type {\n        vertical-align: middle;\n    }\n\n    .dataframe tbody tr th {\n        vertical-align: top;\n    }\n\n    .dataframe thead th {\n        text-align: right;\n    }\n</style>\n<table border=\"1\" class=\"dataframe\">\n  <thead>\n    <tr style=\"text-align: right;\">\n      <th></th>\n      <th>date</th>\n      <th>url_domain</th>\n      <th>url_domain_hosted_resources</th>\n      <th>url_domain_hosted_resources_with_nel</th>\n      <th>url_domain_monitored_resources_ratio</th>\n    </tr>\n  </thead>\n  <tbody>\n    <tr>\n      <th>15</th>\n      <td>2022-02</td>\n      <td>001k.exchange</td>\n      <td>49</td>\n      <td>49</td>\n      <td>100.000000</td>\n    </tr>\n    <tr>\n      <th>18</th>\n      <td>2022-02</td>\n      <td>001xnxx.com</td>\n      <td>5</td>\n      <td>5</td>\n      <td>100.000000</td>\n    </tr>\n    <tr>\n      <th>21</th>\n      <td>2022-02</td>\n      <td>002mag.com</td>\n      <td>33</td>\n      <td>32</td>\n      <td>96.970001</td>\n    </tr>\n    <tr>\n      <th>23</th>\n      <td>2022-02</td>\n      <td>003ms.ru</td>\n      <td>2</td>\n      <td>2</td>\n      <td>100.000000</td>\n    </tr>\n    <tr>\n      <th>26</th>\n      <td>2022-02</td>\n      <td>0067.ru</td>\n      <td>3</td>\n      <td>3</td>\n      <td>100.000000</td>\n    </tr>\n    <tr>\n      <th>...</th>\n      <td>...</td>\n      <td>...</td>\n      <td>...</td>\n      <td>...</td>\n      <td>...</td>\n    </tr>\n    <tr>\n      <th>972149</th>\n      <td>2022-02</td>\n      <td>zztt21.com</td>\n      <td>8</td>\n      <td>8</td>\n      <td>100.000000</td>\n    </tr>\n    <tr>\n      <th>972152</th>\n      <td>2022-02</td>\n      <td>zztt24.com</td>\n      <td>16</td>\n      <td>16</td>\n      <td>100.000000</td>\n    </tr>\n    <tr>\n      <th>972153</th>\n      <td>2022-02</td>\n      <td>zztt26.com</td>\n      <td>8</td>\n      <td>8</td>\n      <td>100.000000</td>\n    </tr>\n    <tr>\n      <th>972161</th>\n      <td>2022-02</td>\n      <td>zzzchan.xyz</td>\n      <td>8</td>\n      <td>8</td>\n      <td>100.000000</td>\n    </tr>\n    <tr>\n      <th>972167</th>\n      <td>2022-02</td>\n      <td>zzzzzz.me</td>\n      <td>6</td>\n      <td>6</td>\n      <td>100.000000</td>\n    </tr>\n  </tbody>\n</table>\n<p>103407 rows × 5 columns</p>\n</div>"
     },
     "execution_count": 66,
     "metadata": {},
     "output_type": "execute_result"
    }
   ],
   "source": [
    "data = pd.read_parquet(latest_file)\n",
    "data['url_domain_hosted_resources_with_nel'] = data['url_domain_hosted_resources_with_nel'].astype(\"UInt32\")\n",
    "data['url_domain'] = data['url_domain'].astype(\"object\")\n",
    "\n",
    "popular_domain_data = data[data['url_domain'].isin(tranco_list['popular_domain_name'])]\n",
    "popular_domain_data"
   ],
   "metadata": {
    "collapsed": false,
    "ExecuteTime": {
     "end_time": "2024-04-02T12:08:21.991092Z",
     "start_time": "2024-04-02T12:08:20.449080Z"
    }
   },
   "id": "46b924c23aa22e9d",
   "execution_count": 66
  },
  {
   "cell_type": "code",
   "outputs": [
    {
     "data": {
      "text/plain": "           date          url_domain url_domain_hosted_resources  \\\n18      2022-02         001xnxx.com                           5   \n21      2022-02          002mag.com                          33   \n23      2022-02            003ms.ru                           2   \n26      2022-02             0067.ru                           3   \n33      2022-02  007soccerpicks.com                           3   \n...         ...                 ...                         ...   \n972149  2022-02          zztt21.com                           8   \n972152  2022-02          zztt24.com                          16   \n972153  2022-02          zztt26.com                           8   \n972161  2022-02         zzzchan.xyz                           8   \n972167  2022-02           zzzzzz.me                           6   \n\n        url_domain_hosted_resources_with_nel  \\\n18                                         5   \n21                                        32   \n23                                         2   \n26                                         3   \n33                                         3   \n...                                      ...   \n972149                                     8   \n972152                                    16   \n972153                                     8   \n972161                                     8   \n972167                                     6   \n\n        url_domain_monitored_resources_ratio  \n18                                100.000000  \n21                                 96.970001  \n23                                100.000000  \n26                                100.000000  \n33                                100.000000  \n...                                      ...  \n972149                            100.000000  \n972152                            100.000000  \n972153                            100.000000  \n972161                            100.000000  \n972167                            100.000000  \n\n[56432 rows x 5 columns]",
      "text/html": "<div>\n<style scoped>\n    .dataframe tbody tr th:only-of-type {\n        vertical-align: middle;\n    }\n\n    .dataframe tbody tr th {\n        vertical-align: top;\n    }\n\n    .dataframe thead th {\n        text-align: right;\n    }\n</style>\n<table border=\"1\" class=\"dataframe\">\n  <thead>\n    <tr style=\"text-align: right;\">\n      <th></th>\n      <th>date</th>\n      <th>url_domain</th>\n      <th>url_domain_hosted_resources</th>\n      <th>url_domain_hosted_resources_with_nel</th>\n      <th>url_domain_monitored_resources_ratio</th>\n    </tr>\n  </thead>\n  <tbody>\n    <tr>\n      <th>18</th>\n      <td>2022-02</td>\n      <td>001xnxx.com</td>\n      <td>5</td>\n      <td>5</td>\n      <td>100.000000</td>\n    </tr>\n    <tr>\n      <th>21</th>\n      <td>2022-02</td>\n      <td>002mag.com</td>\n      <td>33</td>\n      <td>32</td>\n      <td>96.970001</td>\n    </tr>\n    <tr>\n      <th>23</th>\n      <td>2022-02</td>\n      <td>003ms.ru</td>\n      <td>2</td>\n      <td>2</td>\n      <td>100.000000</td>\n    </tr>\n    <tr>\n      <th>26</th>\n      <td>2022-02</td>\n      <td>0067.ru</td>\n      <td>3</td>\n      <td>3</td>\n      <td>100.000000</td>\n    </tr>\n    <tr>\n      <th>33</th>\n      <td>2022-02</td>\n      <td>007soccerpicks.com</td>\n      <td>3</td>\n      <td>3</td>\n      <td>100.000000</td>\n    </tr>\n    <tr>\n      <th>...</th>\n      <td>...</td>\n      <td>...</td>\n      <td>...</td>\n      <td>...</td>\n      <td>...</td>\n    </tr>\n    <tr>\n      <th>972149</th>\n      <td>2022-02</td>\n      <td>zztt21.com</td>\n      <td>8</td>\n      <td>8</td>\n      <td>100.000000</td>\n    </tr>\n    <tr>\n      <th>972152</th>\n      <td>2022-02</td>\n      <td>zztt24.com</td>\n      <td>16</td>\n      <td>16</td>\n      <td>100.000000</td>\n    </tr>\n    <tr>\n      <th>972153</th>\n      <td>2022-02</td>\n      <td>zztt26.com</td>\n      <td>8</td>\n      <td>8</td>\n      <td>100.000000</td>\n    </tr>\n    <tr>\n      <th>972161</th>\n      <td>2022-02</td>\n      <td>zzzchan.xyz</td>\n      <td>8</td>\n      <td>8</td>\n      <td>100.000000</td>\n    </tr>\n    <tr>\n      <th>972167</th>\n      <td>2022-02</td>\n      <td>zzzzzz.me</td>\n      <td>6</td>\n      <td>6</td>\n      <td>100.000000</td>\n    </tr>\n  </tbody>\n</table>\n<p>56432 rows × 5 columns</p>\n</div>"
     },
     "execution_count": 71,
     "metadata": {},
     "output_type": "execute_result"
    }
   ],
   "source": [
    "eligible_domain_data = popular_domain_data[\n",
    "    popular_domain_data['url_domain_hosted_resources_with_nel'] < CRAWL_MAX_DEPTH\n",
    "    ]\n",
    "eligible_domain_data"
   ],
   "metadata": {
    "collapsed": false,
    "ExecuteTime": {
     "end_time": "2024-04-02T12:09:54.156926Z",
     "start_time": "2024-04-02T12:09:54.143042Z"
    }
   },
   "id": "3775b552ff8e40fd",
   "execution_count": 71
  },
  {
   "cell_type": "code",
   "outputs": [],
   "source": "eligible_domain_data.to_parquet(OUTPUT)",
   "metadata": {
    "collapsed": false,
    "ExecuteTime": {
     "end_time": "2024-04-02T12:12:03.786326Z",
     "start_time": "2024-04-02T12:12:03.684880Z"
    }
   },
   "id": "f724af7244a1f96b",
   "execution_count": 75
  }
 ],
 "metadata": {
  "kernelspec": {
   "display_name": "Python 3",
   "language": "python",
   "name": "python3"
  },
  "language_info": {
   "codemirror_mode": {
    "name": "ipython",
    "version": 2
   },
   "file_extension": ".py",
   "mimetype": "text/x-python",
   "name": "python",
   "nbconvert_exporter": "python",
   "pygments_lexer": "ipython2",
   "version": "2.7.6"
  }
 },
 "nbformat": 4,
 "nbformat_minor": 5
}

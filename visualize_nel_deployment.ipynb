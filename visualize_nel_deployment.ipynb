{
 "cells": [
  {
   "cell_type": "code",
   "execution_count": 45,
   "id": "initial_id",
   "metadata": {
    "collapsed": true,
    "ExecuteTime": {
     "end_time": "2024-04-01T20:37:58.078816Z",
     "start_time": "2024-04-01T20:37:58.075207Z"
    }
   },
   "outputs": [],
   "source": [
    "import numpy as np\n",
    "import pandas as pd\n",
    "from pathlib import Path"
   ]
  },
  {
   "cell_type": "code",
   "outputs": [],
   "source": [
    "dates_to_visualize = [\n",
    "    \"2019-02\",\n",
    "    \"2020-02\",\n",
    "    \"2021-02\",\n",
    "    \"2022-02\",\n",
    "    # \"2023_02\",\n",
    "    # \"2024_02\",\n",
    "]"
   ],
   "metadata": {
    "collapsed": false,
    "ExecuteTime": {
     "end_time": "2024-04-01T20:37:58.084347Z",
     "start_time": "2024-04-01T20:37:58.080154Z"
    }
   },
   "id": "b9189c937778421d",
   "execution_count": 46
  },
  {
   "cell_type": "code",
   "outputs": [],
   "source": [
    "available_data_files = list(Path(\"metric_data/nel_deployment\").glob(\"*.parquet\"))\n",
    "\n",
    "used_data_files = filter(lambda file: file.stem in dates_to_visualize, available_data_files)"
   ],
   "metadata": {
    "collapsed": false,
    "ExecuteTime": {
     "end_time": "2024-04-01T20:37:58.089828Z",
     "start_time": "2024-04-01T20:37:58.085478Z"
    }
   },
   "id": "f26a03a98dd9f1b9",
   "execution_count": 47
  },
  {
   "cell_type": "code",
   "outputs": [
    {
     "data": {
      "text/plain": "      date total_crawled_resources total_crawled_domains  \\\n0  2019-02               351105672               5707189   \n0  2020-02               426587287               6636205   \n0  2021-02               607075754              10147089   \n0  2022-02               622531991              10363447   \n\n  total_crawled_resources_with_nel total_crawled_domains_with_nel  \\\n0                             2592                            382   \n0                           589195                         109644   \n0                         51156475                        1008393   \n0                         58326227                         973629   \n\n  total_crawled_resources_with_correct_nel  \\\n0                                     2532   \n0                                   588014   \n0                                 51150134   \n0                                 58267984   \n\n  total_crawled_domains_with_correct_nel  nel_percentage  \n0                                    370        0.006483  \n0                                 109604        1.651607  \n0                                1008105        9.934918  \n0                                 972168        9.380740  ",
      "text/html": "<div>\n<style scoped>\n    .dataframe tbody tr th:only-of-type {\n        vertical-align: middle;\n    }\n\n    .dataframe tbody tr th {\n        vertical-align: top;\n    }\n\n    .dataframe thead th {\n        text-align: right;\n    }\n</style>\n<table border=\"1\" class=\"dataframe\">\n  <thead>\n    <tr style=\"text-align: right;\">\n      <th></th>\n      <th>date</th>\n      <th>total_crawled_resources</th>\n      <th>total_crawled_domains</th>\n      <th>total_crawled_resources_with_nel</th>\n      <th>total_crawled_domains_with_nel</th>\n      <th>total_crawled_resources_with_correct_nel</th>\n      <th>total_crawled_domains_with_correct_nel</th>\n      <th>nel_percentage</th>\n    </tr>\n  </thead>\n  <tbody>\n    <tr>\n      <th>0</th>\n      <td>2019-02</td>\n      <td>351105672</td>\n      <td>5707189</td>\n      <td>2592</td>\n      <td>382</td>\n      <td>2532</td>\n      <td>370</td>\n      <td>0.006483</td>\n    </tr>\n    <tr>\n      <th>0</th>\n      <td>2020-02</td>\n      <td>426587287</td>\n      <td>6636205</td>\n      <td>589195</td>\n      <td>109644</td>\n      <td>588014</td>\n      <td>109604</td>\n      <td>1.651607</td>\n    </tr>\n    <tr>\n      <th>0</th>\n      <td>2021-02</td>\n      <td>607075754</td>\n      <td>10147089</td>\n      <td>51156475</td>\n      <td>1008393</td>\n      <td>51150134</td>\n      <td>1008105</td>\n      <td>9.934918</td>\n    </tr>\n    <tr>\n      <th>0</th>\n      <td>2022-02</td>\n      <td>622531991</td>\n      <td>10363447</td>\n      <td>58326227</td>\n      <td>973629</td>\n      <td>58267984</td>\n      <td>972168</td>\n      <td>9.380740</td>\n    </tr>\n  </tbody>\n</table>\n</div>"
     },
     "execution_count": 48,
     "metadata": {},
     "output_type": "execute_result"
    }
   ],
   "source": [
    "result = None\n",
    "for data_file in used_data_files:\n",
    "    data = pd.read_parquet(data_file)\n",
    "    \n",
    "    data[\"nel_percentage\"] = \\\n",
    "        np.uint32(data['total_crawled_domains_with_correct_nel']) / np.uint32(data['total_crawled_domains']) * 100 \n",
    "    \n",
    "    # Possible results:\n",
    "    #   incorrect nel\n",
    "    #   resources NEL share\n",
    "    #   ...\n",
    "    \n",
    "    if result is None and len(data) != 0:\n",
    "        result = data\n",
    "    else:\n",
    "        result = pd.concat([result, data])\n",
    "        \n",
    "result"
   ],
   "metadata": {
    "collapsed": false,
    "ExecuteTime": {
     "end_time": "2024-04-01T20:37:58.115803Z",
     "start_time": "2024-04-01T20:37:58.090973Z"
    }
   },
   "id": "72ac476a6ebe5890",
   "execution_count": 48
  }
 ],
 "metadata": {
  "kernelspec": {
   "display_name": "Python 3",
   "language": "python",
   "name": "python3"
  },
  "language_info": {
   "codemirror_mode": {
    "name": "ipython",
    "version": 2
   },
   "file_extension": ".py",
   "mimetype": "text/x-python",
   "name": "python",
   "nbconvert_exporter": "python",
   "pygments_lexer": "ipython2",
   "version": "2.7.6"
  }
 },
 "nbformat": 4,
 "nbformat_minor": 5
}
